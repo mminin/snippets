{
 "cells": [
  {
   "cell_type": "code",
   "execution_count": 33,
   "metadata": {
    "collapsed": true
   },
   "outputs": [],
   "source": [
    "COVERAGE = 'frt0000b385_07_if164'\n",
    "\n",
    "#get band name from wavelength\n",
    "bandsS = lambda nm: int((nm - 362    ) / 6.458 + 1.5)\n",
    "bandsL = lambda nm: int((nm - 1001.35) / 6.55  + 1.5)# depricated (incorrect, use lookup table instead)\n",
    "bandsLList=[1.00135, 1.0079, 1.01445, 1.021, 1.02755, 1.0341, 1.04065, 1.0472, 1.05375, 1.0603, 1.06685, 1.07341, 1.07996, 1.08651, 1.09307, 1.09962, 1.10617, 1.11273, 1.11928, 1.12584, 1.13239, 1.13895, 1.14551, 1.15206, 1.15862, 1.16518, 1.17173, 1.17829, 1.18485, 1.19141, 1.19797, 1.20453, 1.21109, 1.21765, 1.22421, 1.23077, 1.23733, 1.24389, 1.25045, 1.25701, 1.26357, 1.27014, 1.2767, 1.28326, 1.28983, 1.29639, 1.30295, 1.30952, 1.31608, 1.32265, 1.32921, 1.33578, 1.34234, 1.34891, 1.35548, 1.36205, 1.36861, 1.37518, 1.38175, 1.38832, 1.39489, 1.40145, 1.40802, 1.41459, 1.42116, 1.42773, 1.43431, 1.44088, 1.44745, 1.45402, 1.46059, 1.46716, 1.47374, 1.48031, 1.48688, 1.49346, 1.50003, 1.50661, 1.51318, 1.51976, 1.52633, 1.53291, 1.53948, 1.54606, 1.55264, 1.55921, 1.56579, 1.57237, 1.57895, 1.58552, 1.5921, 1.59868, 1.60526, 1.61184, 1.61842, 1.625, 1.63158, 1.63816, 1.64474, 1.65133, 1.65791, 1.66449, 1.67107, 1.67766, 1.68424, 1.69082, 1.69741, 1.70399, 1.71058, 1.71716, 1.72375, 1.73033, 1.73692, 1.74351, 1.75009, 1.75668, 1.76327, 1.76985, 1.77644, 1.78303, 1.78962, 1.79621, 1.8028, 1.80939, 1.81598, 1.82257, 1.82916, 1.83575, 1.84234, 1.84893, 1.85552, 1.86212, 1.86871, 1.8753, 1.8819, 1.88849, 1.89508, 1.90168, 1.90827, 1.91487, 1.92146, 1.92806, 1.93465, 1.94125, 1.94785, 1.95444, 1.96104, 1.96764, 1.97424, 1.98084, 1.98743, 1.99403, 2.00063, 2.00723, 2.01383, 2.02043, 2.02703, 2.03363, 2.04024, 2.04684, 2.05344, 2.06004, 2.06664, 2.07325, 2.07985, 2.08645, 2.09306, 2.09966, 2.10627, 2.11287, 2.11948, 2.12608, 2.13269, 2.1393, 2.1459, 2.15251, 2.15912, 2.16572, 2.17233, 2.17894, 2.18555, 2.19216, 2.19877, 2.20538, 2.21199, 2.2186, 2.22521, 2.23182, 2.23843, 2.24504, 2.25165, 2.25827, 2.26488, 2.27149, 2.2781, 2.28472, 2.29133, 2.29795, 2.30456, 2.31118, 2.31779, 2.32441, 2.33102, 2.33764, 2.34426, 2.35087, 2.35749, 2.36411, 2.37072, 2.37734, 2.38396, 2.39058, 2.3972, 2.40382, 2.41044, 2.41706, 2.42368, 2.4303, 2.43692, 2.44354, 2.45017, 2.45679, 2.46341, 2.47003, 2.47666, 2.48328, 2.4899, 2.49653, 2.50312, 2.50972, 2.51632, 2.52292, 2.52951, 2.53611, 2.54271, 2.54931, 2.55591, 2.56251, 2.56911, 2.57571, 2.58231, 2.58891, 2.59551, 2.60212, 2.60872, 2.61532, 2.62192, 2.62853, 2.63513, 2.64174, 2.64834, 2.65495, 2.66155, 2.66816, 2.67476, 2.68137, 2.68798, 2.69458, 2.70119, 2.76068, 2.76729, 2.7739, 2.78052, 2.78713, 2.79374, 2.80035, 2.80697, 2.81358, 2.8202, 2.82681, 2.83343, 2.84004, 2.84666, 2.85328, 2.85989, 2.86651, 2.87313, 2.87975, 2.88636, 2.89298, 2.8996, 2.90622, 2.91284, 2.91946, 2.92608, 2.9327, 2.93932, 2.94595, 2.95257, 2.95919, 2.96581, 2.97244, 2.97906, 2.98568, 2.99231, 2.99893, 3.00556, 3.01218, 3.01881, 3.02544, 3.03206, 3.03869, 3.04532, 3.05195, 3.05857, 3.0652, 3.07183, 3.07846, 3.08509, 3.09172, 3.09835, 3.10498, 3.11161, 3.11825, 3.12488, 3.13151, 3.13814, 3.14478, 3.15141, 3.15804, 3.16468, 3.17131, 3.17795, 3.18458, 3.19122, 3.19785, 3.20449, 3.21113, 3.21776, 3.2244, 3.23104, 3.23768, 3.24432, 3.25096, 3.2576, 3.26424, 3.27088, 3.27752, 3.28416, 3.2908, 3.29744, 3.30408, 3.31073, 3.31737, 3.32401, 3.33066, 3.3373, 3.34395, 3.35059, 3.35724, 3.36388, 3.37053, 3.37717, 3.38382, 3.39047, 3.39712, 3.40376, 3.41041, 3.41706, 3.42371, 3.43036, 3.43701, 3.44366, 3.45031, 3.45696, 3.46361, 3.47026, 3.47692, 3.48357, 3.49022, 3.49687, 3.50353, 3.51018, 3.51684, 3.52349, 3.53015, 3.5368, 3.54346, 3.55011, 3.55677, 3.56343, 3.57008, 3.57674, 3.5834, 3.59006, 3.59672, 3.60338, 3.61004, 3.6167, 3.62336, 3.63002, 3.63668, 3.64334, 3.65, 3.65667, 3.66333, 3.66999, 3.67665, 3.68332, 3.68998, 3.69665, 3.70331, 3.70998, 3.71664, 3.72331, 3.72998, 3.73664, 3.74331, 3.74998, 3.75665, 3.76331, 3.76998, 3.77665, 3.78332, 3.78999, 3.79666, 3.80333, 3.81, 3.81667, 3.82335, 3.83002, 3.83669, 3.84336, 3.85004, 3.85671, 3.86339, 3.87006, 3.87673, 3.88341, 3.89008, 3.89676, 3.90344, 3.91011, 3.91679, 3.92347, 3.93015, 3.93682, 4.0]\n",
    "bandsLListA = [int(a*1000+0.5) for a in bandsLList]\n",
    "bandsLListAw = lambda w: min(bandsLListA, key=lambda x:abs(x-w))\n",
    "bandsL=lambda w: bandsLListA.index(bandsLListAw(w))+1\n",
    "\n",
    "\n",
    "bandName = lambda band: 'data.band_' + str(band)\n",
    "f_R = lambda w: bandName(bandsL(w))\n",
    "\n",
    "WCPSaccess = 'http://access.planetserver.eu:8080/rasdaman/ows?service=WCS&version=2.0.1&request=ProcessCoverages&query='\n",
    "getQuery = lambda c, q: WCPSaccess + 'for data in ( ' + c + ' ) return ' + q + ';'\n",
    "tql = lambda q: getQuery(COVERAGE + 'l_trr3', q)\n",
    "tqs = lambda q: getQuery(COVERAGE + 's_trr3', q)\n",
    "\n",
    "f_add     = lambda d: 'add(' + d + ')'# total sum of all points #these should be replaced with maps\n",
    "f_avg     = lambda d: 'avg(' + d + ')'\n",
    "f_min     = lambda d: 'min(' + d + ')'\n",
    "f_max     = lambda d: 'max(' + d + ')'\n",
    "\n",
    "#f_count   = lambda d: 'count(' + d + ')' # number of points in b ==> i think this counts how many elements are not zero. It doesn't quite work\n",
    "#f_some    = lambda d: 'some(' + d + ')'  # is there any point in b with value true ==> no idea what this does\n",
    "#f_all     = lambda d: 'all(' + d + ')'  # is there any point in b with value true  ==> no idea what that does either\n",
    "\n",
    "f_sq      = lambda d: '((' + d + ') * (' + d + '))'\n",
    "f_sqrt    = lambda d: 'sqrt(' + d + ')'\n",
    "f_isnot   = lambda d, n: '(' + d + '!=' + n + ')'\n",
    "\n",
    "#encoding\n",
    "f_encode = lambda d, o_type, o_format: ' encode(' + '(' + o_type +') ' + d + ', ' + o_format + ',\"nodata=null\")'\n",
    "f_channelRGB = lambda r,g,b,t: '{red:'+'('+t+')('+r+');green:'+'('+t+')('+g+');blue:'+'('+t+')('+b+')}'\n",
    "f_encodeRGB = lambda r,g,b,o_type,o_format: ' encode('+f_channelRGB(r,g,b,o_type)+',' + o_format + ',\"nodata=null\")'\n",
    "\n",
    "#arithmetic\n",
    "f_times = lambda a,b: '(' + a + ' * ' + b + ')'\n",
    "f_over  = lambda a,b: '(' + a + ' / ' + b + ')'\n",
    "f_minus = lambda a,b: '(' + a + ' - ' + b + ')'\n",
    "f_plus  = lambda a,b: '(' + a + ' + ' + b + ')'\n",
    "\n",
    "\n",
    "# USER EXPANSION:\n",
    "NODATA = '65535' \t#assuming null value of 65535\n",
    "f_isNotNull = lambda d: f_isnot(d, NODATA)         # return ARRAY of bool, TRUE if NOT null \n",
    "f_nnVal     = lambda d: f_isNotNull(d) + ' * ' + d  # return ARRAY of not null values\n",
    "f_nnMask    = lambda d, m: f_isNotNull(m) + ' * ' + d  # return ARRAY of values in data where mask is not null\n",
    "f_nnSum     = lambda d: f_add( f_nnVal(d) )         # return SUM   of not null values\n",
    "f_nnCount   = lambda d: f_add( f_isNotNull(d) )     # return COUNT of not null values\n",
    "f_meanNnVal = lambda d: '(' + f_nnSum(d) + ' / ' + f_nnCount(d) + ')' # null-ignoring mean of the array #number\n",
    "\n",
    "# compute Standard Deviation on a dataset with null values of 65535\n",
    "f_devNnVal      = lambda d: f_nnMask(f_nnVal( d ) + ' - ' + f_meanNnVal( d ), d) #array\n",
    "f_sqDevNnVal    = lambda d: f_sq( f_devNnVal(d) ) #array\n",
    "f_sumSqDevNnVal = lambda d: f_add( f_sqDevNnVal(d) ) #number\n",
    "f_varianceNnVal = lambda d: '(' + f_sumSqDevNnVal(d) + ' / ' + f_nnCount(d) + ')' #number\n",
    "f_stdNnVal      = lambda d: f_sqrt( f_varianceNnVal(d) ) #number\n",
    "\n",
    "#normalization:\n",
    "f_normalize = lambda d, sigma: '(255 / ( 2 * ' + str(sigma) + ' * ' + f_stdNnVal(d) + ') * ( ' + d + ' - '  + f_min(d) + '))'\n",
    "\n",
    "#stretch:\n",
    "f_stretchMoveBottom=lambda d, n: f_minus(d,f_min( d ))+' * '+n\n",
    "f_stretchStretchTop=lambda d, n: f_over('255', f_max(f_stretchMoveBottom(d,n)))\n",
    "f_stretch= lambda d,n: f_times(f_stretchMoveBottom(d,n),f_stretchStretchTop(d,n))\n",
    "\n",
    "#no data mask\n",
    "nnMask_3  = lambda a,b,c: '('+a+' * '+b+' * '+c+')' #TRUE IF NOT NULL\n",
    "nnMaskWL_3  = lambda s,l,c: '('+f_isNotNull(bandName(bandsL(s)))+' * '+f_isNotNull(bandName(bandsL(l)))+' * '+f_isNotNull(bandName(bandsL(c)))+')'\n",
    "nnMaskWS_3  = lambda s,l,c: '('+f_isNotNull(bandName(bandsS(s)))+' * '+f_isNotNull(bandName(bandsS(l)))+' * '+f_isNotNull(bandName(bandsS(c)))+')'\n",
    "okMaskWS_3 = lambda s,l,c: '( 1 - ' + nnMaskWS_3(s,l,c) + ')' #TRUE IF NULL\n",
    "\n",
    "#wave ratio (commonly used by derived products)\n",
    "f_waveRatio = lambda c,s,l: float(c-s)/float(l-s) #f_waveRatio(c,s,l)\n",
    "\n",
    "#band depth\n",
    "f_BandDepthRcL = lambda c,s,l: f_plus(f_times(str(1-f_waveRatio(c,s,l)),bandName(bandsL(s))),f_times(str(f_waveRatio(c,s,l)),bandName(bandsL(l)))) #Rc=(a*Rs+b*Rl)\n",
    "f_BandDepthRcS = lambda c,s,l: f_plus(f_times(str(1-f_waveRatio(c,s,l)),bandName(bandsS(s))),f_times(str(f_waveRatio(c,s,l)),bandName(bandsS(l)))) #Rc=(a*Rs+b*Rl)\n",
    "f_BandDepthInvL = lambda c,s,l: f_over(bandName(bandsL(c)),f_BandDepthRcL(c,s,l))\n",
    "f_BandDepthInvS = lambda c,s,l: f_over(bandName(bandsS(c)),f_BandDepthRcS(c,s,l))\n",
    "f_BandDepthL = lambda c,s,l: f_minus('1', f_BandDepthInvL(c,s,l))\n",
    "f_BandDepthS = lambda c,s,l: f_minus('1', f_BandDepthInvS(c,s,l))\n",
    "\n",
    "#shoulder height\n",
    "f_waveRatio = lambda c,s,l: float(c-s)/float(l-s)\n",
    "f_ShoulderHeightRcL = lambda c,s,l: f_plus(f_times(str(1-f_waveRatio(c,s,l)),bandName(bandsL(s))),f_times(str(f_waveRatio(c,s,l)),bandName(bandsL(l)))) #Rc=(a*Rs+b*Rl)\n",
    "f_ShoulderHeightRcS = lambda c,s,l: f_plus(f_times(str(1-f_waveRatio(c,s,l)),bandName(bandsS(s))),f_times(str(f_waveRatio(c,s,l)),bandName(bandsS(l)))) #Rc=(a*Rs+b*Rl)\n",
    "f_ShoulderHeightInvL = lambda c,s,l: f_over(f_ShoulderHeightRcL(c,s,l),bandName(bandsL(c)))\n",
    "f_ShoulderHeightInvS = lambda c,s,l: f_over(f_ShoulderHeightRcS(c,s,l),bandName(bandsS(c)))\n",
    "f_ShoulderHeightL = lambda c,s,l: f_minus('1', f_ShoulderHeightInvL(c,s,l))\n",
    "f_ShoulderHeightS = lambda c,s,l: f_minus('1', f_ShoulderHeightInvS(c,s,l))\n",
    "\n",
    "#min/max stretch\n",
    "f_toStretch   = lambda d,n: f_plus(f_times(d,n), f_times('( 1 - ' + n + ')',NODATA)) \n",
    "f_toEncode    = lambda d,n:  f_stretch(f_toStretch(d,n),n)\n",
    "f_toEncode1S   = lambda c: f_toEncode( bandName(bandsS(c)), f_isNotNull( bandName(bandsS(c)) ))\n",
    "f_toEncode1L   = lambda c: f_stretch( bandName(bandsL(c)), f_isNotNull( bandName(bandsL(c)) ))\n",
    "f_toEncodeBD3S = lambda c,s,l: f_toEncode( f_BandDepthS(c,s,l),      nnMaskWS_3(c,s,l))\n",
    "f_toEncodeSH3S = lambda c,s,l: f_toEncode( f_ShoulderHeightS(c,s,l), nnMaskWS_3(c,s,l))\n",
    "f_toEncodeBD3L = lambda c,s,l: f_toEncode( f_BandDepthL(c,s,l),      nnMaskWL_3(c,s,l))\n",
    "f_toEncodeSH3L = lambda c,s,l: f_toEncode( f_ShoulderHeightL(c,s,l), nnMaskWL_3(c,s,l))\n",
    "f_toEncodeBD3Sinv = lambda c,s,l: f_toEncode( \"1-\" + f_BandDepthS(c,s,l),      nnMaskWS_3(c,s,l))\n",
    "f_toEncodeSH3Sinv = lambda c,s,l: f_toEncode( \"1-\" + f_ShoulderHeightS(c,s,l), nnMaskWS_3(c,s,l))\n",
    "f_toEncodeBD3Linv = lambda c,s,l: f_toEncode( \"1-\" + f_BandDepthL(c,s,l),      nnMaskWL_3(c,s,l))\n",
    "f_toEncodeSH3Linv = lambda c,s,l: f_toEncode( \"1-\" + f_ShoulderHeightL(c,s,l), nnMaskWL_3(c,s,l))\n",
    "\n",
    "#index products, i.e. broad absorption bands\n",
    "f_R = lambda w: bandName(bandsL(w))\n",
    "f_Rl = lambda w: bandName(bandsL(w))\n",
    "f_Rs = lambda w: bandName(bandsS(w))\n",
    "f_RCx = lambda c,s,l: f_plus( f_times(str(f_waveRatio(c,s,l)),f_minus(f_R(l),f_R(s))),f_R(s) )\n",
    "f_RBx = lambda c,s,l: f_over(f_minus(f_RCx(c,s,l),f_R(c)), f_RCx(c,s,l)  )\n",
    "f_indexRAW = lambda waveListTup,s,l: '(' + '+'.join( map(lambda t: f_RBx(t[0],s,l) + '*' + str(t[1]), waveListTup )) + ')'\n",
    "f_indexAllNNBandsList = lambda d,s,l: [item[0] for s in d] + [s,l]\n",
    "#f_indexNN = lambda waveListTup,s,l: '(' + ' * '.join( map(lambda t: f_isNotNull(bandName(bandsL(t))), [j[0] for j in waveListTup] + [s,l] )) + ')'\n",
    "f_indexNN = lambda waveList: '(' + ' * '.join( map(lambda c: f_isNotNull(f_R(c)), waveList )) + ')'\n",
    "f_indexNNl = lambda waveList: '(' + ' * '.join( map(lambda c: f_isNotNull(f_Rl(c)), waveList )) + ')'\n",
    "f_indexNNs = lambda waveList: '(' + ' * '.join( map(lambda c: f_isNotNull(f_Rs(c)), waveList )) + ')'\n",
    "f_toEncodeIndex = lambda waveListTup,s,l: f_toEncode(f_indexRAW(waveListTup,s,l),f_indexNN(waveListTup,s,l))\n",
    "\n",
    "# R/RC products\n",
    "f_RRCx = lambda c,s,l: f_over(f_RCx(c,s,l), f_R(c))\n",
    "f_sumRRCx = lambda cList, s, l: '+'.join(map(lambda c: f_RRCx(c,s,l),cList))\n",
    "\n",
    "#minimum products\n",
    "f_compare = lambda less, more: '(' + less + '<' + more + ')*' + less #returns less if less, returns zero if less is more\n",
    "f_minimum = lambda A,B: f_plus(f_compare(A,B), f_compare(B,A)) #returns lowest of the two\n",
    "\n",
    "#spectral median for 5 channel kernel\n",
    "f_isMed5 = lambda a,b,c,d,e: f_times(f_Rs(a),'(2=((0.0+('+f_Rs(a)+'<'+f_Rs(b)+')+('+f_Rs(a)+'<'+f_Rs(c)+')+('+f_Rs(a)+'<'+f_Rs(d)+')+('+f_Rs(a)+'<'+f_Rs(e)+'))))')\n",
    "f_med5 = lambda a,b,c,d,e: '('+f_isMed5(a,b,c,d,e)+'+'+f_isMed5(b,a,c,d,e)+'+'+f_isMed5(c,a,b,d,e)+'+'+f_isMed5(d,a,b,c,e)+'+'+f_isMed5(e,a,b,c,d)+')'\n",
    "f_med5s = lambda w: f_med5(w-2*6.458,w-6.458,w,w+6.458,w+2*6.458)\n",
    "f_med5sNN = lambda w: f_indexNNs([w-2*6.458,w-6.458,w,w+6.458,w+2*6.458])\n",
    "\n",
    "\n",
    "f_isMed5l = lambda a,b,c,d,e: f_times(f_Rl(a),'(2=((0.0+('+f_Rl(a)+'<'+f_Rl(b)+')+('+f_Rl(a)+'<'+f_Rl(c)+')+('+f_Rl(a)+'<'+f_Rl(d)+')+('+f_Rl(a)+'<'+f_Rl(e)+'))))')\n",
    "f_med5lprep = lambda a,b,c,d,e: '('+f_isMed5l(a,b,c,d,e)+'+'+f_isMed5l(b,a,c,d,e)+'+'+f_isMed5l(c,a,b,d,e)+'+'+f_isMed5l(d,a,b,c,e)+'+'+f_isMed5l(e,a,b,c,d)+')'\n",
    "f_med5l = lambda w: f_med5lprep(w-2*6.6,w-6.6,w,w+6.6,w+2*6.6)\n",
    "f_med5lNN = lambda w: f_indexNNl([w-2*6.6,w-6.6,w,w+6.6,w+2*6.6])\n",
    "\n",
    "#band depth spectral median with 5 channel kernels\n",
    "f_BandDepthRcLMed = lambda c,s,l: f_plus(f_times(str(1-f_waveRatio(c,s,l)),f_med5l(s)),f_times(str(f_waveRatio(c,s,l)),f_med5l(l)))\n",
    "f_BandDepthInvLMed = lambda c,s,l: f_over(f_med5l(c),f_BandDepthRcLMed(c,s,l))\n",
    "f_BandDepthLMed = lambda c,s,l: f_minus('1', f_BandDepthInvLMed(c,s,l))\n",
    "f_BandDepthLMedNN = lambda c,s,l: '('+f_med5lNN(c)+'*'+f_med5lNN(s)+'*'+f_med5lNN(l)+')'\n",
    "\n",
    "\n",
    "\n",
    "###########################\\ API ENDS /###################\n"
   ]
  },
  {
   "cell_type": "code",
   "execution_count": 3,
   "metadata": {
    "collapsed": false
   },
   "outputs": [
    {
     "name": "stdout",
     "output_type": "stream",
     "text": [
      "http://access.planetserver.eu:8080/rasdaman/ows?service=WCS&version=2.0.1&request=ProcessCoverages&query=for data in ( frt0000b385_07_if164s_trr3 ) return  encode((unsigned char) ((((data.band_64 * (data.band_64!=65535)) + (( 1 - (data.band_64!=65535)) * 65535)) - min(((data.band_64 * (data.band_64!=65535)) + (( 1 - (data.band_64!=65535)) * 65535)))) * (data.band_64!=65535) * (255 / max((((data.band_64 * (data.band_64!=65535)) + (( 1 - (data.band_64!=65535)) * 65535)) - min(((data.band_64 * (data.band_64!=65535)) + (( 1 - (data.band_64!=65535)) * 65535)))) * (data.band_64!=65535)))), \"jpg\",\"nodata=null\");\n"
     ]
    }
   ],
   "source": [
    "## VIVIANO-BECK summary products:\n",
    "\n",
    "#Product #1: R770 # higher value more dusty or icy # Sensitive to slope effects, clouds\n",
    "#Note: this product uses *median* of the 5 channels... I don't know how to do median on rasdaman.\n",
    "#QUESTION: How do i find median on RASDAMAN?\n",
    "print tqs(f_encode( f_toEncode1S(770) , 'unsigned char', '\"jpg\"'))"
   ]
  },
  {
   "cell_type": "code",
   "execution_count": 4,
   "metadata": {
    "collapsed": false
   },
   "outputs": [
    {
     "name": "stdout",
     "output_type": "stream",
     "text": [
      "http://access.planetserver.eu:8080/rasdaman/ows?service=WCS&version=2.0.1&request=ProcessCoverages&query=for data in ( frt0000b385_07_if164s_trr3 ) return  encode((unsigned char) (((((data.band_64 / data.band_13) * ((data.band_64!=65535) * (data.band_13!=65535))) + (( 1 - ((data.band_64!=65535) * (data.band_13!=65535))) * 65535)) - min((((data.band_64 / data.band_13) * ((data.band_64!=65535) * (data.band_13!=65535))) + (( 1 - ((data.band_64!=65535) * (data.band_13!=65535))) * 65535)))) * ((data.band_64!=65535) * (data.band_13!=65535)) * (255 / max(((((data.band_64 / data.band_13) * ((data.band_64!=65535) * (data.band_13!=65535))) + (( 1 - ((data.band_64!=65535) * (data.band_13!=65535))) * 65535)) - min((((data.band_64 / data.band_13) * ((data.band_64!=65535) * (data.band_13!=65535))) + (( 1 - ((data.band_64!=65535) * (data.band_13!=65535))) * 65535)))) * ((data.band_64!=65535) * (data.band_13!=65535))))), \"jpg\",\"nodata=null\");\n"
     ]
    }
   ],
   "source": [
    "#Product #2: RBR = R770/R440 # Red/blue ratio # higer value indicates more npFeOx # Sensitive to dust in atmosphere\n",
    "RBRd = f_over(bandName(bandsS(770)),bandName(bandsS(440)))\n",
    "RBRn = f_times( f_isNotNull(bandName(bandsS(770))), f_isNotNull(bandName(bandsS(440))) )\n",
    "print tqs(f_encode( f_toEncode( RBRd, RBRn) , 'unsigned char', '\"jpg\"'))"
   ]
  },
  {
   "cell_type": "code",
   "execution_count": 6,
   "metadata": {
    "collapsed": false
   },
   "outputs": [
    {
     "name": "stdout",
     "output_type": "stream",
     "text": [
      "http://access.planetserver.eu:8080/rasdaman/ows?service=WCS&version=2.0.1&request=ProcessCoverages&query=for data in ( frt0000b385_07_if164s_trr3 ) return  encode((unsigned char) (((((1 - (data.band_27 / ((0.326086956522 * data.band_56) + (0.673913043478 * data.band_13)))) * ((data.band_27!=65535) * (data.band_56!=65535) * (data.band_13!=65535))) + (( 1 - ((data.band_27!=65535) * (data.band_56!=65535) * (data.band_13!=65535))) * 65535)) - min((((1 - (data.band_27 / ((0.326086956522 * data.band_56) + (0.673913043478 * data.band_13)))) * ((data.band_27!=65535) * (data.band_56!=65535) * (data.band_13!=65535))) + (( 1 - ((data.band_27!=65535) * (data.band_56!=65535) * (data.band_13!=65535))) * 65535)))) * ((data.band_27!=65535) * (data.band_56!=65535) * (data.band_13!=65535)) * (255 / max(((((1 - (data.band_27 / ((0.326086956522 * data.band_56) + (0.673913043478 * data.band_13)))) * ((data.band_27!=65535) * (data.band_56!=65535) * (data.band_13!=65535))) + (( 1 - ((data.band_27!=65535) * (data.band_56!=65535) * (data.band_13!=65535))) * 65535)) - min((((1 - (data.band_27 / ((0.326086956522 * data.band_56) + (0.673913043478 * data.band_13)))) * ((data.band_27!=65535) * (data.band_56!=65535) * (data.band_13!=65535))) + (( 1 - ((data.band_27!=65535) * (data.band_56!=65535) * (data.band_13!=65535))) * 65535)))) * ((data.band_27!=65535) * (data.band_56!=65535) * (data.band_13!=65535))))), \"jpg\",\"nodata=null\");\n"
     ]
    }
   ],
   "source": [
    "#Product #3: BD530_2 = BD of 530 over 716 to 440. # Higher value has more fine-grained crystalline hematite\n",
    "#BD530_2 = 1-(R530/(a*R716+b*R440));\n",
    "#BD530_2 = 1-(R530/Rc)#Needs function computeRc\n",
    "#Rc=(a*Rs+b*Rl) # c=530, s=716, l=440\n",
    "#b=(c-s)/(l-s)\n",
    "print tqs(f_encode( f_toEncodeBD3S(530,716,440) , 'unsigned char', '\"jpg\"'))"
   ]
  },
  {
   "cell_type": "code",
   "execution_count": 7,
   "metadata": {
    "collapsed": false
   },
   "outputs": [
    {
     "name": "stdout",
     "output_type": "stream",
     "text": [
      "http://access.planetserver.eu:8080/rasdaman/ows?service=WCS&version=2.0.1&request=ProcessCoverages&query=for data in ( frt0000b385_07_if164s_trr3 ) return  encode((unsigned char) (((((1 - (((0.633879781421 * data.band_27) + (0.366120218579 * data.band_56)) / data.band_38)) * ((data.band_38!=65535) * (data.band_27!=65535) * (data.band_56!=65535))) + (( 1 - ((data.band_38!=65535) * (data.band_27!=65535) * (data.band_56!=65535))) * 65535)) - min((((1 - (((0.633879781421 * data.band_27) + (0.366120218579 * data.band_56)) / data.band_38)) * ((data.band_38!=65535) * (data.band_27!=65535) * (data.band_56!=65535))) + (( 1 - ((data.band_38!=65535) * (data.band_27!=65535) * (data.band_56!=65535))) * 65535)))) * ((data.band_38!=65535) * (data.band_27!=65535) * (data.band_56!=65535)) * (255 / max(((((1 - (((0.633879781421 * data.band_27) + (0.366120218579 * data.band_56)) / data.band_38)) * ((data.band_38!=65535) * (data.band_27!=65535) * (data.band_56!=65535))) + (( 1 - ((data.band_38!=65535) * (data.band_27!=65535) * (data.band_56!=65535))) * 65535)) - min((((1 - (((0.633879781421 * data.band_27) + (0.366120218579 * data.band_56)) / data.band_38)) * ((data.band_38!=65535) * (data.band_27!=65535) * (data.band_56!=65535))) + (( 1 - ((data.band_38!=65535) * (data.band_27!=65535) * (data.band_56!=65535))) * 65535)))) * ((data.band_38!=65535) * (data.band_27!=65535) * (data.band_56!=65535))))), \"jpg\",\"nodata=null\");\n",
      "http://access.planetserver.eu:8080/rasdaman/ows?service=WCS&version=2.0.1&request=ProcessCoverages&query=for data in ( frt0000b385_07_if164s_trr3 ) return  encode((unsigned char) ((((1-(1 - (data.band_38 / ((0.633879781421 * data.band_27) + (0.366120218579 * data.band_56)))) * ((data.band_38!=65535) * (data.band_27!=65535) * (data.band_56!=65535))) + (( 1 - ((data.band_38!=65535) * (data.band_27!=65535) * (data.band_56!=65535))) * 65535)) - min(((1-(1 - (data.band_38 / ((0.633879781421 * data.band_27) + (0.366120218579 * data.band_56)))) * ((data.band_38!=65535) * (data.band_27!=65535) * (data.band_56!=65535))) + (( 1 - ((data.band_38!=65535) * (data.band_27!=65535) * (data.band_56!=65535))) * 65535)))) * ((data.band_38!=65535) * (data.band_27!=65535) * (data.band_56!=65535)) * (255 / max((((1-(1 - (data.band_38 / ((0.633879781421 * data.band_27) + (0.366120218579 * data.band_56)))) * ((data.band_38!=65535) * (data.band_27!=65535) * (data.band_56!=65535))) + (( 1 - ((data.band_38!=65535) * (data.band_27!=65535) * (data.band_56!=65535))) * 65535)) - min(((1-(1 - (data.band_38 / ((0.633879781421 * data.band_27) + (0.366120218579 * data.band_56)))) * ((data.band_38!=65535) * (data.band_27!=65535) * (data.band_56!=65535))) + (( 1 - ((data.band_38!=65535) * (data.band_27!=65535) * (data.band_56!=65535))) * 65535)))) * ((data.band_38!=65535) * (data.band_27!=65535) * (data.band_56!=65535))))), \"jpg\",\"nodata=null\");\n"
     ]
    }
   ],
   "source": [
    "#Product #4: SH600_2 = 600 shoulder height over 533 to 716 \n",
    "#Select ferric minerals (scpecially hematite and goethite) or compacted texture) [see Fischer and Pieters 1993]\n",
    "#Sensitive to high opacity in atmosphere\n",
    "\n",
    "print tqs(f_encode( f_toEncodeSH3S(600,533,716) , 'unsigned char', '\"jpg\"'))\n",
    "\n",
    "print tqs(f_encode( f_toEncodeBD3Sinv(600,533,716) , 'unsigned char', '\"jpg\"'))"
   ]
  },
  {
   "cell_type": "code",
   "execution_count": 8,
   "metadata": {
    "collapsed": false
   },
   "outputs": [
    {
     "name": "stdout",
     "output_type": "stream",
     "text": [
      "http://access.planetserver.eu:8080/rasdaman/ows?service=WCS&version=2.0.1&request=ProcessCoverages&query=for data in ( frt0000b385_07_if164s_trr3 ) return  encode((unsigned char) (((((1 - (((0.590277777778 * data.band_56) + (0.409722222222 * data.band_78)) / data.band_65)) * ((data.band_65!=65535) * (data.band_56!=65535) * (data.band_78!=65535))) + (( 1 - ((data.band_65!=65535) * (data.band_56!=65535) * (data.band_78!=65535))) * 65535)) - min((((1 - (((0.590277777778 * data.band_56) + (0.409722222222 * data.band_78)) / data.band_65)) * ((data.band_65!=65535) * (data.band_56!=65535) * (data.band_78!=65535))) + (( 1 - ((data.band_65!=65535) * (data.band_56!=65535) * (data.band_78!=65535))) * 65535)))) * ((data.band_65!=65535) * (data.band_56!=65535) * (data.band_78!=65535)) * (255 / max(((((1 - (((0.590277777778 * data.band_56) + (0.409722222222 * data.band_78)) / data.band_65)) * ((data.band_65!=65535) * (data.band_56!=65535) * (data.band_78!=65535))) + (( 1 - ((data.band_65!=65535) * (data.band_56!=65535) * (data.band_78!=65535))) * 65535)) - min((((1 - (((0.590277777778 * data.band_56) + (0.409722222222 * data.band_78)) / data.band_65)) * ((data.band_65!=65535) * (data.band_56!=65535) * (data.band_78!=65535))) + (( 1 - ((data.band_65!=65535) * (data.band_56!=65535) * (data.band_78!=65535))) * 65535)))) * ((data.band_65!=65535) * (data.band_56!=65535) * (data.band_78!=65535))))), \"jpg\",\"nodata=null\");\n",
      "http://access.planetserver.eu:8080/rasdaman/ows?service=WCS&version=2.0.1&request=ProcessCoverages&query=for data in ( frt0000b385_07_if164s_trr3 ) return  encode((unsigned char) ((((1-(1 - (data.band_65 / ((0.590277777778 * data.band_56) + (0.409722222222 * data.band_78)))) * ((data.band_65!=65535) * (data.band_56!=65535) * (data.band_78!=65535))) + (( 1 - ((data.band_65!=65535) * (data.band_56!=65535) * (data.band_78!=65535))) * 65535)) - min(((1-(1 - (data.band_65 / ((0.590277777778 * data.band_56) + (0.409722222222 * data.band_78)))) * ((data.band_65!=65535) * (data.band_56!=65535) * (data.band_78!=65535))) + (( 1 - ((data.band_65!=65535) * (data.band_56!=65535) * (data.band_78!=65535))) * 65535)))) * ((data.band_65!=65535) * (data.band_56!=65535) * (data.band_78!=65535)) * (255 / max((((1-(1 - (data.band_65 / ((0.590277777778 * data.band_56) + (0.409722222222 * data.band_78)))) * ((data.band_65!=65535) * (data.band_56!=65535) * (data.band_78!=65535))) + (( 1 - ((data.band_65!=65535) * (data.band_56!=65535) * (data.band_78!=65535))) * 65535)) - min(((1-(1 - (data.band_65 / ((0.590277777778 * data.band_56) + (0.409722222222 * data.band_78)))) * ((data.band_65!=65535) * (data.band_56!=65535) * (data.band_78!=65535))) + (( 1 - ((data.band_65!=65535) * (data.band_56!=65535) * (data.band_78!=65535))) * 65535)))) * ((data.band_65!=65535) * (data.band_56!=65535) * (data.band_78!=65535))))), \"jpg\",\"nodata=null\");\n"
     ]
    }
   ],
   "source": [
    "#Product #5: SH770 =  SH775 over 716 to 860 \n",
    "# Select ferric minerals, less sensitive to LCP than SH600_2\n",
    "#Sensitive to high opacity in atmosphere\n",
    "\n",
    "print tqs(f_encode( f_toEncodeSH3S(775,716,860) , 'unsigned char', '\"jpg\"'))\n",
    "\n",
    "print tqs(f_encode( f_toEncodeBD3Sinv(775,716,860) , 'unsigned char', '\"jpg\"'))"
   ]
  },
  {
   "cell_type": "code",
   "execution_count": 9,
   "metadata": {
    "collapsed": false
   },
   "outputs": [
    {
     "name": "stdout",
     "output_type": "stream",
     "text": [
      "http://access.planetserver.eu:8080/rasdaman/ows?service=WCS&version=2.0.1&request=ProcessCoverages&query=for data in ( frt0000b385_07_if164s_trr3 ) return  encode((unsigned char) (((((1 - (data.band_42 / ((0.85 * data.band_38) + (0.15 * data.band_63)))) * ((data.band_42!=65535) * (data.band_38!=65535) * (data.band_63!=65535))) + (( 1 - ((data.band_42!=65535) * (data.band_38!=65535) * (data.band_63!=65535))) * 65535)) - min((((1 - (data.band_42 / ((0.85 * data.band_38) + (0.15 * data.band_63)))) * ((data.band_42!=65535) * (data.band_38!=65535) * (data.band_63!=65535))) + (( 1 - ((data.band_42!=65535) * (data.band_38!=65535) * (data.band_63!=65535))) * 65535)))) * ((data.band_42!=65535) * (data.band_38!=65535) * (data.band_63!=65535)) * (255 / max(((((1 - (data.band_42 / ((0.85 * data.band_38) + (0.15 * data.band_63)))) * ((data.band_42!=65535) * (data.band_38!=65535) * (data.band_63!=65535))) + (( 1 - ((data.band_42!=65535) * (data.band_38!=65535) * (data.band_63!=65535))) * 65535)) - min((((1 - (data.band_42 / ((0.85 * data.band_38) + (0.15 * data.band_63)))) * ((data.band_42!=65535) * (data.band_38!=65535) * (data.band_63!=65535))) + (( 1 - ((data.band_42!=65535) * (data.band_38!=65535) * (data.band_63!=65535))) * 65535)))) * ((data.band_42!=65535) * (data.band_38!=65535) * (data.band_63!=65535))))), \"jpg\",\"nodata=null\");\n"
     ]
    }
   ],
   "source": [
    "#Product #6: BD640_2: BD624 over 600 to 760\n",
    "# Select ferric minerals (especially maghemite)\n",
    "# Obscured by VNIR detector artifact\n",
    "\n",
    "print tqs(f_encode( f_toEncodeBD3S(624,600,760) , 'unsigned char', '\"jpg\"'))"
   ]
  },
  {
   "cell_type": "code",
   "execution_count": 10,
   "metadata": {
    "collapsed": false
   },
   "outputs": [
    {
     "name": "stdout",
     "output_type": "stream",
     "text": [
      "http://access.planetserver.eu:8080/rasdaman/ows?service=WCS&version=2.0.1&request=ProcessCoverages&query=for data in ( frt0000b385_07_if164s_trr3 ) return  encode((unsigned char) (((((1 - (data.band_78 / ((0.527027027027 * data.band_62) + (0.472972972973 * data.band_96)))) * ((data.band_78!=65535) * (data.band_62!=65535) * (data.band_96!=65535))) + (( 1 - ((data.band_78!=65535) * (data.band_62!=65535) * (data.band_96!=65535))) * 65535)) - min((((1 - (data.band_78 / ((0.527027027027 * data.band_62) + (0.472972972973 * data.band_96)))) * ((data.band_78!=65535) * (data.band_62!=65535) * (data.band_96!=65535))) + (( 1 - ((data.band_78!=65535) * (data.band_62!=65535) * (data.band_96!=65535))) * 65535)))) * ((data.band_78!=65535) * (data.band_62!=65535) * (data.band_96!=65535)) * (255 / max(((((1 - (data.band_78 / ((0.527027027027 * data.band_62) + (0.472972972973 * data.band_96)))) * ((data.band_78!=65535) * (data.band_62!=65535) * (data.band_96!=65535))) + (( 1 - ((data.band_78!=65535) * (data.band_62!=65535) * (data.band_96!=65535))) * 65535)) - min((((1 - (data.band_78 / ((0.527027027027 * data.band_62) + (0.472972972973 * data.band_96)))) * ((data.band_78!=65535) * (data.band_62!=65535) * (data.band_96!=65535))) + (( 1 - ((data.band_78!=65535) * (data.band_62!=65535) * (data.band_96!=65535))) * 65535)))) * ((data.band_78!=65535) * (data.band_62!=65535) * (data.band_96!=65535))))), \"jpg\",\"nodata=null\");\n"
     ]
    }
   ],
   "source": [
    "#Product #7: BD860_2: BD860 over 755 to 977\n",
    "# Select crystalline ferric minerals (especially hematite)\n",
    "# Ok\n",
    "\n",
    "print tqs(f_encode( f_toEncodeBD3S(860,755,977) , 'unsigned char', '\"jpg\"'))"
   ]
  },
  {
   "cell_type": "code",
   "execution_count": 11,
   "metadata": {
    "collapsed": false
   },
   "outputs": [
    {
     "name": "stdout",
     "output_type": "stream",
     "text": [
      "http://access.planetserver.eu:8080/rasdaman/ows?service=WCS&version=2.0.1&request=ProcessCoverages&query=for data in ( frt0000b385_07_if164s_trr3 ) return  encode((unsigned char) (((((1 - (data.band_87 / ((0.361581920904 * data.band_70) + (0.638418079096 * data.band_97)))) * ((data.band_87!=65535) * (data.band_70!=65535) * (data.band_97!=65535))) + (( 1 - ((data.band_87!=65535) * (data.band_70!=65535) * (data.band_97!=65535))) * 65535)) - min((((1 - (data.band_87 / ((0.361581920904 * data.band_70) + (0.638418079096 * data.band_97)))) * ((data.band_87!=65535) * (data.band_70!=65535) * (data.band_97!=65535))) + (( 1 - ((data.band_87!=65535) * (data.band_70!=65535) * (data.band_97!=65535))) * 65535)))) * ((data.band_87!=65535) * (data.band_70!=65535) * (data.band_97!=65535)) * (255 / max(((((1 - (data.band_87 / ((0.361581920904 * data.band_70) + (0.638418079096 * data.band_97)))) * ((data.band_87!=65535) * (data.band_70!=65535) * (data.band_97!=65535))) + (( 1 - ((data.band_87!=65535) * (data.band_70!=65535) * (data.band_97!=65535))) * 65535)) - min((((1 - (data.band_87 / ((0.361581920904 * data.band_70) + (0.638418079096 * data.band_97)))) * ((data.band_87!=65535) * (data.band_70!=65535) * (data.band_97!=65535))) + (( 1 - ((data.band_87!=65535) * (data.band_70!=65535) * (data.band_97!=65535))) * 65535)))) * ((data.band_87!=65535) * (data.band_70!=65535) * (data.band_97!=65535))))), \"jpg\",\"nodata=null\");\n",
      "http://access.planetserver.eu:8080/rasdaman/ows?service=WCS&version=2.0.1&request=ProcessCoverages&query=for data in ( frt0000b385_07_if164s_trr3 ) return  encode((unsigned char) ((((1-(1 - (data.band_87 / ((0.361581920904 * data.band_70) + (0.638418079096 * data.band_97)))) * ((data.band_87!=65535) * (data.band_70!=65535) * (data.band_97!=65535))) + (( 1 - ((data.band_87!=65535) * (data.band_70!=65535) * (data.band_97!=65535))) * 65535)) - min(((1-(1 - (data.band_87 / ((0.361581920904 * data.band_70) + (0.638418079096 * data.band_97)))) * ((data.band_87!=65535) * (data.band_70!=65535) * (data.band_97!=65535))) + (( 1 - ((data.band_87!=65535) * (data.band_70!=65535) * (data.band_97!=65535))) * 65535)))) * ((data.band_87!=65535) * (data.band_70!=65535) * (data.band_97!=65535)) * (255 / max((((1-(1 - (data.band_87 / ((0.361581920904 * data.band_70) + (0.638418079096 * data.band_97)))) * ((data.band_87!=65535) * (data.band_70!=65535) * (data.band_97!=65535))) + (( 1 - ((data.band_87!=65535) * (data.band_70!=65535) * (data.band_97!=65535))) * 65535)) - min(((1-(1 - (data.band_87 / ((0.361581920904 * data.band_70) + (0.638418079096 * data.band_97)))) * ((data.band_87!=65535) * (data.band_70!=65535) * (data.band_97!=65535))) + (( 1 - ((data.band_87!=65535) * (data.band_70!=65535) * (data.band_97!=65535))) * 65535)))) * ((data.band_87!=65535) * (data.band_70!=65535) * (data.band_97!=65535))))), \"jpg\",\"nodata=null\");\n"
     ]
    }
   ],
   "source": [
    "#Product #8: BD920_2: BD920 over 807 to 984\n",
    "# Crystalline ferric minerals and LCP\n",
    "# Ok\n",
    "\n",
    "print tqs(f_encode( f_toEncodeBD3S(920,807,984) , 'unsigned char', '\"jpg\"'))\n",
    "print tqs(f_encode( f_toEncodeBD3Sinv(920,807,984) , 'unsigned char', '\"jpg\"'))"
   ]
  },
  {
   "cell_type": "code",
   "execution_count": 12,
   "metadata": {
    "collapsed": true
   },
   "outputs": [],
   "source": [
    "#Product #9: required fininding the first derivative of a best fit 5th order polynomial. No idea how to do this in Rasdaman\n",
    "\n",
    "#Product #10: requires Product #9\n",
    "\n",
    "#Product #11: requires integrating"
   ]
  },
  {
   "cell_type": "code",
   "execution_count": 13,
   "metadata": {
    "collapsed": false
   },
   "outputs": [
    {
     "name": "stdout",
     "output_type": "stream",
     "text": [
      "http://access.planetserver.eu:8080/rasdaman/ows?service=WCS&version=2.0.1&request=ProcessCoverages&query=for data in ( frt0000b385_07_if164l_trr3 ) return  encode((unsigned char) ((data.band_51 - min(data.band_51)) * (data.band_51!=65535) * (255 / max((data.band_51 - min(data.band_51)) * (data.band_51!=65535)))), \"jpg\",\"nodata=null\");\n"
     ]
    }
   ],
   "source": [
    "#Product #12: R1330\n",
    "# IR albedo: ices > dust > unaltered mafics\n",
    "# no caveats\n",
    "print tql(f_encode( f_toEncode1L(1330) , 'unsigned char', '\"jpg\"'))"
   ]
  },
  {
   "cell_type": "code",
   "execution_count": 14,
   "metadata": {
    "collapsed": false
   },
   "outputs": [
    {
     "name": "stdout",
     "output_type": "stream",
     "text": [
      "http://access.planetserver.eu:8080/rasdaman/ows?service=WCS&version=2.0.1&request=ProcessCoverages&query=for data in ( frt0000b385_07_if164l_trr3 ) return  encode((unsigned char) (((((1 - (data.band_50 / ((0.641791044776 * data.band_13) + (0.358208955224 * data.band_115)))) * ((data.band_50!=65535) * (data.band_13!=65535) * (data.band_115!=65535))) + (( 1 - ((data.band_50!=65535) * (data.band_13!=65535) * (data.band_115!=65535))) * 65535)) - min((((1 - (data.band_50 / ((0.641791044776 * data.band_13) + (0.358208955224 * data.band_115)))) * ((data.band_50!=65535) * (data.band_13!=65535) * (data.band_115!=65535))) + (( 1 - ((data.band_50!=65535) * (data.band_13!=65535) * (data.band_115!=65535))) * 65535)))) * ((data.band_50!=65535) * (data.band_13!=65535) * (data.band_115!=65535)) * (255 / max(((((1 - (data.band_50 / ((0.641791044776 * data.band_13) + (0.358208955224 * data.band_115)))) * ((data.band_50!=65535) * (data.band_13!=65535) * (data.band_115!=65535))) + (( 1 - ((data.band_50!=65535) * (data.band_13!=65535) * (data.band_115!=65535))) * 65535)) - min((((1 - (data.band_50 / ((0.641791044776 * data.band_13) + (0.358208955224 * data.band_115)))) * ((data.band_50!=65535) * (data.band_13!=65535) * (data.band_115!=65535))) + (( 1 - ((data.band_50!=65535) * (data.band_13!=65535) * (data.band_115!=65535))) * 65535)))) * ((data.band_50!=65535) * (data.band_13!=65535) * (data.band_115!=65535))))), \"jpg\",\"nodata=null\");\n",
      "http://access.planetserver.eu:8080/rasdaman/ows?service=WCS&version=2.0.1&request=ProcessCoverages&query=for data in ( frt0000b385_07_if164s_trr3 ) return  encode((unsigned char) (1 - (data.band_50 / ((0.641791044776 * data.band_13) + (0.358208955224 * data.band_115)))), \"jpg\",\"nodata=null\");\n"
     ]
    }
   ],
   "source": [
    "#Product #13: BD1300: BD 1320 over 1080 to 1750: (1320,1080,1750)\n",
    "#1.3 um absorption associated with Fe2+ substitution in plagioclase\n",
    "#Plagioclase with Fe2+ substitution\n",
    "#Caveats: Fe-Olivine can be > 0\n",
    "\n",
    "print tql(f_encode( f_toEncodeBD3L(1320,1080,1750) , 'unsigned char', '\"jpg\"'))\n",
    "\n",
    "\n",
    "print tqs(f_encode( f_BandDepthL(1320,1080,1750) , 'unsigned char', '\"jpg\"'))\n",
    "#f_BandDepthL(c,s,l)"
   ]
  },
  {
   "cell_type": "code",
   "execution_count": 59,
   "metadata": {
    "collapsed": false
   },
   "outputs": [
    {
     "name": "stdout",
     "output_type": "stream",
     "text": [
      "http://access.planetserver.eu:8080/rasdaman/ows?service=WCS&version=2.0.1&request=ProcessCoverages&query=for data in ( frt0000b385_07_if164l_trr3 ) return  encode((float) (((((((((-1.03076923077 * (data.band_213 - data.band_115)) + data.band_115) - data.band_13) / ((-1.03076923077 * (data.band_213 - data.band_115)) + data.band_115)) * 0.03 + ((((-0.92 * (data.band_213 - data.band_115)) + data.band_115) - data.band_24) / ((-0.92 * (data.band_213 - data.band_115)) + data.band_115)) * 0.03 + ((((-0.830769230769 * (data.band_213 - data.band_115)) + data.band_115) - data.band_33) / ((-0.830769230769 * (data.band_213 - data.band_115)) + data.band_115)) * 0.03 +((((-0.769230769231 * (data.band_213 - data.band_115)) + data.band_115) - data.band_39) / ((-0.769230769231 * (data.band_213 - data.band_115)) + data.band_115))* 0.03 +((((-0.749230769231 * (data.band_213 - data.band_115)) + data.band_115) - data.band_41) / ((-0.749230769231 * (data.band_213 - data.band_115)) + data.band_115)) * 0.07 + ((((-0.729230769231 * (data.band_213 - data.band_115)) + data.band_115) - data.band_43) / ((-0.729230769231 * (data.band_213 - data.band_115)) + data.band_115)) * 0.07 + ((((-0.646153846154 * (data.band_213 - data.band_115)) + data.band_115) - data.band_51) / ((-0.646153846154 * (data.band_213 - data.band_115)) + data.band_115)) * 0.12 + ((((-0.587692307692 * (data.band_213 - data.band_115)) + data.band_115) - data.band_57) / ((-0.587692307692 * (data.band_213 - data.band_115)) + data.band_115)) * 0.12 + ((((-0.546153846154 * (data.band_213 - data.band_115)) + data.band_115) - data.band_61) / ((-0.546153846154 * (data.band_213 - data.band_115)) + data.band_115)) * 0.14 + ((((-0.496923076923 * (data.band_213 - data.band_115)) + data.band_115) - data.band_66) / ((-0.496923076923 * (data.band_213 - data.band_115)) + data.band_115)) * 0.18 + ((((-0.430769230769 * (data.band_213 - data.band_115)) + data.band_115) - data.band_72) / ((-0.430769230769 * (data.band_213 - data.band_115)) + data.band_115)) * 0.18) * ((data.band_115!=65535) * (data.band_213!=65535) * (data.band_13!=65535) * (data.band_24!=65535) * (data.band_33!=65535) * (data.band_39!=65535) * (data.band_41!=65535) * (data.band_43!=65535) * (data.band_51!=65535) * (data.band_57!=65535) * (data.band_61!=65535) * (data.band_66!=65535) * (data.band_72!=65535))) + (( 1 - ((data.band_115!=65535) * (data.band_213!=65535) * (data.band_13!=65535) * (data.band_24!=65535) * (data.band_33!=65535) * (data.band_39!=65535) * (data.band_41!=65535) * (data.band_43!=65535) * (data.band_51!=65535) * (data.band_57!=65535) * (data.band_61!=65535) * (data.band_66!=65535) * (data.band_72!=65535))) * 65535)) - min((((((((-1.03076923077 * (data.band_213 - data.band_115)) + data.band_115) - data.band_13) / ((-1.03076923077 * (data.band_213 - data.band_115)) + data.band_115)) * 0.03 + ((((-0.92 * (data.band_213 - data.band_115)) + data.band_115) - data.band_24) / ((-0.92 * (data.band_213 - data.band_115)) + data.band_115)) * 0.03 + ((((-0.830769230769 * (data.band_213 - data.band_115)) + data.band_115) - data.band_33) / ((-0.830769230769 * (data.band_213 - data.band_115)) + data.band_115)) * 0.03 +((((-0.769230769231 * (data.band_213 - data.band_115)) + data.band_115) - data.band_39) / ((-0.769230769231 * (data.band_213 - data.band_115)) + data.band_115))* 0.03 +((((-0.749230769231 * (data.band_213 - data.band_115)) + data.band_115) - data.band_41) / ((-0.749230769231 * (data.band_213 - data.band_115)) + data.band_115)) * 0.07 + ((((-0.729230769231 * (data.band_213 - data.band_115)) + data.band_115) - data.band_43) / ((-0.729230769231 * (data.band_213 - data.band_115)) + data.band_115)) * 0.07 + ((((-0.646153846154 * (data.band_213 - data.band_115)) + data.band_115) - data.band_51) / ((-0.646153846154 * (data.band_213 - data.band_115)) + data.band_115)) * 0.12 + ((((-0.587692307692 * (data.band_213 - data.band_115)) + data.band_115) - data.band_57) / ((-0.587692307692 * (data.band_213 - data.band_115)) + data.band_115)) * 0.12 + ((((-0.546153846154 * (data.band_213 - data.band_115)) + data.band_115) - data.band_61) / ((-0.546153846154 * (data.band_213 - data.band_115)) + data.band_115)) * 0.14 + ((((-0.496923076923 * (data.band_213 - data.band_115)) + data.band_115) - data.band_66) / ((-0.496923076923 * (data.band_213 - data.band_115)) + data.band_115)) * 0.18 + ((((-0.430769230769 * (data.band_213 - data.band_115)) + data.band_115) - data.band_72) / ((-0.430769230769 * (data.band_213 - data.band_115)) + data.band_115)) * 0.18) * ((data.band_115!=65535) * (data.band_213!=65535) * (data.band_13!=65535) * (data.band_24!=65535) * (data.band_33!=65535) * (data.band_39!=65535) * (data.band_41!=65535) * (data.band_43!=65535) * (data.band_51!=65535) * (data.band_57!=65535) * (data.band_61!=65535) * (data.band_66!=65535) * (data.band_72!=65535))) + (( 1 - ((data.band_115!=65535) * (data.band_213!=65535) * (data.band_13!=65535) * (data.band_24!=65535) * (data.band_33!=65535) * (data.band_39!=65535) * (data.band_41!=65535) * (data.band_43!=65535) * (data.band_51!=65535) * (data.band_57!=65535) * (data.band_61!=65535) * (data.band_66!=65535) * (data.band_72!=65535))) * 65535)))) * ((data.band_115!=65535) * (data.band_213!=65535) * (data.band_13!=65535) * (data.band_24!=65535) * (data.band_33!=65535) * (data.band_39!=65535) * (data.band_41!=65535) * (data.band_43!=65535) * (data.band_51!=65535) * (data.band_57!=65535) * (data.band_61!=65535) * (data.band_66!=65535) * (data.band_72!=65535)) * (255 / max(((((((((-1.03076923077 * (data.band_213 - data.band_115)) + data.band_115) - data.band_13) / ((-1.03076923077 * (data.band_213 - data.band_115)) + data.band_115)) * 0.03 + ((((-0.92 * (data.band_213 - data.band_115)) + data.band_115) - data.band_24) / ((-0.92 * (data.band_213 - data.band_115)) + data.band_115)) * 0.03 + ((((-0.830769230769 * (data.band_213 - data.band_115)) + data.band_115) - data.band_33) / ((-0.830769230769 * (data.band_213 - data.band_115)) + data.band_115)) * 0.03 +((((-0.769230769231 * (data.band_213 - data.band_115)) + data.band_115) - data.band_39) / ((-0.769230769231 * (data.band_213 - data.band_115)) + data.band_115))* 0.03 +((((-0.749230769231 * (data.band_213 - data.band_115)) + data.band_115) - data.band_41) / ((-0.749230769231 * (data.band_213 - data.band_115)) + data.band_115)) * 0.07 + ((((-0.729230769231 * (data.band_213 - data.band_115)) + data.band_115) - data.band_43) / ((-0.729230769231 * (data.band_213 - data.band_115)) + data.band_115)) * 0.07 + ((((-0.646153846154 * (data.band_213 - data.band_115)) + data.band_115) - data.band_51) / ((-0.646153846154 * (data.band_213 - data.band_115)) + data.band_115)) * 0.12 + ((((-0.587692307692 * (data.band_213 - data.band_115)) + data.band_115) - data.band_57) / ((-0.587692307692 * (data.band_213 - data.band_115)) + data.band_115)) * 0.12 + ((((-0.546153846154 * (data.band_213 - data.band_115)) + data.band_115) - data.band_61) / ((-0.546153846154 * (data.band_213 - data.band_115)) + data.band_115)) * 0.14 + ((((-0.496923076923 * (data.band_213 - data.band_115)) + data.band_115) - data.band_66) / ((-0.496923076923 * (data.band_213 - data.band_115)) + data.band_115)) * 0.18 + ((((-0.430769230769 * (data.band_213 - data.band_115)) + data.band_115) - data.band_72) / ((-0.430769230769 * (data.band_213 - data.band_115)) + data.band_115)) * 0.18) * ((data.band_115!=65535) * (data.band_213!=65535) * (data.band_13!=65535) * (data.band_24!=65535) * (data.band_33!=65535) * (data.band_39!=65535) * (data.band_41!=65535) * (data.band_43!=65535) * (data.band_51!=65535) * (data.band_57!=65535) * (data.band_61!=65535) * (data.band_66!=65535) * (data.band_72!=65535))) + (( 1 - ((data.band_115!=65535) * (data.band_213!=65535) * (data.band_13!=65535) * (data.band_24!=65535) * (data.band_33!=65535) * (data.band_39!=65535) * (data.band_41!=65535) * (data.band_43!=65535) * (data.band_51!=65535) * (data.band_57!=65535) * (data.band_61!=65535) * (data.band_66!=65535) * (data.band_72!=65535))) * 65535)) - min((((((((-1.03076923077 * (data.band_213 - data.band_115)) + data.band_115) - data.band_13) / ((-1.03076923077 * (data.band_213 - data.band_115)) + data.band_115)) * 0.03 + ((((-0.92 * (data.band_213 - data.band_115)) + data.band_115) - data.band_24) / ((-0.92 * (data.band_213 - data.band_115)) + data.band_115)) * 0.03 + ((((-0.830769230769 * (data.band_213 - data.band_115)) + data.band_115) - data.band_33) / ((-0.830769230769 * (data.band_213 - data.band_115)) + data.band_115)) * 0.03 +((((-0.769230769231 * (data.band_213 - data.band_115)) + data.band_115) - data.band_39) / ((-0.769230769231 * (data.band_213 - data.band_115)) + data.band_115))* 0.03 +((((-0.749230769231 * (data.band_213 - data.band_115)) + data.band_115) - data.band_41) / ((-0.749230769231 * (data.band_213 - data.band_115)) + data.band_115)) * 0.07 + ((((-0.729230769231 * (data.band_213 - data.band_115)) + data.band_115) - data.band_43) / ((-0.729230769231 * (data.band_213 - data.band_115)) + data.band_115)) * 0.07 + ((((-0.646153846154 * (data.band_213 - data.band_115)) + data.band_115) - data.band_51) / ((-0.646153846154 * (data.band_213 - data.band_115)) + data.band_115)) * 0.12 + ((((-0.587692307692 * (data.band_213 - data.band_115)) + data.band_115) - data.band_57) / ((-0.587692307692 * (data.band_213 - data.band_115)) + data.band_115)) * 0.12 + ((((-0.546153846154 * (data.band_213 - data.band_115)) + data.band_115) - data.band_61) / ((-0.546153846154 * (data.band_213 - data.band_115)) + data.band_115)) * 0.14 + ((((-0.496923076923 * (data.band_213 - data.band_115)) + data.band_115) - data.band_66) / ((-0.496923076923 * (data.band_213 - data.band_115)) + data.band_115)) * 0.18 + ((((-0.430769230769 * (data.band_213 - data.band_115)) + data.band_115) - data.band_72) / ((-0.430769230769 * (data.band_213 - data.band_115)) + data.band_115)) * 0.18) * ((data.band_115!=65535) * (data.band_213!=65535) * (data.band_13!=65535) * (data.band_24!=65535) * (data.band_33!=65535) * (data.band_39!=65535) * (data.band_41!=65535) * (data.band_43!=65535) * (data.band_51!=65535) * (data.band_57!=65535) * (data.band_61!=65535) * (data.band_66!=65535) * (data.band_72!=65535))) + (( 1 - ((data.band_115!=65535) * (data.band_213!=65535) * (data.band_13!=65535) * (data.band_24!=65535) * (data.band_33!=65535) * (data.band_39!=65535) * (data.band_41!=65535) * (data.band_43!=65535) * (data.band_51!=65535) * (data.band_57!=65535) * (data.band_61!=65535) * (data.band_66!=65535) * (data.band_72!=65535))) * 65535)))) * ((data.band_115!=65535) * (data.band_213!=65535) * (data.band_13!=65535) * (data.band_24!=65535) * (data.band_33!=65535) * (data.band_39!=65535) * (data.band_41!=65535) * (data.band_43!=65535) * (data.band_51!=65535) * (data.band_57!=65535) * (data.band_61!=65535) * (data.band_66!=65535) * (data.band_72!=65535))))), \"tif\",\"nodata=null\");\n"
     ]
    }
   ],
   "source": [
    "#Product #14: OLLINDEX3: Detect broad absorption centred at 1 um\n",
    "#OLINDEX3 = RB1080*0.03+RB1152*0.03+RB1210*0.03+RB1250*0.03+RB1263*0.07+RB1276*0.07+RB1330*0.12+RB1368*0.12+RB1395*0.14+RB1427*0.18+RB1470*0.18\n",
    "#Where RBx=(RCx-Rx)/RCx, \n",
    "#and Rc denotes a value of a pont along point on slope Rc anchored at R1750 and R2400\n",
    "#Olivines will be strongly > 0\n",
    "#Caveates HCP, Fe-pyllosilicates\n",
    "k_Rs = bandName(bandsL(1750))\n",
    "k_Rl = bandName(bandsL(2400))\n",
    "\n",
    "#f_R = lambda w: bandName(bandsL(w))\n",
    "#f_RCx = lambda c,s,l: f_plus( f_times(str(f_waveRatio(c,s,l)),f_minus(f_R(l),f_R(s))),f_R(s) )\n",
    "#f_RCxOLINDEX3 = lambda c: f_RCx(c, 1750,2400)\n",
    "f_RBxx = lambda c: f_over(f_minus(f_RCxOLINDEX3(c),f_R(c)), f_RCxOLINDEX3(c)  ) #NEED TO FIX THIS ONE !!!\n",
    "\n",
    "OLINDEX3raw = '('+f_RBxx(1080)+' * 0.03 + '+f_RBxx(1152)+' * 0.03 + '+f_RBxx(1210)+' * 0.03 +'+f_RBxx(1250)+'* 0.03 +'+f_RBxx(1263)+' * 0.07 + '+f_RBxx(1276)+' * 0.07 + '+f_RBxx(1330)+' * 0.12 + '+f_RBxx(1368)+' * 0.12 + '+f_RBxx(1395)+' * 0.14 + '+f_RBxx(1427)+' * 0.18 + '+f_RBxx(1470)+' * 0.18)'\n",
    "\n",
    "#f_indexNN = lambda waveList: '(' + ' * '.join( map(lambda c: f_isNotNull(f_R(c)), waveList )) + ')'\n",
    "\n",
    "OLINDEX3nn = f_indexNN([1750,2400,1080,1152,1210,1250,1263,1276,1330,1368,1395,1427,1470])\n",
    "\n",
    "\n",
    "print tql(f_encode( f_toEncode(OLINDEX3raw,OLINDEX3nn) , 'float', '\"tif\"'))"
   ]
  },
  {
   "cell_type": "code",
   "execution_count": 57,
   "metadata": {
    "collapsed": false,
    "scrolled": true
   },
   "outputs": [
    {
     "name": "stdout",
     "output_type": "stream",
     "text": [
      "http://access.planetserver.eu:8080/rasdaman/ows?service=WCS&version=2.0.1&request=ProcessCoverages&query=for data in ( frt0000b385_07_if164l_trr3 ) return  encode((float) ((((((0.14606741573 * (data.band_221 - data.band_86)) + data.band_86) - data.band_106) / ((0.14606741573 * (data.band_221 - data.band_86)) + data.band_86))*0.2+((((0.213483146067 * (data.band_221 - data.band_86)) + data.band_86) - data.band_115) / ((0.213483146067 * (data.band_221 - data.band_86)) + data.band_86))*0.2+((((0.280898876404 * (data.band_221 - data.band_86)) + data.band_86) - data.band_124) / ((0.280898876404 * (data.band_221 - data.band_86)) + data.band_86))*0.3+((((0.348314606742 * (data.band_221 - data.band_86)) + data.band_86) - data.band_133) / ((0.348314606742 * (data.band_221 - data.band_86)) + data.band_86))*0.3) * ((data.band_106!=65535) * (data.band_115!=65535) * (data.band_124!=65535) * (data.band_133!=65535) * (data.band_86!=65535) * (data.band_221!=65535))), \"tif\",\"nodata=null\");\n"
     ]
    }
   ],
   "source": [
    "#Product #15: LCPINDEX2: Detect broad absorption centred at 1.81um\n",
    "#LCPINDEX2: RB1690*0.20+RB1750*0.20+RB1810*0.30+RB1870*0.30; RC anchored at R1560 and R2450\n",
    "#Pyroxene is strongly +; favors HCP\n",
    "#Caveats: none\n",
    "\n",
    "#print tql(f_encode( f_toEncodeIndex([(1690,0.20),(1750,0.20),(1810,0.30),(1870,0.30)],1560,2450) , 'int', '\"jpg\"'))\n",
    "args = [[(1690,0.20),(1750,0.20),(1810,0.30),(1870,0.30)],1560,2450]\n",
    "#print f_indexRAW(*args)\n",
    "#print [str(x[0]) for x in args[0]] + [str(args[1]),str(args[2])]\n",
    "#print f_indexNN([x[0] for x in args[0]] + [args[1],args[2]])\n",
    "print tql(f_encode( f_times(f_indexRAW(*args),f_indexNN([x[0] for x in args[0]] + [args[1],args[2]])) , 'float', '\"tif\"'))\n",
    "#waveListTup,s,l = [(1690,0.20),(1750,0.20),(1810,0.30),(1870,0.30)],1560,2450\n",
    "#print f_RBx(1690,s,l)\n",
    "#print '(' + '+'.join( map(lambda t: f_RBx(t[0],s,l) + '*' + str(t[1]), [(1690,0.20),(1750,0.20),(1810,0.30),(1870,0.30)] )) + ')'\n",
    "#print tql(f_encode( f_toEncodeIndex([(1690,0.20),(1750,0.20),(1810,0.30),(1870,0.30)],1560,2450) , 'int', '\"jpg\"'))"
   ]
  },
  {
   "cell_type": "code",
   "execution_count": 62,
   "metadata": {
    "collapsed": false,
    "scrolled": true
   },
   "outputs": [
    {
     "name": "stdout",
     "output_type": "stream",
     "text": [
      "http://access.planetserver.eu:8080/rasdaman/ows?service=WCS&version=2.0.1&request=ProcessCoverages&query=for data in ( frt0000b385_07_if164l_trr3 ) return  encode((float) ((((((0.511904761905 * (data.band_233 - data.band_106)) + data.band_106) - data.band_171) / ((0.511904761905 * (data.band_233 - data.band_106)) + data.band_106))*0.1+((((0.535714285714 * (data.band_233 - data.band_106)) + data.band_106) - data.band_174) / ((0.535714285714 * (data.band_233 - data.band_106)) + data.band_106))*0.1+((((0.642857142857 * (data.band_233 - data.band_106)) + data.band_106) - data.band_188) / ((0.642857142857 * (data.band_233 - data.band_106)) + data.band_106))*0.15+((((0.666666666667 * (data.band_233 - data.band_106)) + data.band_106) - data.band_191) / ((0.666666666667 * (data.band_233 - data.band_106)) + data.band_106))*0.3+((((0.880952380952 * (data.band_233 - data.band_106)) + data.band_106) - data.band_218) / ((0.880952380952 * (data.band_233 - data.band_106)) + data.band_106))*0.2+((((0.916666666667 * (data.band_233 - data.band_106)) + data.band_106) - data.band_222) / ((0.916666666667 * (data.band_233 - data.band_106)) + data.band_106))*0.15) * ((data.band_171!=65535) * (data.band_174!=65535) * (data.band_188!=65535) * (data.band_191!=65535) * (data.band_218!=65535) * (data.band_222!=65535) * (data.band_106!=65535) * (data.band_233!=65535))), \"tif\",\"nodata=null\");\n"
     ]
    }
   ],
   "source": [
    "#Product #16: HCPINCEX2: Detect broad absorption centred at 2.12 um\n",
    "#Pyroxene is strongly +; favors HCP\n",
    "#Caveats: LCP\n",
    "args = [[(2120,0.10),(2140,0.10),(2230,0.15),(2250,0.30),(2430,0.20),(2460,0.15)],1690,2530]\n",
    "#print tql(f_encode( f_toEncodeIndex(*args) , 'int', '\"jpg\"'))\n",
    "print tql(f_encode( f_times(f_indexRAW(*args),f_indexNN([x[0] for x in args[0]] + [args[1],args[2]])) , 'float', '\"tif\"'))"
   ]
  },
  {
   "cell_type": "code",
   "execution_count": 63,
   "metadata": {
    "collapsed": true
   },
   "outputs": [],
   "source": [
    "#Product #17: 1.0-2.3 um spectral variance\n",
    "#Requires computing a line of best fit - nearly impossible to do \n",
    "#since average value will have to be computed for each \n",
    "#point of deviation separately (not possible to buffer value in a variable).\n",
    "\n",
    "#Product #18: ISLOPE1: spectral slope 1: (R1815-R2530)/(W2530-W1815)\n",
    "#Don't understand what is W2530 and W1815. Paper provides no explanation."
   ]
  },
  {
   "cell_type": "code",
   "execution_count": 64,
   "metadata": {
    "collapsed": false
   },
   "outputs": [
    {
     "name": "stdout",
     "output_type": "stream",
     "text": [
      "http://access.planetserver.eu:8080/rasdaman/ows?service=WCS&version=2.0.1&request=ProcessCoverages&query=for data in ( frt0000b385_07_if164l_trr3 ) return  encode((unsigned char) (((((1 - (data.band_61 / ((0.525547445255 * data.band_51) + (0.474452554745 * data.band_72)))) * ((data.band_61!=65535) * (data.band_51!=65535) * (data.band_72!=65535))) + (( 1 - ((data.band_61!=65535) * (data.band_51!=65535) * (data.band_72!=65535))) * 65535)) - min((((1 - (data.band_61 / ((0.525547445255 * data.band_51) + (0.474452554745 * data.band_72)))) * ((data.band_61!=65535) * (data.band_51!=65535) * (data.band_72!=65535))) + (( 1 - ((data.band_61!=65535) * (data.band_51!=65535) * (data.band_72!=65535))) * 65535)))) * ((data.band_61!=65535) * (data.band_51!=65535) * (data.band_72!=65535)) * (255 / max(((((1 - (data.band_61 / ((0.525547445255 * data.band_51) + (0.474452554745 * data.band_72)))) * ((data.band_61!=65535) * (data.band_51!=65535) * (data.band_72!=65535))) + (( 1 - ((data.band_61!=65535) * (data.band_51!=65535) * (data.band_72!=65535))) * 65535)) - min((((1 - (data.band_61 / ((0.525547445255 * data.band_51) + (0.474452554745 * data.band_72)))) * ((data.band_61!=65535) * (data.band_51!=65535) * (data.band_72!=65535))) + (( 1 - ((data.band_61!=65535) * (data.band_51!=65535) * (data.band_72!=65535))) * 65535)))) * ((data.band_61!=65535) * (data.band_51!=65535) * (data.band_72!=65535))))), \"jpg\",\"nodata=null\");\n"
     ]
    }
   ],
   "source": [
    "#Product #19: BD1400: 1395 over 1330 to 1467\n",
    "#Hydrated or hydroxylated minerals\n",
    "#No caveats.\n",
    "print tql(f_encode( f_toEncodeBD3L(1395,1330,1467) , 'unsigned char', '\"jpg\"'))"
   ]
  },
  {
   "cell_type": "code",
   "execution_count": 65,
   "metadata": {
    "collapsed": false
   },
   "outputs": [
    {
     "name": "stdout",
     "output_type": "stream",
     "text": [
      "http://access.planetserver.eu:8080/rasdaman/ows?service=WCS&version=2.0.1&request=ProcessCoverages&query=for data in ( frt0000b385_07_if164l_trr3 ) return  encode((unsigned char) (((((1 - (data.band_67 / ((0.35 * data.band_57) + (0.65 * data.band_72)))) * ((data.band_67!=65535) * (data.band_57!=65535) * (data.band_72!=65535))) + (( 1 - ((data.band_67!=65535) * (data.band_57!=65535) * (data.band_72!=65535))) * 65535)) - min((((1 - (data.band_67 / ((0.35 * data.band_57) + (0.65 * data.band_72)))) * ((data.band_67!=65535) * (data.band_57!=65535) * (data.band_72!=65535))) + (( 1 - ((data.band_67!=65535) * (data.band_57!=65535) * (data.band_72!=65535))) * 65535)))) * ((data.band_67!=65535) * (data.band_57!=65535) * (data.band_72!=65535)) * (255 / max(((((1 - (data.band_67 / ((0.35 * data.band_57) + (0.65 * data.band_72)))) * ((data.band_67!=65535) * (data.band_57!=65535) * (data.band_72!=65535))) + (( 1 - ((data.band_67!=65535) * (data.band_57!=65535) * (data.band_72!=65535))) * 65535)) - min((((1 - (data.band_67 / ((0.35 * data.band_57) + (0.65 * data.band_72)))) * ((data.band_67!=65535) * (data.band_57!=65535) * (data.band_72!=65535))) + (( 1 - ((data.band_67!=65535) * (data.band_57!=65535) * (data.band_72!=65535))) * 65535)))) * ((data.band_67!=65535) * (data.band_57!=65535) * (data.band_72!=65535))))), \"jpg\",\"nodata=null\");\n"
     ]
    }
   ],
   "source": [
    "#Product #20: BD1435: 1435 over 1370 to 1470\n",
    "#CO2 ice, some hydrated minerals\n",
    "#No caveats.\n",
    "print tql(f_encode( f_toEncodeBD3L(1435,1370,1470) , 'unsigned char', '\"jpg\"'))"
   ]
  },
  {
   "cell_type": "code",
   "execution_count": 66,
   "metadata": {
    "collapsed": false
   },
   "outputs": [
    {
     "name": "stdout",
     "output_type": "stream",
     "text": [
      "http://access.planetserver.eu:8080/rasdaman/ows?service=WCS&version=2.0.1&request=ProcessCoverages&query=for data in ( frt0000b385_07_if164l_trr3 ) return  encode((unsigned char) (((((1 - (data.band_81 / ((0.641723356009 * data.band_57) + (0.358276643991 * data.band_124)))) * ((data.band_81!=65535) * (data.band_57!=65535) * (data.band_124!=65535))) + (( 1 - ((data.band_81!=65535) * (data.band_57!=65535) * (data.band_124!=65535))) * 65535)) - min((((1 - (data.band_81 / ((0.641723356009 * data.band_57) + (0.358276643991 * data.band_124)))) * ((data.band_81!=65535) * (data.band_57!=65535) * (data.band_124!=65535))) + (( 1 - ((data.band_81!=65535) * (data.band_57!=65535) * (data.band_124!=65535))) * 65535)))) * ((data.band_81!=65535) * (data.band_57!=65535) * (data.band_124!=65535)) * (255 / max(((((1 - (data.band_81 / ((0.641723356009 * data.band_57) + (0.358276643991 * data.band_124)))) * ((data.band_81!=65535) * (data.band_57!=65535) * (data.band_124!=65535))) + (( 1 - ((data.band_81!=65535) * (data.band_57!=65535) * (data.band_124!=65535))) * 65535)) - min((((1 - (data.band_81 / ((0.641723356009 * data.band_57) + (0.358276643991 * data.band_124)))) * ((data.band_81!=65535) * (data.band_57!=65535) * (data.band_124!=65535))) + (( 1 - ((data.band_81!=65535) * (data.band_57!=65535) * (data.band_124!=65535))) * 65535)))) * ((data.band_81!=65535) * (data.band_57!=65535) * (data.band_124!=65535))))), \"jpg\",\"nodata=null\");\n"
     ]
    }
   ],
   "source": [
    "#Product #21: BD1500_2: 1525 over 1367 to 1808\n",
    "#H2O ice on surface or in atmosphere\n",
    "#No caveats.\n",
    "print tql(f_encode( f_toEncodeBD3L(1525,1367,1808) , 'unsigned char', '\"jpg\"'))"
   ]
  },
  {
   "cell_type": "code",
   "execution_count": 67,
   "metadata": {
    "collapsed": false
   },
   "outputs": [
    {
     "name": "stdout",
     "output_type": "stream",
     "text": [
      "http://access.planetserver.eu:8080/rasdaman/ows?service=WCS&version=2.0.1&request=ProcessCoverages&query=for data in ( frt0000b385_07_if164l_trr3 ) return  encode((unsigned char) (((((1 - ((1 - (1 - (data.band_67 / ((0.35 * data.band_57) + (0.65 * data.band_72))))) / (1 - (1 - (data.band_81 / ((0.641723356009 * data.band_57) + (0.358276643991 * data.band_124))))))) * (((data.band_67!=65535) * (data.band_57!=65535) * (data.band_72!=65535)) * ((data.band_81!=65535) * (data.band_57!=65535) * (data.band_124!=65535)))) + (( 1 - (((data.band_67!=65535) * (data.band_57!=65535) * (data.band_72!=65535)) * ((data.band_81!=65535) * (data.band_57!=65535) * (data.band_124!=65535)))) * 65535)) - min((((1 - ((1 - (1 - (data.band_67 / ((0.35 * data.band_57) + (0.65 * data.band_72))))) / (1 - (1 - (data.band_81 / ((0.641723356009 * data.band_57) + (0.358276643991 * data.band_124))))))) * (((data.band_67!=65535) * (data.band_57!=65535) * (data.band_72!=65535)) * ((data.band_81!=65535) * (data.band_57!=65535) * (data.band_124!=65535)))) + (( 1 - (((data.band_67!=65535) * (data.band_57!=65535) * (data.band_72!=65535)) * ((data.band_81!=65535) * (data.band_57!=65535) * (data.band_124!=65535)))) * 65535)))) * (((data.band_67!=65535) * (data.band_57!=65535) * (data.band_72!=65535)) * ((data.band_81!=65535) * (data.band_57!=65535) * (data.band_124!=65535))) * (255 / max(((((1 - ((1 - (1 - (data.band_67 / ((0.35 * data.band_57) + (0.65 * data.band_72))))) / (1 - (1 - (data.band_81 / ((0.641723356009 * data.band_57) + (0.358276643991 * data.band_124))))))) * (((data.band_67!=65535) * (data.band_57!=65535) * (data.band_72!=65535)) * ((data.band_81!=65535) * (data.band_57!=65535) * (data.band_124!=65535)))) + (( 1 - (((data.band_67!=65535) * (data.band_57!=65535) * (data.band_72!=65535)) * ((data.band_81!=65535) * (data.band_57!=65535) * (data.band_124!=65535)))) * 65535)) - min((((1 - ((1 - (1 - (data.band_67 / ((0.35 * data.band_57) + (0.65 * data.band_72))))) / (1 - (1 - (data.band_81 / ((0.641723356009 * data.band_57) + (0.358276643991 * data.band_124))))))) * (((data.band_67!=65535) * (data.band_57!=65535) * (data.band_72!=65535)) * ((data.band_81!=65535) * (data.band_57!=65535) * (data.band_124!=65535)))) + (( 1 - (((data.band_67!=65535) * (data.band_57!=65535) * (data.band_72!=65535)) * ((data.band_81!=65535) * (data.band_57!=65535) * (data.band_124!=65535)))) * 65535)))) * (((data.band_67!=65535) * (data.band_57!=65535) * (data.band_72!=65535)) * ((data.band_81!=65535) * (data.band_57!=65535) * (data.band_124!=65535)))))), \"jpg\",\"nodata=null\");\n",
      "http://access.planetserver.eu:8080/rasdaman/ows?service=WCS&version=2.0.1&request=ProcessCoverages&query=for data in ( frt0000b385_07_if164l_trr3 ) return  encode((float) (((((1 - ((1 - (1 - (data.band_67 / ((0.35 * data.band_57) + (0.65 * data.band_72))))) / (1 - (1 - (data.band_81 / ((0.641723356009 * data.band_57) + (0.358276643991 * data.band_124))))))) * (((data.band_67!=65535) * (data.band_57!=65535) * (data.band_72!=65535)) * ((data.band_81!=65535) * (data.band_57!=65535) * (data.band_124!=65535)))) + (( 1 - (((data.band_67!=65535) * (data.band_57!=65535) * (data.band_72!=65535)) * ((data.band_81!=65535) * (data.band_57!=65535) * (data.band_124!=65535)))) * 65535)) - min((((1 - ((1 - (1 - (data.band_67 / ((0.35 * data.band_57) + (0.65 * data.band_72))))) / (1 - (1 - (data.band_81 / ((0.641723356009 * data.band_57) + (0.358276643991 * data.band_124))))))) * (((data.band_67!=65535) * (data.band_57!=65535) * (data.band_72!=65535)) * ((data.band_81!=65535) * (data.band_57!=65535) * (data.band_124!=65535)))) + (( 1 - (((data.band_67!=65535) * (data.band_57!=65535) * (data.band_72!=65535)) * ((data.band_81!=65535) * (data.band_57!=65535) * (data.band_124!=65535)))) * 65535)))) * (((data.band_67!=65535) * (data.band_57!=65535) * (data.band_72!=65535)) * ((data.band_81!=65535) * (data.band_57!=65535) * (data.band_124!=65535))) * (255 / max(((((1 - ((1 - (1 - (data.band_67 / ((0.35 * data.band_57) + (0.65 * data.band_72))))) / (1 - (1 - (data.band_81 / ((0.641723356009 * data.band_57) + (0.358276643991 * data.band_124))))))) * (((data.band_67!=65535) * (data.band_57!=65535) * (data.band_72!=65535)) * ((data.band_81!=65535) * (data.band_57!=65535) * (data.band_124!=65535)))) + (( 1 - (((data.band_67!=65535) * (data.band_57!=65535) * (data.band_72!=65535)) * ((data.band_81!=65535) * (data.band_57!=65535) * (data.band_124!=65535)))) * 65535)) - min((((1 - ((1 - (1 - (data.band_67 / ((0.35 * data.band_57) + (0.65 * data.band_72))))) / (1 - (1 - (data.band_81 / ((0.641723356009 * data.band_57) + (0.358276643991 * data.band_124))))))) * (((data.band_67!=65535) * (data.band_57!=65535) * (data.band_72!=65535)) * ((data.band_81!=65535) * (data.band_57!=65535) * (data.band_124!=65535)))) + (( 1 - (((data.band_67!=65535) * (data.band_57!=65535) * (data.band_72!=65535)) * ((data.band_81!=65535) * (data.band_57!=65535) * (data.band_124!=65535)))) * 65535)))) * (((data.band_67!=65535) * (data.band_57!=65535) * (data.band_72!=65535)) * ((data.band_81!=65535) * (data.band_57!=65535) * (data.band_124!=65535)))))), \"tif\",\"nodata=null\");\n"
     ]
    }
   ],
   "source": [
    "#Product #22: 1 - (1-BD1435)/(1-BD1500_2)\n",
    "# CO2 H2O mixtures, >1 for more CO2, <1 for more H2O\n",
    "#No caveats.\n",
    "print tql(f_encode(f_toEncode(f_minus('1',f_over(f_minus('1', f_BandDepthL(1435,1370,1470)), f_minus('1', f_BandDepthL(1525,1367,1808)))),f_times(nnMaskWL_3(1435,1370,1470),nnMaskWL_3(1525,1367,1808))) , 'unsigned char', '\"jpg\"'))\n",
    "\n",
    "print tql(f_encode(f_toEncode(f_minus('1',f_over(f_minus('1', f_BandDepthL(1435,1370,1470)), f_minus('1', f_BandDepthL(1525,1367,1808)))),f_times(nnMaskWL_3(1435,1370,1470),nnMaskWL_3(1525,1367,1808))) , 'float', '\"tif\"'))"
   ]
  },
  {
   "cell_type": "code",
   "execution_count": 68,
   "metadata": {
    "collapsed": false
   },
   "outputs": [
    {
     "name": "stdout",
     "output_type": "stream",
     "text": [
      "http://access.planetserver.eu:8080/rasdaman/ows?service=WCS&version=2.0.1&request=ProcessCoverages&query=for data in ( frt0000b385_07_if164l_trr3 ) return  encode((unsigned char) (((((1 - (data.band_115 / ((0.52 * data.band_106) + (0.48 * data.band_125)))) * ((data.band_115!=65535) * (data.band_106!=65535) * (data.band_125!=65535))) + (( 1 - ((data.band_115!=65535) * (data.band_106!=65535) * (data.band_125!=65535))) * 65535)) - min((((1 - (data.band_115 / ((0.52 * data.band_106) + (0.48 * data.band_125)))) * ((data.band_115!=65535) * (data.band_106!=65535) * (data.band_125!=65535))) + (( 1 - ((data.band_115!=65535) * (data.band_106!=65535) * (data.band_125!=65535))) * 65535)))) * ((data.band_115!=65535) * (data.band_106!=65535) * (data.band_125!=65535)) * (255 / max(((((1 - (data.band_115 / ((0.52 * data.band_106) + (0.48 * data.band_125)))) * ((data.band_115!=65535) * (data.band_106!=65535) * (data.band_125!=65535))) + (( 1 - ((data.band_115!=65535) * (data.band_106!=65535) * (data.band_125!=65535))) * 65535)) - min((((1 - (data.band_115 / ((0.52 * data.band_106) + (0.48 * data.band_125)))) * ((data.band_115!=65535) * (data.band_106!=65535) * (data.band_125!=65535))) + (( 1 - ((data.band_115!=65535) * (data.band_106!=65535) * (data.band_125!=65535))) * 65535)))) * ((data.band_115!=65535) * (data.band_106!=65535) * (data.band_125!=65535))))), \"jpg\",\"nodata=null\");\n"
     ]
    }
   ],
   "source": [
    "#Product #23: BD1750_2: 1750 over 1690 to 1815\n",
    "#Gypsum Alunite\n",
    "#No caveats.\n",
    "print tql(f_encode( f_toEncodeBD3L(1750,1690,1815) , 'unsigned char', '\"jpg\"'))"
   ]
  },
  {
   "cell_type": "code",
   "execution_count": 69,
   "metadata": {
    "collapsed": false
   },
   "outputs": [
    {
     "name": "stdout",
     "output_type": "stream",
     "text": [
      "http://access.planetserver.eu:8080/rasdaman/ows?service=WCS&version=2.0.1&request=ProcessCoverages&query=for data in ( frt0000b385_07_if164l_trr3 ) return  encode((unsigned char) (((((0.5 * ((1 - (data.band_142 / ((0.63133640553 * data.band_130) + (0.36866359447 * data.band_163)))) + (1 - (data.band_151 / ((0.377880184332 * data.band_130) + (0.622119815668 * data.band_163)))))) * (((data.band_142!=65535) * (data.band_130!=65535) * (data.band_163!=65535)) * ((data.band_151!=65535) * (data.band_130!=65535) * (data.band_163!=65535)))) + (( 1 - (((data.band_142!=65535) * (data.band_130!=65535) * (data.band_163!=65535)) * ((data.band_151!=65535) * (data.band_130!=65535) * (data.band_163!=65535)))) * 65535)) - min((((0.5 * ((1 - (data.band_142 / ((0.63133640553 * data.band_130) + (0.36866359447 * data.band_163)))) + (1 - (data.band_151 / ((0.377880184332 * data.band_130) + (0.622119815668 * data.band_163)))))) * (((data.band_142!=65535) * (data.band_130!=65535) * (data.band_163!=65535)) * ((data.band_151!=65535) * (data.band_130!=65535) * (data.band_163!=65535)))) + (( 1 - (((data.band_142!=65535) * (data.band_130!=65535) * (data.band_163!=65535)) * ((data.band_151!=65535) * (data.band_130!=65535) * (data.band_163!=65535)))) * 65535)))) * (((data.band_142!=65535) * (data.band_130!=65535) * (data.band_163!=65535)) * ((data.band_151!=65535) * (data.band_130!=65535) * (data.band_163!=65535))) * (255 / max(((((0.5 * ((1 - (data.band_142 / ((0.63133640553 * data.band_130) + (0.36866359447 * data.band_163)))) + (1 - (data.band_151 / ((0.377880184332 * data.band_130) + (0.622119815668 * data.band_163)))))) * (((data.band_142!=65535) * (data.band_130!=65535) * (data.band_163!=65535)) * ((data.band_151!=65535) * (data.band_130!=65535) * (data.band_163!=65535)))) + (( 1 - (((data.band_142!=65535) * (data.band_130!=65535) * (data.band_163!=65535)) * ((data.band_151!=65535) * (data.band_130!=65535) * (data.band_163!=65535)))) * 65535)) - min((((0.5 * ((1 - (data.band_142 / ((0.63133640553 * data.band_130) + (0.36866359447 * data.band_163)))) + (1 - (data.band_151 / ((0.377880184332 * data.band_130) + (0.622119815668 * data.band_163)))))) * (((data.band_142!=65535) * (data.band_130!=65535) * (data.band_163!=65535)) * ((data.band_151!=65535) * (data.band_130!=65535) * (data.band_163!=65535)))) + (( 1 - (((data.band_142!=65535) * (data.band_130!=65535) * (data.band_163!=65535)) * ((data.band_151!=65535) * (data.band_130!=65535) * (data.band_163!=65535)))) * 65535)))) * (((data.band_142!=65535) * (data.band_130!=65535) * (data.band_163!=65535)) * ((data.band_151!=65535) * (data.band_130!=65535) * (data.band_163!=65535)))))), \"jpg\",\"nodata=null\");\n"
     ]
    }
   ],
   "source": [
    "#Product #24: 0.5*BD(1930,1850,2067)+0.5*BD(1985,1850,2067) = 0.5*(BD(1930,1850,2067)+BD(1985,1850,2067))\n",
    "#Bound molecular H2O except monohydrated sulfates\n",
    "#No caveats.\n",
    "k_mean_BD1930_BD1985 = f_times('0.5',f_plus(f_BandDepthL(1930,1850,2067),f_BandDepthL(1985,1850,2067)))\n",
    "k_mean_BD1930_BD1985_nn = f_times(nnMaskWL_3(1930,1850,2067),nnMaskWL_3(1985,1850,2067))\n",
    "f_toEncode(k_mean_BD1930_BD1985, k_mean_BD1930_BD1985_nn)\n",
    "print tql(f_encode( f_toEncode(k_mean_BD1930_BD1985, k_mean_BD1930_BD1985_nn) , 'unsigned char', '\"jpg\"'))"
   ]
  },
  {
   "cell_type": "code",
   "execution_count": 71,
   "metadata": {
    "collapsed": false
   },
   "outputs": [
    {
     "name": "stdout",
     "output_type": "stream",
     "text": [
      "http://access.planetserver.eu:8080/rasdaman/ows?service=WCS&version=2.0.1&request=ProcessCoverages&query=for data in ( frt0000b385_07_if164l_trr3 ) return  encode((unsigned char) (((((1 - ((((0.27619047619 * (data.band_162 - data.band_130)) + data.band_130) / data.band_139)+(((0.304761904762 * (data.band_162 - data.band_130)) + data.band_130) / data.band_140)+(((0.338095238095 * (data.band_162 - data.band_130)) + data.band_130) / data.band_141)+(((0.371428571429 * (data.band_162 - data.band_130)) + data.band_130) / data.band_142)+(((0.4 * (data.band_162 - data.band_130)) + data.band_130) / data.band_143)+(((0.433333333333 * (data.band_162 - data.band_130)) + data.band_130) / data.band_144) / (((0.0571428571429 * (data.band_162 - data.band_130)) + data.band_130) / data.band_132)+(((0.0904761904762 * (data.band_162 - data.band_130)) + data.band_130) / data.band_133)+(((0.119047619048 * (data.band_162 - data.band_130)) + data.band_130) / data.band_134)+(((1.24761904762 * (data.band_162 - data.band_130)) + data.band_130) / data.band_170)+(((1.28571428571 * (data.band_162 - data.band_130)) + data.band_130) / data.band_171)+(((1.31428571429 * (data.band_162 - data.band_130)) + data.band_130) / data.band_172))) * ((data.band_139!=65535) * (data.band_140!=65535) * (data.band_141!=65535) * (data.band_142!=65535) * (data.band_143!=65535) * (data.band_144!=65535) * (data.band_132!=65535) * (data.band_133!=65535) * (data.band_134!=65535) * (data.band_170!=65535) * (data.band_171!=65535) * (data.band_172!=65535) * (data.band_130!=65535) * (data.band_162!=65535))) + (( 1 - ((data.band_139!=65535) * (data.band_140!=65535) * (data.band_141!=65535) * (data.band_142!=65535) * (data.band_143!=65535) * (data.band_144!=65535) * (data.band_132!=65535) * (data.band_133!=65535) * (data.band_134!=65535) * (data.band_170!=65535) * (data.band_171!=65535) * (data.band_172!=65535) * (data.band_130!=65535) * (data.band_162!=65535))) * 65535)) - min((((1 - ((((0.27619047619 * (data.band_162 - data.band_130)) + data.band_130) / data.band_139)+(((0.304761904762 * (data.band_162 - data.band_130)) + data.band_130) / data.band_140)+(((0.338095238095 * (data.band_162 - data.band_130)) + data.band_130) / data.band_141)+(((0.371428571429 * (data.band_162 - data.band_130)) + data.band_130) / data.band_142)+(((0.4 * (data.band_162 - data.band_130)) + data.band_130) / data.band_143)+(((0.433333333333 * (data.band_162 - data.band_130)) + data.band_130) / data.band_144) / (((0.0571428571429 * (data.band_162 - data.band_130)) + data.band_130) / data.band_132)+(((0.0904761904762 * (data.band_162 - data.band_130)) + data.band_130) / data.band_133)+(((0.119047619048 * (data.band_162 - data.band_130)) + data.band_130) / data.band_134)+(((1.24761904762 * (data.band_162 - data.band_130)) + data.band_130) / data.band_170)+(((1.28571428571 * (data.band_162 - data.band_130)) + data.band_130) / data.band_171)+(((1.31428571429 * (data.band_162 - data.band_130)) + data.band_130) / data.band_172))) * ((data.band_139!=65535) * (data.band_140!=65535) * (data.band_141!=65535) * (data.band_142!=65535) * (data.band_143!=65535) * (data.band_144!=65535) * (data.band_132!=65535) * (data.band_133!=65535) * (data.band_134!=65535) * (data.band_170!=65535) * (data.band_171!=65535) * (data.band_172!=65535) * (data.band_130!=65535) * (data.band_162!=65535))) + (( 1 - ((data.band_139!=65535) * (data.band_140!=65535) * (data.band_141!=65535) * (data.band_142!=65535) * (data.band_143!=65535) * (data.band_144!=65535) * (data.band_132!=65535) * (data.band_133!=65535) * (data.band_134!=65535) * (data.band_170!=65535) * (data.band_171!=65535) * (data.band_172!=65535) * (data.band_130!=65535) * (data.band_162!=65535))) * 65535)))) * ((data.band_139!=65535) * (data.band_140!=65535) * (data.band_141!=65535) * (data.band_142!=65535) * (data.band_143!=65535) * (data.band_144!=65535) * (data.band_132!=65535) * (data.band_133!=65535) * (data.band_134!=65535) * (data.band_170!=65535) * (data.band_171!=65535) * (data.band_172!=65535) * (data.band_130!=65535) * (data.band_162!=65535)) * (255 / max(((((1 - ((((0.27619047619 * (data.band_162 - data.band_130)) + data.band_130) / data.band_139)+(((0.304761904762 * (data.band_162 - data.band_130)) + data.band_130) / data.band_140)+(((0.338095238095 * (data.band_162 - data.band_130)) + data.band_130) / data.band_141)+(((0.371428571429 * (data.band_162 - data.band_130)) + data.band_130) / data.band_142)+(((0.4 * (data.band_162 - data.band_130)) + data.band_130) / data.band_143)+(((0.433333333333 * (data.band_162 - data.band_130)) + data.band_130) / data.band_144) / (((0.0571428571429 * (data.band_162 - data.band_130)) + data.band_130) / data.band_132)+(((0.0904761904762 * (data.band_162 - data.band_130)) + data.band_130) / data.band_133)+(((0.119047619048 * (data.band_162 - data.band_130)) + data.band_130) / data.band_134)+(((1.24761904762 * (data.band_162 - data.band_130)) + data.band_130) / data.band_170)+(((1.28571428571 * (data.band_162 - data.band_130)) + data.band_130) / data.band_171)+(((1.31428571429 * (data.band_162 - data.band_130)) + data.band_130) / data.band_172))) * ((data.band_139!=65535) * (data.band_140!=65535) * (data.band_141!=65535) * (data.band_142!=65535) * (data.band_143!=65535) * (data.band_144!=65535) * (data.band_132!=65535) * (data.band_133!=65535) * (data.band_134!=65535) * (data.band_170!=65535) * (data.band_171!=65535) * (data.band_172!=65535) * (data.band_130!=65535) * (data.band_162!=65535))) + (( 1 - ((data.band_139!=65535) * (data.band_140!=65535) * (data.band_141!=65535) * (data.band_142!=65535) * (data.band_143!=65535) * (data.band_144!=65535) * (data.band_132!=65535) * (data.band_133!=65535) * (data.band_134!=65535) * (data.band_170!=65535) * (data.band_171!=65535) * (data.band_172!=65535) * (data.band_130!=65535) * (data.band_162!=65535))) * 65535)) - min((((1 - ((((0.27619047619 * (data.band_162 - data.band_130)) + data.band_130) / data.band_139)+(((0.304761904762 * (data.band_162 - data.band_130)) + data.band_130) / data.band_140)+(((0.338095238095 * (data.band_162 - data.band_130)) + data.band_130) / data.band_141)+(((0.371428571429 * (data.band_162 - data.band_130)) + data.band_130) / data.band_142)+(((0.4 * (data.band_162 - data.band_130)) + data.band_130) / data.band_143)+(((0.433333333333 * (data.band_162 - data.band_130)) + data.band_130) / data.band_144) / (((0.0571428571429 * (data.band_162 - data.band_130)) + data.band_130) / data.band_132)+(((0.0904761904762 * (data.band_162 - data.band_130)) + data.band_130) / data.band_133)+(((0.119047619048 * (data.band_162 - data.band_130)) + data.band_130) / data.band_134)+(((1.24761904762 * (data.band_162 - data.band_130)) + data.band_130) / data.band_170)+(((1.28571428571 * (data.band_162 - data.band_130)) + data.band_130) / data.band_171)+(((1.31428571429 * (data.band_162 - data.band_130)) + data.band_130) / data.band_172))) * ((data.band_139!=65535) * (data.band_140!=65535) * (data.band_141!=65535) * (data.band_142!=65535) * (data.band_143!=65535) * (data.band_144!=65535) * (data.band_132!=65535) * (data.band_133!=65535) * (data.band_134!=65535) * (data.band_170!=65535) * (data.band_171!=65535) * (data.band_172!=65535) * (data.band_130!=65535) * (data.band_162!=65535))) + (( 1 - ((data.band_139!=65535) * (data.band_140!=65535) * (data.band_141!=65535) * (data.band_142!=65535) * (data.band_143!=65535) * (data.band_144!=65535) * (data.band_132!=65535) * (data.band_133!=65535) * (data.band_134!=65535) * (data.band_170!=65535) * (data.band_171!=65535) * (data.band_172!=65535) * (data.band_130!=65535) * (data.band_162!=65535))) * 65535)))) * ((data.band_139!=65535) * (data.band_140!=65535) * (data.band_141!=65535) * (data.band_142!=65535) * (data.band_143!=65535) * (data.band_144!=65535) * (data.band_132!=65535) * (data.band_133!=65535) * (data.band_134!=65535) * (data.band_170!=65535) * (data.band_171!=65535) * (data.band_172!=65535) * (data.band_130!=65535) * (data.band_162!=65535))))), \"jpg\",\"nodata=null\");\n",
      "http://access.planetserver.eu:8080/rasdaman/ows?service=WCS&version=2.0.1&request=ProcessCoverages&query=for data in ( frt0000b385_07_if164l_trr3 ) return  encode((float) (((((1 - ((((0.27619047619 * (data.band_162 - data.band_130)) + data.band_130) / data.band_139)+(((0.304761904762 * (data.band_162 - data.band_130)) + data.band_130) / data.band_140)+(((0.338095238095 * (data.band_162 - data.band_130)) + data.band_130) / data.band_141)+(((0.371428571429 * (data.band_162 - data.band_130)) + data.band_130) / data.band_142)+(((0.4 * (data.band_162 - data.band_130)) + data.band_130) / data.band_143)+(((0.433333333333 * (data.band_162 - data.band_130)) + data.band_130) / data.band_144) / (((0.0571428571429 * (data.band_162 - data.band_130)) + data.band_130) / data.band_132)+(((0.0904761904762 * (data.band_162 - data.band_130)) + data.band_130) / data.band_133)+(((0.119047619048 * (data.band_162 - data.band_130)) + data.band_130) / data.band_134)+(((1.24761904762 * (data.band_162 - data.band_130)) + data.band_130) / data.band_170)+(((1.28571428571 * (data.band_162 - data.band_130)) + data.band_130) / data.band_171)+(((1.31428571429 * (data.band_162 - data.band_130)) + data.band_130) / data.band_172))) * ((data.band_139!=65535) * (data.band_140!=65535) * (data.band_141!=65535) * (data.band_142!=65535) * (data.band_143!=65535) * (data.band_144!=65535) * (data.band_132!=65535) * (data.band_133!=65535) * (data.band_134!=65535) * (data.band_170!=65535) * (data.band_171!=65535) * (data.band_172!=65535) * (data.band_130!=65535) * (data.band_162!=65535))) + (( 1 - ((data.band_139!=65535) * (data.band_140!=65535) * (data.band_141!=65535) * (data.band_142!=65535) * (data.band_143!=65535) * (data.band_144!=65535) * (data.band_132!=65535) * (data.band_133!=65535) * (data.band_134!=65535) * (data.band_170!=65535) * (data.band_171!=65535) * (data.band_172!=65535) * (data.band_130!=65535) * (data.band_162!=65535))) * 65535)) - min((((1 - ((((0.27619047619 * (data.band_162 - data.band_130)) + data.band_130) / data.band_139)+(((0.304761904762 * (data.band_162 - data.band_130)) + data.band_130) / data.band_140)+(((0.338095238095 * (data.band_162 - data.band_130)) + data.band_130) / data.band_141)+(((0.371428571429 * (data.band_162 - data.band_130)) + data.band_130) / data.band_142)+(((0.4 * (data.band_162 - data.band_130)) + data.band_130) / data.band_143)+(((0.433333333333 * (data.band_162 - data.band_130)) + data.band_130) / data.band_144) / (((0.0571428571429 * (data.band_162 - data.band_130)) + data.band_130) / data.band_132)+(((0.0904761904762 * (data.band_162 - data.band_130)) + data.band_130) / data.band_133)+(((0.119047619048 * (data.band_162 - data.band_130)) + data.band_130) / data.band_134)+(((1.24761904762 * (data.band_162 - data.band_130)) + data.band_130) / data.band_170)+(((1.28571428571 * (data.band_162 - data.band_130)) + data.band_130) / data.band_171)+(((1.31428571429 * (data.band_162 - data.band_130)) + data.band_130) / data.band_172))) * ((data.band_139!=65535) * (data.band_140!=65535) * (data.band_141!=65535) * (data.band_142!=65535) * (data.band_143!=65535) * (data.band_144!=65535) * (data.band_132!=65535) * (data.band_133!=65535) * (data.band_134!=65535) * (data.band_170!=65535) * (data.band_171!=65535) * (data.band_172!=65535) * (data.band_130!=65535) * (data.band_162!=65535))) + (( 1 - ((data.band_139!=65535) * (data.band_140!=65535) * (data.band_141!=65535) * (data.band_142!=65535) * (data.band_143!=65535) * (data.band_144!=65535) * (data.band_132!=65535) * (data.band_133!=65535) * (data.band_134!=65535) * (data.band_170!=65535) * (data.band_171!=65535) * (data.band_172!=65535) * (data.band_130!=65535) * (data.band_162!=65535))) * 65535)))) * ((data.band_139!=65535) * (data.band_140!=65535) * (data.band_141!=65535) * (data.band_142!=65535) * (data.band_143!=65535) * (data.band_144!=65535) * (data.band_132!=65535) * (data.band_133!=65535) * (data.band_134!=65535) * (data.band_170!=65535) * (data.band_171!=65535) * (data.band_172!=65535) * (data.band_130!=65535) * (data.band_162!=65535)) * (255 / max(((((1 - ((((0.27619047619 * (data.band_162 - data.band_130)) + data.band_130) / data.band_139)+(((0.304761904762 * (data.band_162 - data.band_130)) + data.band_130) / data.band_140)+(((0.338095238095 * (data.band_162 - data.band_130)) + data.band_130) / data.band_141)+(((0.371428571429 * (data.band_162 - data.band_130)) + data.band_130) / data.band_142)+(((0.4 * (data.band_162 - data.band_130)) + data.band_130) / data.band_143)+(((0.433333333333 * (data.band_162 - data.band_130)) + data.band_130) / data.band_144) / (((0.0571428571429 * (data.band_162 - data.band_130)) + data.band_130) / data.band_132)+(((0.0904761904762 * (data.band_162 - data.band_130)) + data.band_130) / data.band_133)+(((0.119047619048 * (data.band_162 - data.band_130)) + data.band_130) / data.band_134)+(((1.24761904762 * (data.band_162 - data.band_130)) + data.band_130) / data.band_170)+(((1.28571428571 * (data.band_162 - data.band_130)) + data.band_130) / data.band_171)+(((1.31428571429 * (data.band_162 - data.band_130)) + data.band_130) / data.band_172))) * ((data.band_139!=65535) * (data.band_140!=65535) * (data.band_141!=65535) * (data.band_142!=65535) * (data.band_143!=65535) * (data.band_144!=65535) * (data.band_132!=65535) * (data.band_133!=65535) * (data.band_134!=65535) * (data.band_170!=65535) * (data.band_171!=65535) * (data.band_172!=65535) * (data.band_130!=65535) * (data.band_162!=65535))) + (( 1 - ((data.band_139!=65535) * (data.band_140!=65535) * (data.band_141!=65535) * (data.band_142!=65535) * (data.band_143!=65535) * (data.band_144!=65535) * (data.band_132!=65535) * (data.band_133!=65535) * (data.band_134!=65535) * (data.band_170!=65535) * (data.band_171!=65535) * (data.band_172!=65535) * (data.band_130!=65535) * (data.band_162!=65535))) * 65535)) - min((((1 - ((((0.27619047619 * (data.band_162 - data.band_130)) + data.band_130) / data.band_139)+(((0.304761904762 * (data.band_162 - data.band_130)) + data.band_130) / data.band_140)+(((0.338095238095 * (data.band_162 - data.band_130)) + data.band_130) / data.band_141)+(((0.371428571429 * (data.band_162 - data.band_130)) + data.band_130) / data.band_142)+(((0.4 * (data.band_162 - data.band_130)) + data.band_130) / data.band_143)+(((0.433333333333 * (data.band_162 - data.band_130)) + data.band_130) / data.band_144) / (((0.0571428571429 * (data.band_162 - data.band_130)) + data.band_130) / data.band_132)+(((0.0904761904762 * (data.band_162 - data.band_130)) + data.band_130) / data.band_133)+(((0.119047619048 * (data.band_162 - data.band_130)) + data.band_130) / data.band_134)+(((1.24761904762 * (data.band_162 - data.band_130)) + data.band_130) / data.band_170)+(((1.28571428571 * (data.band_162 - data.band_130)) + data.band_130) / data.band_171)+(((1.31428571429 * (data.band_162 - data.band_130)) + data.band_130) / data.band_172))) * ((data.band_139!=65535) * (data.band_140!=65535) * (data.band_141!=65535) * (data.band_142!=65535) * (data.band_143!=65535) * (data.band_144!=65535) * (data.band_132!=65535) * (data.band_133!=65535) * (data.band_134!=65535) * (data.band_170!=65535) * (data.band_171!=65535) * (data.band_172!=65535) * (data.band_130!=65535) * (data.band_162!=65535))) + (( 1 - ((data.band_139!=65535) * (data.band_140!=65535) * (data.band_141!=65535) * (data.band_142!=65535) * (data.band_143!=65535) * (data.band_144!=65535) * (data.band_132!=65535) * (data.band_133!=65535) * (data.band_134!=65535) * (data.band_170!=65535) * (data.band_171!=65535) * (data.band_172!=65535) * (data.band_130!=65535) * (data.band_162!=65535))) * 65535)))) * ((data.band_139!=65535) * (data.band_140!=65535) * (data.band_141!=65535) * (data.band_142!=65535) * (data.band_143!=65535) * (data.band_144!=65535) * (data.band_132!=65535) * (data.band_133!=65535) * (data.band_134!=65535) * (data.band_170!=65535) * (data.band_171!=65535) * (data.band_172!=65535) * (data.band_130!=65535) * (data.band_162!=65535))))), \"tif\",\"nodata=null\");\n"
     ]
    }
   ],
   "source": [
    "#Product #25: BD1900r2: 1.9um H2O band depth\n",
    "#H2O\n",
    "#No caveats.\n",
    "# 1-( RRC1908 +RRC1914 +RRC1921 +RRC1928 +RRC1934 +RRC1941 ) / ( RRC1862 +RRC1869 +RRC1875 +RRC2112 +RRC2120 +RRC2126 )\n",
    "# Where RRCxxxx = Rxxxx / RCxxxx, slope RC anchored at R1850 and R2060.\n",
    "#f_RCx = lambda c,s,l: f_plus( f_times(str(f_waveRatio(c,s,l)),f_minus(f_R(l),f_R(s))),f_R(s) )\n",
    "BD1900r2NN = f_indexNN([1908,1914,1921,1928,1934,1941,1862,1869,1875,2112,2120,2126,1850,2060])\n",
    "BD1900r2NumerList = [1908,1914,1921,1928,1934,1941] \n",
    "BD1900r2DenomList = [1862,1869,1875,2112,2120,2126]\n",
    "BD1900r2 = f_minus('1',f_over(f_sumRRCx(BD1900r2NumerList,1850,2060),f_sumRRCx(BD1900r2DenomList,1850,2060)))\n",
    "print tql(f_encode( f_toEncode(BD1900r2, BD1900r2NN) , 'unsigned char', '\"jpg\"'))\n",
    "print tql(f_encode( f_toEncode(BD1900r2, BD1900r2NN) , 'float', '\"tif\"'))"
   ]
  },
  {
   "cell_type": "code",
   "execution_count": 72,
   "metadata": {
    "collapsed": true
   },
   "outputs": [],
   "source": [
    "#Product #26: BDI2000: requires integration"
   ]
  },
  {
   "cell_type": "code",
   "execution_count": 73,
   "metadata": {
    "collapsed": false
   },
   "outputs": [
    {
     "name": "stdout",
     "output_type": "stream",
     "text": [
      "http://access.planetserver.eu:8080/rasdaman/ows?service=WCS&version=2.0.1&request=ProcessCoverages&query=for data in ( frt0000b385_07_if164l_trr3 ) return  encode((unsigned char) (((((1 - (data.band_173 / ((0.36875 * data.band_142) + (0.63125 * data.band_191)))) * ((data.band_173!=65535) * (data.band_142!=65535) * (data.band_191!=65535))) + (( 1 - ((data.band_173!=65535) * (data.band_142!=65535) * (data.band_191!=65535))) * 65535)) - min((((1 - (data.band_173 / ((0.36875 * data.band_142) + (0.63125 * data.band_191)))) * ((data.band_173!=65535) * (data.band_142!=65535) * (data.band_191!=65535))) + (( 1 - ((data.band_173!=65535) * (data.band_142!=65535) * (data.band_191!=65535))) * 65535)))) * ((data.band_173!=65535) * (data.band_142!=65535) * (data.band_191!=65535)) * (255 / max(((((1 - (data.band_173 / ((0.36875 * data.band_142) + (0.63125 * data.band_191)))) * ((data.band_173!=65535) * (data.band_142!=65535) * (data.band_191!=65535))) + (( 1 - ((data.band_173!=65535) * (data.band_142!=65535) * (data.band_191!=65535))) * 65535)) - min((((1 - (data.band_173 / ((0.36875 * data.band_142) + (0.63125 * data.band_191)))) * ((data.band_173!=65535) * (data.band_142!=65535) * (data.band_191!=65535))) + (( 1 - ((data.band_173!=65535) * (data.band_142!=65535) * (data.band_191!=65535))) * 65535)))) * ((data.band_173!=65535) * (data.band_142!=65535) * (data.band_191!=65535))))), \"jpg\",\"nodata=null\");\n"
     ]
    }
   ],
   "source": [
    "#Product #27: BD2100_2: 2132 over 1930 to 2250\n",
    "#H2O in monohydrated sulfates\n",
    "#Caveats: Alunite, Serpentine\n",
    "print tql(f_encode( f_toEncodeBD3L(2132,1930,2250) , 'unsigned char', '\"jpg\"')) #IS SOMETHING WRONG HERE? HOW COME ALL L BAND DEPTHS LOOK MESSED UP?"
   ]
  },
  {
   "cell_type": "code",
   "execution_count": 74,
   "metadata": {
    "collapsed": false
   },
   "outputs": [
    {
     "name": "stdout",
     "output_type": "stream",
     "text": [
      "http://access.planetserver.eu:8080/rasdaman/ows?service=WCS&version=2.0.1&request=ProcessCoverages&query=for data in ( frt0000b385_07_if164l_trr3 ) return  encode((unsigned char) (((((1 - (data.band_178 / ((0.590909090909 * data.band_171) + (0.409090909091 * data.band_188)))) * ((data.band_178!=65535) * (data.band_171!=65535) * (data.band_188!=65535))) + (( 1 - ((data.band_178!=65535) * (data.band_171!=65535) * (data.band_188!=65535))) * 65535)) - min((((1 - (data.band_178 / ((0.590909090909 * data.band_171) + (0.409090909091 * data.band_188)))) * ((data.band_178!=65535) * (data.band_171!=65535) * (data.band_188!=65535))) + (( 1 - ((data.band_178!=65535) * (data.band_171!=65535) * (data.band_188!=65535))) * 65535)))) * ((data.band_178!=65535) * (data.band_171!=65535) * (data.band_188!=65535)) * (255 / max(((((1 - (data.band_178 / ((0.590909090909 * data.band_171) + (0.409090909091 * data.band_188)))) * ((data.band_178!=65535) * (data.band_171!=65535) * (data.band_188!=65535))) + (( 1 - ((data.band_178!=65535) * (data.band_171!=65535) * (data.band_188!=65535))) * 65535)) - min((((1 - (data.band_178 / ((0.590909090909 * data.band_171) + (0.409090909091 * data.band_188)))) * ((data.band_178!=65535) * (data.band_171!=65535) * (data.band_188!=65535))) + (( 1 - ((data.band_178!=65535) * (data.band_171!=65535) * (data.band_188!=65535))) * 65535)))) * ((data.band_178!=65535) * (data.band_171!=65535) * (data.band_188!=65535))))), \"jpg\",\"nodata=null\");\n"
     ]
    }
   ],
   "source": [
    "#Product #28: BD2165: 2165 over 2120 to 2230\n",
    "#Pyrophyllite Kaolinite group\n",
    "#Caveats: Beidellite, Allophane, Imogolite\n",
    "print tql(f_encode( f_toEncodeBD3L(2165,2120,2230) , 'unsigned char', '\"jpg\"')) #PERHAPS JUST THE DATA IS VERY POOR (NOISY)"
   ]
  },
  {
   "cell_type": "code",
   "execution_count": 75,
   "metadata": {
    "collapsed": false
   },
   "outputs": [
    {
     "name": "stdout",
     "output_type": "stream",
     "text": [
      "http://access.planetserver.eu:8080/rasdaman/ows?service=WCS&version=2.0.1&request=ProcessCoverages&query=for data in ( frt0000b385_07_if164l_trr3 ) return  encode((unsigned char) (((((1 - (data.band_181 / ((0.5 * data.band_171) + (0.5 * data.band_191)))) * ((data.band_181!=65535) * (data.band_171!=65535) * (data.band_191!=65535))) + (( 1 - ((data.band_181!=65535) * (data.band_171!=65535) * (data.band_191!=65535))) * 65535)) - min((((1 - (data.band_181 / ((0.5 * data.band_171) + (0.5 * data.band_191)))) * ((data.band_181!=65535) * (data.band_171!=65535) * (data.band_191!=65535))) + (( 1 - ((data.band_181!=65535) * (data.band_171!=65535) * (data.band_191!=65535))) * 65535)))) * ((data.band_181!=65535) * (data.band_171!=65535) * (data.band_191!=65535)) * (255 / max(((((1 - (data.band_181 / ((0.5 * data.band_171) + (0.5 * data.band_191)))) * ((data.band_181!=65535) * (data.band_171!=65535) * (data.band_191!=65535))) + (( 1 - ((data.band_181!=65535) * (data.band_171!=65535) * (data.band_191!=65535))) * 65535)) - min((((1 - (data.band_181 / ((0.5 * data.band_171) + (0.5 * data.band_191)))) * ((data.band_181!=65535) * (data.band_171!=65535) * (data.band_191!=65535))) + (( 1 - ((data.band_181!=65535) * (data.band_171!=65535) * (data.band_191!=65535))) * 65535)))) * ((data.band_181!=65535) * (data.band_171!=65535) * (data.band_191!=65535))))), \"jpg\",\"nodata=null\");\n",
      "http://access.planetserver.eu:8080/rasdaman/ows?service=WCS&version=2.0.1&request=ProcessCoverages&query=for data in ( frt0000b385_07_if164l_trr3 ) return  encode((unsigned char) (((((1 - (data.band_181 / ((0.5 * data.band_171) + (0.5 * data.band_191)))) * ((data.band_181!=65535) * (data.band_171!=65535) * (data.band_191!=65535))) + (( 1 - ((data.band_181!=65535) * (data.band_171!=65535) * (data.band_191!=65535))) * 65535)) - min((((1 - (data.band_181 / ((0.5 * data.band_171) + (0.5 * data.band_191)))) * ((data.band_181!=65535) * (data.band_171!=65535) * (data.band_191!=65535))) + (( 1 - ((data.band_181!=65535) * (data.band_171!=65535) * (data.band_191!=65535))) * 65535)))) * ((data.band_181!=65535) * (data.band_171!=65535) * (data.band_191!=65535)) * (255 / max(((((1 - (data.band_181 / ((0.5 * data.band_171) + (0.5 * data.band_191)))) * ((data.band_181!=65535) * (data.band_171!=65535) * (data.band_191!=65535))) + (( 1 - ((data.band_181!=65535) * (data.band_171!=65535) * (data.band_191!=65535))) * 65535)) - min((((1 - (data.band_181 / ((0.5 * data.band_171) + (0.5 * data.band_191)))) * ((data.band_181!=65535) * (data.band_171!=65535) * (data.band_191!=65535))) + (( 1 - ((data.band_181!=65535) * (data.band_171!=65535) * (data.band_191!=65535))) * 65535)))) * ((data.band_181!=65535) * (data.band_171!=65535) * (data.band_191!=65535))))), \"jpg\",\"nodata=null\");\n"
     ]
    }
   ],
   "source": [
    "#Product #29: BD2190: 2185 over 2120 to 2250\n",
    "#Beidellite, Allophane, Imogolite\n",
    "#Caveats: Kaolinite group\n",
    "print tql(f_encode( f_toEncodeBD3L(2185,2120,2250) , 'unsigned char', '\"jpg\"'))\n",
    "print tql(f_encode( f_toEncode(f_BandDepthL(2185,2120,2250), f_indexNN([2185,2120,2250]) ), 'unsigned char', '\"jpg\"')) #it's same as above"
   ]
  },
  {
   "cell_type": "code",
   "execution_count": 76,
   "metadata": {
    "collapsed": false
   },
   "outputs": [
    {
     "name": "stdout",
     "output_type": "stream",
     "text": [
      "http://access.planetserver.eu:8080/rasdaman/ows?service=WCS&version=2.0.1&request=ProcessCoverages&query=for data in ( frt0000b385_07_if164l_trr3 ) return  encode((unsigned char) (((((((1 - (data.band_178 / ((0.804347826087 * data.band_171) + (0.195652173913 * data.band_206))))<(1 - (data.band_185 / ((0.608695652174 * data.band_171) + (0.391304347826 * data.band_206)))))*(1 - (data.band_178 / ((0.804347826087 * data.band_171) + (0.195652173913 * data.band_206)))) + ((1 - (data.band_185 / ((0.608695652174 * data.band_171) + (0.391304347826 * data.band_206))))<(1 - (data.band_178 / ((0.804347826087 * data.band_171) + (0.195652173913 * data.band_206)))))*(1 - (data.band_185 / ((0.608695652174 * data.band_171) + (0.391304347826 * data.band_206))))) * ((data.band_178!=65535) * (data.band_171!=65535) * (data.band_206!=65535) * (data.band_185!=65535))) + (( 1 - ((data.band_178!=65535) * (data.band_171!=65535) * (data.band_206!=65535) * (data.band_185!=65535))) * 65535)) - min((((((1 - (data.band_178 / ((0.804347826087 * data.band_171) + (0.195652173913 * data.band_206))))<(1 - (data.band_185 / ((0.608695652174 * data.band_171) + (0.391304347826 * data.band_206)))))*(1 - (data.band_178 / ((0.804347826087 * data.band_171) + (0.195652173913 * data.band_206)))) + ((1 - (data.band_185 / ((0.608695652174 * data.band_171) + (0.391304347826 * data.band_206))))<(1 - (data.band_178 / ((0.804347826087 * data.band_171) + (0.195652173913 * data.band_206)))))*(1 - (data.band_185 / ((0.608695652174 * data.band_171) + (0.391304347826 * data.band_206))))) * ((data.band_178!=65535) * (data.band_171!=65535) * (data.band_206!=65535) * (data.band_185!=65535))) + (( 1 - ((data.band_178!=65535) * (data.band_171!=65535) * (data.band_206!=65535) * (data.band_185!=65535))) * 65535)))) * ((data.band_178!=65535) * (data.band_171!=65535) * (data.band_206!=65535) * (data.band_185!=65535)) * (255 / max(((((((1 - (data.band_178 / ((0.804347826087 * data.band_171) + (0.195652173913 * data.band_206))))<(1 - (data.band_185 / ((0.608695652174 * data.band_171) + (0.391304347826 * data.band_206)))))*(1 - (data.band_178 / ((0.804347826087 * data.band_171) + (0.195652173913 * data.band_206)))) + ((1 - (data.band_185 / ((0.608695652174 * data.band_171) + (0.391304347826 * data.band_206))))<(1 - (data.band_178 / ((0.804347826087 * data.band_171) + (0.195652173913 * data.band_206)))))*(1 - (data.band_185 / ((0.608695652174 * data.band_171) + (0.391304347826 * data.band_206))))) * ((data.band_178!=65535) * (data.band_171!=65535) * (data.band_206!=65535) * (data.band_185!=65535))) + (( 1 - ((data.band_178!=65535) * (data.band_171!=65535) * (data.band_206!=65535) * (data.band_185!=65535))) * 65535)) - min((((((1 - (data.band_178 / ((0.804347826087 * data.band_171) + (0.195652173913 * data.band_206))))<(1 - (data.band_185 / ((0.608695652174 * data.band_171) + (0.391304347826 * data.band_206)))))*(1 - (data.band_178 / ((0.804347826087 * data.band_171) + (0.195652173913 * data.band_206)))) + ((1 - (data.band_185 / ((0.608695652174 * data.band_171) + (0.391304347826 * data.band_206))))<(1 - (data.band_178 / ((0.804347826087 * data.band_171) + (0.195652173913 * data.band_206)))))*(1 - (data.band_185 / ((0.608695652174 * data.band_171) + (0.391304347826 * data.band_206))))) * ((data.band_178!=65535) * (data.band_171!=65535) * (data.band_206!=65535) * (data.band_185!=65535))) + (( 1 - ((data.band_178!=65535) * (data.band_171!=65535) * (data.band_206!=65535) * (data.band_185!=65535))) * 65535)))) * ((data.band_178!=65535) * (data.band_171!=65535) * (data.band_206!=65535) * (data.band_185!=65535))))), \"jpg\",\"nodata=null\");\n"
     ]
    }
   ],
   "source": [
    "#Product #30: MIN2200: minimum[BD(2165,2120,2350),BD(2210,2120,2350)]\n",
    "#Kaolinite group\n",
    "#No caveats.\n",
    "print tql(f_encode( f_toEncode( f_minimum(f_BandDepthL(2165,2120,2350),f_BandDepthL(2210,2120,2350)), f_indexNN([2165,2120,2350,2210])), 'unsigned char', '\"jpg\"'))"
   ]
  },
  {
   "cell_type": "code",
   "execution_count": 77,
   "metadata": {
    "collapsed": false
   },
   "outputs": [
    {
     "name": "stdout",
     "output_type": "stream",
     "text": [
      "http://access.planetserver.eu:8080/rasdaman/ows?service=WCS&version=2.0.1&request=ProcessCoverages&query=for data in ( frt0000b385_07_if164l_trr3 ) return  encode((unsigned char) (((((1 - (data.band_185 / ((0.470588235294 * data.band_178) + (0.529411764706 * data.band_191)))) * ((data.band_185!=65535) * (data.band_178!=65535) * (data.band_191!=65535))) + (( 1 - ((data.band_185!=65535) * (data.band_178!=65535) * (data.band_191!=65535))) * 65535)) - min((((1 - (data.band_185 / ((0.470588235294 * data.band_178) + (0.529411764706 * data.band_191)))) * ((data.band_185!=65535) * (data.band_178!=65535) * (data.band_191!=65535))) + (( 1 - ((data.band_185!=65535) * (data.band_178!=65535) * (data.band_191!=65535))) * 65535)))) * ((data.band_185!=65535) * (data.band_178!=65535) * (data.band_191!=65535)) * (255 / max(((((1 - (data.band_185 / ((0.470588235294 * data.band_178) + (0.529411764706 * data.band_191)))) * ((data.band_185!=65535) * (data.band_178!=65535) * (data.band_191!=65535))) + (( 1 - ((data.band_185!=65535) * (data.band_178!=65535) * (data.band_191!=65535))) * 65535)) - min((((1 - (data.band_185 / ((0.470588235294 * data.band_178) + (0.529411764706 * data.band_191)))) * ((data.band_185!=65535) * (data.band_178!=65535) * (data.band_191!=65535))) + (( 1 - ((data.band_185!=65535) * (data.band_178!=65535) * (data.band_191!=65535))) * 65535)))) * ((data.band_185!=65535) * (data.band_178!=65535) * (data.band_191!=65535))))), \"jpg\",\"nodata=null\");\n"
     ]
    }
   ],
   "source": [
    "#Product #31: BD2210_2: 2210 over 2165 to 2250\n",
    "#Al-OH minerals\n",
    "#Caveats: Gypsum, Alunite\n",
    "print tql(f_encode( f_toEncodeBD3L(2210,2165,2250) , 'unsigned char', '\"jpg\"'))"
   ]
  },
  {
   "cell_type": "code",
   "execution_count": 78,
   "metadata": {
    "collapsed": false
   },
   "outputs": [
    {
     "name": "stdout",
     "output_type": "stream",
     "text": [
      "http://access.planetserver.eu:8080/rasdaman/ows?service=WCS&version=2.0.1&request=ProcessCoverages&query=for data in ( frt0000b385_07_if164l_trr3 ) return  encode((unsigned char) ((((((((0.642276422764 * (data.band_218 - data.band_125)) + data.band_125) / data.band_185)+(((0.674796747967 * (data.band_218 - data.band_125)) + data.band_125) / data.band_188) / (2 * (((0.569105691057 * (data.band_218 - data.band_125)) + data.band_125) / data.band_178))) * ((data.band_185!=65535) * (data.band_188!=65535) * (data.band_178!=65535) * (data.band_125!=65535) * (data.band_218!=65535))) + (( 1 - ((data.band_185!=65535) * (data.band_188!=65535) * (data.band_178!=65535) * (data.band_125!=65535) * (data.band_218!=65535))) * 65535)) - min(((((((0.642276422764 * (data.band_218 - data.band_125)) + data.band_125) / data.band_185)+(((0.674796747967 * (data.band_218 - data.band_125)) + data.band_125) / data.band_188) / (2 * (((0.569105691057 * (data.band_218 - data.band_125)) + data.band_125) / data.band_178))) * ((data.band_185!=65535) * (data.band_188!=65535) * (data.band_178!=65535) * (data.band_125!=65535) * (data.band_218!=65535))) + (( 1 - ((data.band_185!=65535) * (data.band_188!=65535) * (data.band_178!=65535) * (data.band_125!=65535) * (data.band_218!=65535))) * 65535)))) * ((data.band_185!=65535) * (data.band_188!=65535) * (data.band_178!=65535) * (data.band_125!=65535) * (data.band_218!=65535)) * (255 / max((((((((0.642276422764 * (data.band_218 - data.band_125)) + data.band_125) / data.band_185)+(((0.674796747967 * (data.band_218 - data.band_125)) + data.band_125) / data.band_188) / (2 * (((0.569105691057 * (data.band_218 - data.band_125)) + data.band_125) / data.band_178))) * ((data.band_185!=65535) * (data.band_188!=65535) * (data.band_178!=65535) * (data.band_125!=65535) * (data.band_218!=65535))) + (( 1 - ((data.band_185!=65535) * (data.band_188!=65535) * (data.band_178!=65535) * (data.band_125!=65535) * (data.band_218!=65535))) * 65535)) - min(((((((0.642276422764 * (data.band_218 - data.band_125)) + data.band_125) / data.band_185)+(((0.674796747967 * (data.band_218 - data.band_125)) + data.band_125) / data.band_188) / (2 * (((0.569105691057 * (data.band_218 - data.band_125)) + data.band_125) / data.band_178))) * ((data.band_185!=65535) * (data.band_188!=65535) * (data.band_178!=65535) * (data.band_125!=65535) * (data.band_218!=65535))) + (( 1 - ((data.band_185!=65535) * (data.band_188!=65535) * (data.band_178!=65535) * (data.band_125!=65535) * (data.band_218!=65535))) * 65535)))) * ((data.band_185!=65535) * (data.band_188!=65535) * (data.band_178!=65535) * (data.band_125!=65535) * (data.band_218!=65535))))), \"jpg\",\"nodata=null\");\n"
     ]
    }
   ],
   "source": [
    "#Product #32: D2200: 2.2um dropoff: 1-(RRC2210+RRC2230)/(2*RRC2165), RC anchored at R1815 and R2430\n",
    "#Al-OH minerals\n",
    "#Caveats: Chlorite, Prehnite\n",
    "print tql(f_encode( f_toEncode(f_over(f_sumRRCx([2210,2230],1815,2430), f_times('2', f_RRCx(2165,1815,2430))), f_indexNN([2210,2230,2165,1815,2430])), 'unsigned char', '\"jpg\"'))"
   ]
  },
  {
   "cell_type": "code",
   "execution_count": 79,
   "metadata": {
    "collapsed": false
   },
   "outputs": [
    {
     "name": "stdout",
     "output_type": "stream",
     "text": [
      "http://access.planetserver.eu:8080/rasdaman/ows?service=WCS&version=2.0.1&request=ProcessCoverages&query=for data in ( frt0000b385_07_if164l_trr3 ) return  encode((unsigned char) (((((1 - (data.band_188 / ((0.404761904762 * data.band_185) + (0.595238095238 * data.band_191)))) * ((data.band_188!=65535) * (data.band_185!=65535) * (data.band_191!=65535))) + (( 1 - ((data.band_188!=65535) * (data.band_185!=65535) * (data.band_191!=65535))) * 65535)) - min((((1 - (data.band_188 / ((0.404761904762 * data.band_185) + (0.595238095238 * data.band_191)))) * ((data.band_188!=65535) * (data.band_185!=65535) * (data.band_191!=65535))) + (( 1 - ((data.band_188!=65535) * (data.band_185!=65535) * (data.band_191!=65535))) * 65535)))) * ((data.band_188!=65535) * (data.band_185!=65535) * (data.band_191!=65535)) * (255 / max(((((1 - (data.band_188 / ((0.404761904762 * data.band_185) + (0.595238095238 * data.band_191)))) * ((data.band_188!=65535) * (data.band_185!=65535) * (data.band_191!=65535))) + (( 1 - ((data.band_188!=65535) * (data.band_185!=65535) * (data.band_191!=65535))) * 65535)) - min((((1 - (data.band_188 / ((0.404761904762 * data.band_185) + (0.595238095238 * data.band_191)))) * ((data.band_188!=65535) * (data.band_185!=65535) * (data.band_191!=65535))) + (( 1 - ((data.band_188!=65535) * (data.band_185!=65535) * (data.band_191!=65535))) * 65535)))) * ((data.band_188!=65535) * (data.band_185!=65535) * (data.band_191!=65535))))), \"jpg\",\"nodata=null\");\n"
     ]
    }
   ],
   "source": [
    "#Product #33: BD2230: 2235 over 2210 to 2252\n",
    "#Hydroxylated ferric sulfate\n",
    "#Caveats: Other Al-OH minerals\n",
    "print tql(f_encode( f_toEncodeBD3L(2235,2210,2252) , 'unsigned char', '\"jpg\"'))"
   ]
  },
  {
   "cell_type": "code",
   "execution_count": 80,
   "metadata": {
    "collapsed": false
   },
   "outputs": [
    {
     "name": "stdout",
     "output_type": "stream",
     "text": [
      "http://access.planetserver.eu:8080/rasdaman/ows?service=WCS&version=2.0.1&request=ProcessCoverages&query=for data in ( frt0000b385_07_if164l_trr3 ) return  encode((unsigned char) (((((1 - (data.band_190 / ((0.431818181818 * data.band_171) + (0.568181818182 * data.band_204)))) * ((data.band_190!=65535) * (data.band_171!=65535) * (data.band_204!=65535))) + (( 1 - ((data.band_190!=65535) * (data.band_171!=65535) * (data.band_204!=65535))) * 65535)) - min((((1 - (data.band_190 / ((0.431818181818 * data.band_171) + (0.568181818182 * data.band_204)))) * ((data.band_190!=65535) * (data.band_171!=65535) * (data.band_204!=65535))) + (( 1 - ((data.band_190!=65535) * (data.band_171!=65535) * (data.band_204!=65535))) * 65535)))) * ((data.band_190!=65535) * (data.band_171!=65535) * (data.band_204!=65535)) * (255 / max(((((1 - (data.band_190 / ((0.431818181818 * data.band_171) + (0.568181818182 * data.band_204)))) * ((data.band_190!=65535) * (data.band_171!=65535) * (data.band_204!=65535))) + (( 1 - ((data.band_190!=65535) * (data.band_171!=65535) * (data.band_204!=65535))) * 65535)) - min((((1 - (data.band_190 / ((0.431818181818 * data.band_171) + (0.568181818182 * data.band_204)))) * ((data.band_190!=65535) * (data.band_171!=65535) * (data.band_204!=65535))) + (( 1 - ((data.band_190!=65535) * (data.band_171!=65535) * (data.band_204!=65535))) * 65535)))) * ((data.band_190!=65535) * (data.band_171!=65535) * (data.band_204!=65535))))), \"jpg\",\"nodata=null\");\n"
     ]
    }
   ],
   "source": [
    "#Product #34: BD2250: 2245 over 2120 to 2340\n",
    "#Opal and other Al-OH minerals\n",
    "#No Caveats\n",
    "print tql(f_encode( f_toEncodeBD3L(2245,2120,2340) , 'unsigned char', '\"jpg\"'))"
   ]
  },
  {
   "cell_type": "code",
   "execution_count": 81,
   "metadata": {
    "collapsed": false
   },
   "outputs": [
    {
     "name": "stdout",
     "output_type": "stream",
     "text": [
      "http://access.planetserver.eu:8080/rasdaman/ows?service=WCS&version=2.0.1&request=ProcessCoverages&query=for data in ( frt0000b385_07_if164l_trr3 ) return  encode((unsigned char) (((((((1 - (data.band_185 / ((0.756756756757 * data.band_178) + (0.243243243243 * data.band_206))))<(1 - (data.band_193 / ((0.459459459459 * data.band_178) + (0.540540540541 * data.band_206)))))*(1 - (data.band_185 / ((0.756756756757 * data.band_178) + (0.243243243243 * data.band_206)))) + ((1 - (data.band_193 / ((0.459459459459 * data.band_178) + (0.540540540541 * data.band_206))))<(1 - (data.band_185 / ((0.756756756757 * data.band_178) + (0.243243243243 * data.band_206)))))*(1 - (data.band_193 / ((0.459459459459 * data.band_178) + (0.540540540541 * data.band_206))))) * ((data.band_185!=65535) * (data.band_178!=65535) * (data.band_206!=65535) * (data.band_193!=65535))) + (( 1 - ((data.band_185!=65535) * (data.band_178!=65535) * (data.band_206!=65535) * (data.band_193!=65535))) * 65535)) - min((((((1 - (data.band_185 / ((0.756756756757 * data.band_178) + (0.243243243243 * data.band_206))))<(1 - (data.band_193 / ((0.459459459459 * data.band_178) + (0.540540540541 * data.band_206)))))*(1 - (data.band_185 / ((0.756756756757 * data.band_178) + (0.243243243243 * data.band_206)))) + ((1 - (data.band_193 / ((0.459459459459 * data.band_178) + (0.540540540541 * data.band_206))))<(1 - (data.band_185 / ((0.756756756757 * data.band_178) + (0.243243243243 * data.band_206)))))*(1 - (data.band_193 / ((0.459459459459 * data.band_178) + (0.540540540541 * data.band_206))))) * ((data.band_185!=65535) * (data.band_178!=65535) * (data.band_206!=65535) * (data.band_193!=65535))) + (( 1 - ((data.band_185!=65535) * (data.band_178!=65535) * (data.band_206!=65535) * (data.band_193!=65535))) * 65535)))) * ((data.band_185!=65535) * (data.band_178!=65535) * (data.band_206!=65535) * (data.band_193!=65535)) * (255 / max(((((((1 - (data.band_185 / ((0.756756756757 * data.band_178) + (0.243243243243 * data.band_206))))<(1 - (data.band_193 / ((0.459459459459 * data.band_178) + (0.540540540541 * data.band_206)))))*(1 - (data.band_185 / ((0.756756756757 * data.band_178) + (0.243243243243 * data.band_206)))) + ((1 - (data.band_193 / ((0.459459459459 * data.band_178) + (0.540540540541 * data.band_206))))<(1 - (data.band_185 / ((0.756756756757 * data.band_178) + (0.243243243243 * data.band_206)))))*(1 - (data.band_193 / ((0.459459459459 * data.band_178) + (0.540540540541 * data.band_206))))) * ((data.band_185!=65535) * (data.band_178!=65535) * (data.band_206!=65535) * (data.band_193!=65535))) + (( 1 - ((data.band_185!=65535) * (data.band_178!=65535) * (data.band_206!=65535) * (data.band_193!=65535))) * 65535)) - min((((((1 - (data.band_185 / ((0.756756756757 * data.band_178) + (0.243243243243 * data.band_206))))<(1 - (data.band_193 / ((0.459459459459 * data.band_178) + (0.540540540541 * data.band_206)))))*(1 - (data.band_185 / ((0.756756756757 * data.band_178) + (0.243243243243 * data.band_206)))) + ((1 - (data.band_193 / ((0.459459459459 * data.band_178) + (0.540540540541 * data.band_206))))<(1 - (data.band_185 / ((0.756756756757 * data.band_178) + (0.243243243243 * data.band_206)))))*(1 - (data.band_193 / ((0.459459459459 * data.band_178) + (0.540540540541 * data.band_206))))) * ((data.band_185!=65535) * (data.band_178!=65535) * (data.band_206!=65535) * (data.band_193!=65535))) + (( 1 - ((data.band_185!=65535) * (data.band_178!=65535) * (data.band_206!=65535) * (data.band_193!=65535))) * 65535)))) * ((data.band_185!=65535) * (data.band_178!=65535) * (data.band_206!=65535) * (data.band_193!=65535))))), \"jpg\",\"nodata=null\");\n"
     ]
    }
   ],
   "source": [
    "#Product #35: MIN2250: min(BD(2210,2165,2350),BD(2265,2165,2350)):\n",
    "#Opal\n",
    "#No caveats\n",
    "print tql(f_encode( f_toEncode( f_minimum(f_BandDepthL(2210,2165,2350),f_BandDepthL(2265,2165,2350)), f_indexNN([2210,2165,2350,2265])), 'unsigned char', '\"jpg\"'))"
   ]
  },
  {
   "cell_type": "code",
   "execution_count": 82,
   "metadata": {
    "collapsed": false
   },
   "outputs": [
    {
     "name": "stdout",
     "output_type": "stream",
     "text": [
      "http://access.planetserver.eu:8080/rasdaman/ows?service=WCS&version=2.0.1&request=ProcessCoverages&query=for data in ( frt0000b385_07_if164l_trr3 ) return  encode((unsigned char) (((((1 - (data.band_193 / ((0.340909090909 * data.band_171) + (0.659090909091 * data.band_204)))) * ((data.band_193!=65535) * (data.band_171!=65535) * (data.band_204!=65535))) + (( 1 - ((data.band_193!=65535) * (data.band_171!=65535) * (data.band_204!=65535))) * 65535)) - min((((1 - (data.band_193 / ((0.340909090909 * data.band_171) + (0.659090909091 * data.band_204)))) * ((data.band_193!=65535) * (data.band_171!=65535) * (data.band_204!=65535))) + (( 1 - ((data.band_193!=65535) * (data.band_171!=65535) * (data.band_204!=65535))) * 65535)))) * ((data.band_193!=65535) * (data.band_171!=65535) * (data.band_204!=65535)) * (255 / max(((((1 - (data.band_193 / ((0.340909090909 * data.band_171) + (0.659090909091 * data.band_204)))) * ((data.band_193!=65535) * (data.band_171!=65535) * (data.band_204!=65535))) + (( 1 - ((data.band_193!=65535) * (data.band_171!=65535) * (data.band_204!=65535))) * 65535)) - min((((1 - (data.band_193 / ((0.340909090909 * data.band_171) + (0.659090909091 * data.band_204)))) * ((data.band_193!=65535) * (data.band_171!=65535) * (data.band_204!=65535))) + (( 1 - ((data.band_193!=65535) * (data.band_171!=65535) * (data.band_204!=65535))) * 65535)))) * ((data.band_193!=65535) * (data.band_171!=65535) * (data.band_204!=65535))))), \"jpg\",\"nodata=null\");\n"
     ]
    }
   ],
   "source": [
    "#Product #36: BD2265: 2265 over 2210 to 2340\n",
    "#Jarosite, Gibbsite, Acid-leached nontronite\n",
    "#No caveats\n",
    "print tql(f_encode( f_toEncodeBD3L(2265,2120,2340) , 'unsigned char', '\"jpg\"'))"
   ]
  },
  {
   "cell_type": "code",
   "execution_count": 83,
   "metadata": {
    "collapsed": false
   },
   "outputs": [
    {
     "name": "stdout",
     "output_type": "stream",
     "text": [
      "http://access.planetserver.eu:8080/rasdaman/ows?service=WCS&version=2.0.1&request=ProcessCoverages&query=for data in ( frt0000b385_07_if164l_trr3 ) return  encode((unsigned char) (((((1 - (data.band_197 / ((0.6 * data.band_191) + (0.4 * data.band_206)))) * ((data.band_197!=65535) * (data.band_191!=65535) * (data.band_206!=65535))) + (( 1 - ((data.band_197!=65535) * (data.band_191!=65535) * (data.band_206!=65535))) * 65535)) - min((((1 - (data.band_197 / ((0.6 * data.band_191) + (0.4 * data.band_206)))) * ((data.band_197!=65535) * (data.band_191!=65535) * (data.band_206!=65535))) + (( 1 - ((data.band_197!=65535) * (data.band_191!=65535) * (data.band_206!=65535))) * 65535)))) * ((data.band_197!=65535) * (data.band_191!=65535) * (data.band_206!=65535)) * (255 / max(((((1 - (data.band_197 / ((0.6 * data.band_191) + (0.4 * data.band_206)))) * ((data.band_197!=65535) * (data.band_191!=65535) * (data.band_206!=65535))) + (( 1 - ((data.band_197!=65535) * (data.band_191!=65535) * (data.band_206!=65535))) * 65535)) - min((((1 - (data.band_197 / ((0.6 * data.band_191) + (0.4 * data.band_206)))) * ((data.band_197!=65535) * (data.band_191!=65535) * (data.band_206!=65535))) + (( 1 - ((data.band_197!=65535) * (data.band_191!=65535) * (data.band_206!=65535))) * 65535)))) * ((data.band_197!=65535) * (data.band_191!=65535) * (data.band_206!=65535))))), \"jpg\",\"nodata=null\");\n"
     ]
    }
   ],
   "source": [
    "#Product #37: BD2290: 2290,2250,2350\n",
    "#Mg, Fe-OH minerals; Also CO2 ice\n",
    "#Caveats: Mg-Carbonate\n",
    "print tql(f_encode( f_toEncodeBD3L(2290,2250,2350) , 'unsigned char', '\"jpg\"'))"
   ]
  },
  {
   "cell_type": "code",
   "execution_count": 84,
   "metadata": {
    "collapsed": false
   },
   "outputs": [
    {
     "name": "stdout",
     "output_type": "stream",
     "text": [
      "http://access.planetserver.eu:8080/rasdaman/ows?service=WCS&version=2.0.1&request=ProcessCoverages&query=for data in ( frt0000b385_07_if164l_trr3 ) return  encode((unsigned char) (((((1 - ((((0.664335664336 * (data.band_233 - data.band_125)) + data.band_125) / data.band_197)+(((0.706293706294 * (data.band_233 - data.band_125)) + data.band_125) / data.band_201)+(((0.72027972028 * (data.band_233 - data.band_125)) + data.band_125) / data.band_203) / (((0.426573426573 * (data.band_233 - data.band_125)) + data.band_125) / data.band_171)+(((0.496503496503 * (data.band_233 - data.band_125)) + data.band_125) / data.band_179)+(((0.552447552448 * (data.band_233 - data.band_125)) + data.band_125) / data.band_185))) * ((data.band_197!=65535) * (data.band_201!=65535) * (data.band_203!=65535) * (data.band_125!=65535) * (data.band_233!=65535) * (data.band_171!=65535) * (data.band_179!=65535) * (data.band_185!=65535))) + (( 1 - ((data.band_197!=65535) * (data.band_201!=65535) * (data.band_203!=65535) * (data.band_125!=65535) * (data.band_233!=65535) * (data.band_171!=65535) * (data.band_179!=65535) * (data.band_185!=65535))) * 65535)) - min((((1 - ((((0.664335664336 * (data.band_233 - data.band_125)) + data.band_125) / data.band_197)+(((0.706293706294 * (data.band_233 - data.band_125)) + data.band_125) / data.band_201)+(((0.72027972028 * (data.band_233 - data.band_125)) + data.band_125) / data.band_203) / (((0.426573426573 * (data.band_233 - data.band_125)) + data.band_125) / data.band_171)+(((0.496503496503 * (data.band_233 - data.band_125)) + data.band_125) / data.band_179)+(((0.552447552448 * (data.band_233 - data.band_125)) + data.band_125) / data.band_185))) * ((data.band_197!=65535) * (data.band_201!=65535) * (data.band_203!=65535) * (data.band_125!=65535) * (data.band_233!=65535) * (data.band_171!=65535) * (data.band_179!=65535) * (data.band_185!=65535))) + (( 1 - ((data.band_197!=65535) * (data.band_201!=65535) * (data.band_203!=65535) * (data.band_125!=65535) * (data.band_233!=65535) * (data.band_171!=65535) * (data.band_179!=65535) * (data.band_185!=65535))) * 65535)))) * ((data.band_197!=65535) * (data.band_201!=65535) * (data.band_203!=65535) * (data.band_125!=65535) * (data.band_233!=65535) * (data.band_171!=65535) * (data.band_179!=65535) * (data.band_185!=65535)) * (255 / max(((((1 - ((((0.664335664336 * (data.band_233 - data.band_125)) + data.band_125) / data.band_197)+(((0.706293706294 * (data.band_233 - data.band_125)) + data.band_125) / data.band_201)+(((0.72027972028 * (data.band_233 - data.band_125)) + data.band_125) / data.band_203) / (((0.426573426573 * (data.band_233 - data.band_125)) + data.band_125) / data.band_171)+(((0.496503496503 * (data.band_233 - data.band_125)) + data.band_125) / data.band_179)+(((0.552447552448 * (data.band_233 - data.band_125)) + data.band_125) / data.band_185))) * ((data.band_197!=65535) * (data.band_201!=65535) * (data.band_203!=65535) * (data.band_125!=65535) * (data.band_233!=65535) * (data.band_171!=65535) * (data.band_179!=65535) * (data.band_185!=65535))) + (( 1 - ((data.band_197!=65535) * (data.band_201!=65535) * (data.band_203!=65535) * (data.band_125!=65535) * (data.band_233!=65535) * (data.band_171!=65535) * (data.band_179!=65535) * (data.band_185!=65535))) * 65535)) - min((((1 - ((((0.664335664336 * (data.band_233 - data.band_125)) + data.band_125) / data.band_197)+(((0.706293706294 * (data.band_233 - data.band_125)) + data.band_125) / data.band_201)+(((0.72027972028 * (data.band_233 - data.band_125)) + data.band_125) / data.band_203) / (((0.426573426573 * (data.band_233 - data.band_125)) + data.band_125) / data.band_171)+(((0.496503496503 * (data.band_233 - data.band_125)) + data.band_125) / data.band_179)+(((0.552447552448 * (data.band_233 - data.band_125)) + data.band_125) / data.band_185))) * ((data.band_197!=65535) * (data.band_201!=65535) * (data.band_203!=65535) * (data.band_125!=65535) * (data.band_233!=65535) * (data.band_171!=65535) * (data.band_179!=65535) * (data.band_185!=65535))) + (( 1 - ((data.band_197!=65535) * (data.band_201!=65535) * (data.band_203!=65535) * (data.band_125!=65535) * (data.band_233!=65535) * (data.band_171!=65535) * (data.band_179!=65535) * (data.band_185!=65535))) * 65535)))) * ((data.band_197!=65535) * (data.band_201!=65535) * (data.band_203!=65535) * (data.band_125!=65535) * (data.band_233!=65535) * (data.band_171!=65535) * (data.band_179!=65535) * (data.band_185!=65535))))), \"jpg\",\"nodata=null\");\n"
     ]
    }
   ],
   "source": [
    "#Product #38: D2300: 2.3 um dropoff\n",
    "# 1-RRCsum(2290,2320,2330)/RRCsum(2120,2170,2210), anchored at R1815 and R2530\n",
    "#Hydroxylated Fe, Mg, slilcates strongly > 0\n",
    "#Caveats: Mg-Carbonate\n",
    "print tql(f_encode( f_toEncode(f_minus('1',f_over(f_sumRRCx([2290,2320,2330],1815,2530),f_sumRRCx([2120,2170,2210],1815,2530))),f_indexNN([2290,2320,2330,1815,2530,2120,2170,2210])), 'unsigned char', '\"jpg\"'))"
   ]
  },
  {
   "cell_type": "code",
   "execution_count": 86,
   "metadata": {
    "collapsed": false
   },
   "outputs": [
    {
     "name": "stdout",
     "output_type": "stream",
     "text": [
      "http://access.planetserver.eu:8080/rasdaman/ows?service=WCS&version=2.0.1&request=ProcessCoverages&query=for data in ( frt0000b385_07_if164l_trr3 ) return  encode((unsigned char) (((((1 - (data.band_207 / ((0.633333333333 * data.band_198) + (0.366666666667 * data.band_221)))) * ((data.band_207!=65535) * (data.band_198!=65535) * (data.band_221!=65535))) + (( 1 - ((data.band_207!=65535) * (data.band_198!=65535) * (data.band_221!=65535))) * 65535)) - min((((1 - (data.band_207 / ((0.633333333333 * data.band_198) + (0.366666666667 * data.band_221)))) * ((data.band_207!=65535) * (data.band_198!=65535) * (data.band_221!=65535))) + (( 1 - ((data.band_207!=65535) * (data.band_198!=65535) * (data.band_221!=65535))) * 65535)))) * ((data.band_207!=65535) * (data.band_198!=65535) * (data.band_221!=65535)) * (255 / max(((((1 - (data.band_207 / ((0.633333333333 * data.band_198) + (0.366666666667 * data.band_221)))) * ((data.band_207!=65535) * (data.band_198!=65535) * (data.band_221!=65535))) + (( 1 - ((data.band_207!=65535) * (data.band_198!=65535) * (data.band_221!=65535))) * 65535)) - min((((1 - (data.band_207 / ((0.633333333333 * data.band_198) + (0.366666666667 * data.band_221)))) * ((data.band_207!=65535) * (data.band_198!=65535) * (data.band_221!=65535))) + (( 1 - ((data.band_207!=65535) * (data.band_198!=65535) * (data.band_221!=65535))) * 65535)))) * ((data.band_207!=65535) * (data.band_198!=65535) * (data.band_221!=65535))))), \"jpg\",\"nodata=null\");\n"
     ]
    }
   ],
   "source": [
    "#Product #39: BD2355: 2355, 2300 2450\n",
    "#Chlorite, Prehnite, Pumpellyite\n",
    "#Caveats: Carbonate, Serpentine\n",
    "print tql(f_encode( f_toEncodeBD3L(2355, 2300, 2450) , 'unsigned char', '\"jpg\"'))"
   ]
  },
  {
   "cell_type": "code",
   "execution_count": 87,
   "metadata": {
    "collapsed": false
   },
   "outputs": [
    {
     "name": "stdout",
     "output_type": "stream",
     "text": [
      "http://access.planetserver.eu:8080/rasdaman/ows?service=WCS&version=2.0.1&request=ProcessCoverages&query=for data in ( frt0000b385_07_if164l_trr3 ) return  encode((unsigned char) (((((1 - (((0.392857142857 * data.band_171) + (0.607142857143 * data.band_213)) / data.band_197)) * ((data.band_197!=65535) * (data.band_171!=65535) * (data.band_213!=65535))) + (( 1 - ((data.band_197!=65535) * (data.band_171!=65535) * (data.band_213!=65535))) * 65535)) - min((((1 - (((0.392857142857 * data.band_171) + (0.607142857143 * data.band_213)) / data.band_197)) * ((data.band_197!=65535) * (data.band_171!=65535) * (data.band_213!=65535))) + (( 1 - ((data.band_197!=65535) * (data.band_171!=65535) * (data.band_213!=65535))) * 65535)))) * ((data.band_197!=65535) * (data.band_171!=65535) * (data.band_213!=65535)) * (255 / max(((((1 - (((0.392857142857 * data.band_171) + (0.607142857143 * data.band_213)) / data.band_197)) * ((data.band_197!=65535) * (data.band_171!=65535) * (data.band_213!=65535))) + (( 1 - ((data.band_197!=65535) * (data.band_171!=65535) * (data.band_213!=65535))) * 65535)) - min((((1 - (((0.392857142857 * data.band_171) + (0.607142857143 * data.band_213)) / data.band_197)) * ((data.band_197!=65535) * (data.band_171!=65535) * (data.band_213!=65535))) + (( 1 - ((data.band_197!=65535) * (data.band_171!=65535) * (data.band_213!=65535))) * 65535)))) * ((data.band_197!=65535) * (data.band_171!=65535) * (data.band_213!=65535))))), \"jpg\",\"nodata=null\");\n"
     ]
    }
   ],
   "source": [
    "#Product #40: SINDEX2: SH(2290,2120,2400)\n",
    "#Hydrated sulfates (mono and polyhydrated sulfates) will be strongly > 0\n",
    "#Caveats: Ices.\n",
    "print tql(f_encode( f_toEncodeSH3L(2290,2120,2400) , 'unsigned char', '\"jpg\"'))"
   ]
  },
  {
   "cell_type": "code",
   "execution_count": 88,
   "metadata": {
    "collapsed": false
   },
   "outputs": [
    {
     "name": "stdout",
     "output_type": "stream",
     "text": [
      "http://access.planetserver.eu:8080/rasdaman/ows?service=WCS&version=2.0.1&request=ProcessCoverages&query=for data in ( frt0000b385_07_if164l_trr3 ) return  encode((unsigned char) ((((((((1.94594594595 * (data.band_233 - data.band_222)) + data.band_222) - data.band_244) / ((1.94594594595 * (data.band_233 - data.band_222)) + data.band_222)) * ((data.band_244!=65535) * (data.band_222!=65535) * (data.band_233!=65535))) + (( 1 - ((data.band_244!=65535) * (data.band_222!=65535) * (data.band_233!=65535))) * 65535)) - min(((((((1.94594594595 * (data.band_233 - data.band_222)) + data.band_222) - data.band_244) / ((1.94594594595 * (data.band_233 - data.band_222)) + data.band_222)) * ((data.band_244!=65535) * (data.band_222!=65535) * (data.band_233!=65535))) + (( 1 - ((data.band_244!=65535) * (data.band_222!=65535) * (data.band_233!=65535))) * 65535)))) * ((data.band_244!=65535) * (data.band_222!=65535) * (data.band_233!=65535)) * (255 / max((((((((1.94594594595 * (data.band_233 - data.band_222)) + data.band_222) - data.band_244) / ((1.94594594595 * (data.band_233 - data.band_222)) + data.band_222)) * ((data.band_244!=65535) * (data.band_222!=65535) * (data.band_233!=65535))) + (( 1 - ((data.band_244!=65535) * (data.band_222!=65535) * (data.band_233!=65535))) * 65535)) - min(((((((1.94594594595 * (data.band_233 - data.band_222)) + data.band_222) - data.band_244) / ((1.94594594595 * (data.band_233 - data.band_222)) + data.band_222)) * ((data.band_244!=65535) * (data.band_222!=65535) * (data.band_233!=65535))) + (( 1 - ((data.band_244!=65535) * (data.band_222!=65535) * (data.band_233!=65535))) * 65535)))) * ((data.band_244!=65535) * (data.band_222!=65535) * (data.band_233!=65535))))), \"jpg\",\"nodata=null\");\n"
     ]
    }
   ],
   "source": [
    "#Product #41: ICER2_2: RB2600, anchored at R2456 R2530\n",
    "#CO2 versus water ice/soil; CO2 will be strongly > 0, water ice will be <0.\n",
    "#No caveats\n",
    "print tql(f_encode( f_toEncode(f_RBx(2600,2456,2530),f_indexNN([2600,2456,2530])), 'unsigned char', '\"jpg\"'))"
   ]
  },
  {
   "cell_type": "code",
   "execution_count": 89,
   "metadata": {
    "collapsed": false
   },
   "outputs": [
    {
     "name": "stdout",
     "output_type": "stream",
     "text": [
      "http://access.planetserver.eu:8080/rasdaman/ows?service=WCS&version=2.0.1&request=ProcessCoverages&query=for data in ( frt0000b385_07_if164l_trr3 ) return  encode((unsigned char) (((((((1 - (data.band_198 / ((0.346733668342 * data.band_178) + (0.653266331658 * data.band_208))))<(1 - (data.band_225 / ((0.436893203883 * data.band_208) + (0.563106796117 * data.band_239)))))*(1 - (data.band_198 / ((0.346733668342 * data.band_178) + (0.653266331658 * data.band_208)))) + ((1 - (data.band_225 / ((0.436893203883 * data.band_208) + (0.563106796117 * data.band_239))))<(1 - (data.band_198 / ((0.346733668342 * data.band_178) + (0.653266331658 * data.band_208)))))*(1 - (data.band_225 / ((0.436893203883 * data.band_208) + (0.563106796117 * data.band_239))))) * ((data.band_198!=65535) * (data.band_178!=65535) * (data.band_208!=65535) * (data.band_225!=65535) * (data.band_239!=65535))) + (( 1 - ((data.band_198!=65535) * (data.band_178!=65535) * (data.band_208!=65535) * (data.band_225!=65535) * (data.band_239!=65535))) * 65535)) - min((((((1 - (data.band_198 / ((0.346733668342 * data.band_178) + (0.653266331658 * data.band_208))))<(1 - (data.band_225 / ((0.436893203883 * data.band_208) + (0.563106796117 * data.band_239)))))*(1 - (data.band_198 / ((0.346733668342 * data.band_178) + (0.653266331658 * data.band_208)))) + ((1 - (data.band_225 / ((0.436893203883 * data.band_208) + (0.563106796117 * data.band_239))))<(1 - (data.band_198 / ((0.346733668342 * data.band_178) + (0.653266331658 * data.band_208)))))*(1 - (data.band_225 / ((0.436893203883 * data.band_208) + (0.563106796117 * data.band_239))))) * ((data.band_198!=65535) * (data.band_178!=65535) * (data.band_208!=65535) * (data.band_225!=65535) * (data.band_239!=65535))) + (( 1 - ((data.band_198!=65535) * (data.band_178!=65535) * (data.band_208!=65535) * (data.band_225!=65535) * (data.band_239!=65535))) * 65535)))) * ((data.band_198!=65535) * (data.band_178!=65535) * (data.band_208!=65535) * (data.band_225!=65535) * (data.band_239!=65535)) * (255 / max(((((((1 - (data.band_198 / ((0.346733668342 * data.band_178) + (0.653266331658 * data.band_208))))<(1 - (data.band_225 / ((0.436893203883 * data.band_208) + (0.563106796117 * data.band_239)))))*(1 - (data.band_198 / ((0.346733668342 * data.band_178) + (0.653266331658 * data.band_208)))) + ((1 - (data.band_225 / ((0.436893203883 * data.band_208) + (0.563106796117 * data.band_239))))<(1 - (data.band_198 / ((0.346733668342 * data.band_178) + (0.653266331658 * data.band_208)))))*(1 - (data.band_225 / ((0.436893203883 * data.band_208) + (0.563106796117 * data.band_239))))) * ((data.band_198!=65535) * (data.band_178!=65535) * (data.band_208!=65535) * (data.band_225!=65535) * (data.band_239!=65535))) + (( 1 - ((data.band_198!=65535) * (data.band_178!=65535) * (data.band_208!=65535) * (data.band_225!=65535) * (data.band_239!=65535))) * 65535)) - min((((((1 - (data.band_198 / ((0.346733668342 * data.band_178) + (0.653266331658 * data.band_208))))<(1 - (data.band_225 / ((0.436893203883 * data.band_208) + (0.563106796117 * data.band_239)))))*(1 - (data.band_198 / ((0.346733668342 * data.band_178) + (0.653266331658 * data.band_208)))) + ((1 - (data.band_225 / ((0.436893203883 * data.band_208) + (0.563106796117 * data.band_239))))<(1 - (data.band_198 / ((0.346733668342 * data.band_178) + (0.653266331658 * data.band_208)))))*(1 - (data.band_225 / ((0.436893203883 * data.band_208) + (0.563106796117 * data.band_239))))) * ((data.band_198!=65535) * (data.band_178!=65535) * (data.band_208!=65535) * (data.band_225!=65535) * (data.band_239!=65535))) + (( 1 - ((data.band_198!=65535) * (data.band_178!=65535) * (data.band_208!=65535) * (data.band_225!=65535) * (data.band_239!=65535))) * 65535)))) * ((data.band_198!=65535) * (data.band_178!=65535) * (data.band_208!=65535) * (data.band_225!=65535) * (data.band_239!=65535))))), \"jpg\",\"nodata=null\");\n"
     ]
    }
   ],
   "source": [
    "#Product #42: MIN2295_2480: Mg Carbonate overtone band depth and metal-OH band\n",
    "#Minimum[BD(2295,2165,2364), BD(2480,2364,2570)]\n",
    "#Mg carbonates; both overtones must be present\n",
    "#Caveats: Hydroxylated silicate + zeolite mixtures\n",
    "print tql(f_encode( f_toEncode( f_minimum(f_BandDepthL(2295,2165,2364),f_BandDepthL(2480,2364,2570)), f_indexNN([2295,2165,2364,2480,2570])), 'unsigned char', '\"jpg\"'))"
   ]
  },
  {
   "cell_type": "code",
   "execution_count": 90,
   "metadata": {
    "collapsed": false
   },
   "outputs": [
    {
     "name": "stdout",
     "output_type": "stream",
     "text": [
      "http://access.planetserver.eu:8080/rasdaman/ows?service=WCS&version=2.0.1&request=ProcessCoverages&query=for data in ( frt0000b385_07_if164l_trr3 ) return  encode((unsigned char) (((((((1 - (data.band_205 / ((0.472222222222 * data.band_191) + (0.527777777778 * data.band_218))))<(1 - (data.band_234 / ((0.377906976744 * data.band_218) + (0.622093023256 * data.band_244)))))*(1 - (data.band_205 / ((0.472222222222 * data.band_191) + (0.527777777778 * data.band_218)))) + ((1 - (data.band_234 / ((0.377906976744 * data.band_218) + (0.622093023256 * data.band_244))))<(1 - (data.band_205 / ((0.472222222222 * data.band_191) + (0.527777777778 * data.band_218)))))*(1 - (data.band_234 / ((0.377906976744 * data.band_218) + (0.622093023256 * data.band_244))))) * ((data.band_191!=65535) * (data.band_205!=65535) * (data.band_218!=65535) * (data.band_234!=65535) * (data.band_244!=65535))) + (( 1 - ((data.band_191!=65535) * (data.band_205!=65535) * (data.band_218!=65535) * (data.band_234!=65535) * (data.band_244!=65535))) * 65535)) - min((((((1 - (data.band_205 / ((0.472222222222 * data.band_191) + (0.527777777778 * data.band_218))))<(1 - (data.band_234 / ((0.377906976744 * data.band_218) + (0.622093023256 * data.band_244)))))*(1 - (data.band_205 / ((0.472222222222 * data.band_191) + (0.527777777778 * data.band_218)))) + ((1 - (data.band_234 / ((0.377906976744 * data.band_218) + (0.622093023256 * data.band_244))))<(1 - (data.band_205 / ((0.472222222222 * data.band_191) + (0.527777777778 * data.band_218)))))*(1 - (data.band_234 / ((0.377906976744 * data.band_218) + (0.622093023256 * data.band_244))))) * ((data.band_191!=65535) * (data.band_205!=65535) * (data.band_218!=65535) * (data.band_234!=65535) * (data.band_244!=65535))) + (( 1 - ((data.band_191!=65535) * (data.band_205!=65535) * (data.band_218!=65535) * (data.band_234!=65535) * (data.band_244!=65535))) * 65535)))) * ((data.band_191!=65535) * (data.band_205!=65535) * (data.band_218!=65535) * (data.band_234!=65535) * (data.band_244!=65535)) * (255 / max(((((((1 - (data.band_205 / ((0.472222222222 * data.band_191) + (0.527777777778 * data.band_218))))<(1 - (data.band_234 / ((0.377906976744 * data.band_218) + (0.622093023256 * data.band_244)))))*(1 - (data.band_205 / ((0.472222222222 * data.band_191) + (0.527777777778 * data.band_218)))) + ((1 - (data.band_234 / ((0.377906976744 * data.band_218) + (0.622093023256 * data.band_244))))<(1 - (data.band_205 / ((0.472222222222 * data.band_191) + (0.527777777778 * data.band_218)))))*(1 - (data.band_234 / ((0.377906976744 * data.band_218) + (0.622093023256 * data.band_244))))) * ((data.band_191!=65535) * (data.band_205!=65535) * (data.band_218!=65535) * (data.band_234!=65535) * (data.band_244!=65535))) + (( 1 - ((data.band_191!=65535) * (data.band_205!=65535) * (data.band_218!=65535) * (data.band_234!=65535) * (data.band_244!=65535))) * 65535)) - min((((((1 - (data.band_205 / ((0.472222222222 * data.band_191) + (0.527777777778 * data.band_218))))<(1 - (data.band_234 / ((0.377906976744 * data.band_218) + (0.622093023256 * data.band_244)))))*(1 - (data.band_205 / ((0.472222222222 * data.band_191) + (0.527777777778 * data.band_218)))) + ((1 - (data.band_234 / ((0.377906976744 * data.band_218) + (0.622093023256 * data.band_244))))<(1 - (data.band_205 / ((0.472222222222 * data.band_191) + (0.527777777778 * data.band_218)))))*(1 - (data.band_234 / ((0.377906976744 * data.band_218) + (0.622093023256 * data.band_244))))) * ((data.band_191!=65535) * (data.band_205!=65535) * (data.band_218!=65535) * (data.band_234!=65535) * (data.band_244!=65535))) + (( 1 - ((data.band_191!=65535) * (data.band_205!=65535) * (data.band_218!=65535) * (data.band_234!=65535) * (data.band_244!=65535))) * 65535)))) * ((data.band_191!=65535) * (data.band_205!=65535) * (data.band_218!=65535) * (data.band_234!=65535) * (data.band_244!=65535))))), \"jpg\",\"nodata=null\");\n"
     ]
    }
   ],
   "source": [
    "#Product #43: MIN2345_2537: Ca/Fe Carbonate overtone band depth and metal-OH band:\n",
    "#Minimum[BD(2345,2250,2430), BD(2537,2430,2602)]\n",
    "#Ca/Fe carbonates; both overtones must be present\n",
    "#Caveats: Prehnite, Serpentine, Hydroxylated silicate+zeolite mixtures.\n",
    "print tql(f_encode( f_toEncode( f_minimum(f_BandDepthL(2345,2250,2430),f_BandDepthL(2537,2430,2602)), f_indexNN([2250,2345,2430,2537,2602])), 'unsigned char', '\"jpg\"'))"
   ]
  },
  {
   "cell_type": "code",
   "execution_count": 91,
   "metadata": {
    "collapsed": false
   },
   "outputs": [
    {
     "name": "stdout",
     "output_type": "stream",
     "text": [
      "http://access.planetserver.eu:8080/rasdaman/ows?service=WCS&version=2.0.1&request=ProcessCoverages&query=for data in ( frt0000b385_07_if164l_trr3 ) return  encode((unsigned char) (((((1 - (data.band_225 / ((0.436893203883 * data.band_208) + (0.563106796117 * data.band_239)))) * ((data.band_225!=65535) * (data.band_208!=65535) * (data.band_239!=65535))) + (( 1 - ((data.band_225!=65535) * (data.band_208!=65535) * (data.band_239!=65535))) * 65535)) - min((((1 - (data.band_225 / ((0.436893203883 * data.band_208) + (0.563106796117 * data.band_239)))) * ((data.band_225!=65535) * (data.band_208!=65535) * (data.band_239!=65535))) + (( 1 - ((data.band_225!=65535) * (data.band_208!=65535) * (data.band_239!=65535))) * 65535)))) * ((data.band_225!=65535) * (data.band_208!=65535) * (data.band_239!=65535)) * (255 / max(((((1 - (data.band_225 / ((0.436893203883 * data.band_208) + (0.563106796117 * data.band_239)))) * ((data.band_225!=65535) * (data.band_208!=65535) * (data.band_239!=65535))) + (( 1 - ((data.band_225!=65535) * (data.band_208!=65535) * (data.band_239!=65535))) * 65535)) - min((((1 - (data.band_225 / ((0.436893203883 * data.band_208) + (0.563106796117 * data.band_239)))) * ((data.band_225!=65535) * (data.band_208!=65535) * (data.band_239!=65535))) + (( 1 - ((data.band_225!=65535) * (data.band_208!=65535) * (data.band_239!=65535))) * 65535)))) * ((data.band_225!=65535) * (data.band_208!=65535) * (data.band_239!=65535))))), \"jpg\",\"nodata=null\");\n"
     ]
    }
   ],
   "source": [
    "#Product #44: BD2500_2: Mg Carbonate overtone band depth: BD(2480,2364,2570)\n",
    "#Mg carbonates \n",
    "#Caveates: Some zeolites\n",
    "print tql(f_encode( f_toEncodeBD3L(2480,2364,2570) , 'unsigned char', '\"jpg\"'))"
   ]
  },
  {
   "cell_type": "code",
   "execution_count": 92,
   "metadata": {
    "collapsed": false
   },
   "outputs": [
    {
     "name": "stdout",
     "output_type": "stream",
     "text": [
      "http://access.planetserver.eu:8080/rasdaman/ows?service=WCS&version=2.0.1&request=ProcessCoverages&query=for data in ( frt0000b385_07_if164l_trr3 ) return  encode((unsigned char) (((((1 - ((data.band_296 * data.band_185) / (data.band_233 * data.band_233))) * ((data.band_296!=65535) * (data.band_185!=65535) * (data.band_233!=65535) * (data.band_233!=65535))) + (( 1 - ((data.band_296!=65535) * (data.band_185!=65535) * (data.band_233!=65535) * (data.band_233!=65535))) * 65535)) - min((((1 - ((data.band_296 * data.band_185) / (data.band_233 * data.band_233))) * ((data.band_296!=65535) * (data.band_185!=65535) * (data.band_233!=65535) * (data.band_233!=65535))) + (( 1 - ((data.band_296!=65535) * (data.band_185!=65535) * (data.band_233!=65535) * (data.band_233!=65535))) * 65535)))) * ((data.band_296!=65535) * (data.band_185!=65535) * (data.band_233!=65535) * (data.band_233!=65535)) * (255 / max(((((1 - ((data.band_296 * data.band_185) / (data.band_233 * data.band_233))) * ((data.band_296!=65535) * (data.band_185!=65535) * (data.band_233!=65535) * (data.band_233!=65535))) + (( 1 - ((data.band_296!=65535) * (data.band_185!=65535) * (data.band_233!=65535) * (data.band_233!=65535))) * 65535)) - min((((1 - ((data.band_296 * data.band_185) / (data.band_233 * data.band_233))) * ((data.band_296!=65535) * (data.band_185!=65535) * (data.band_233!=65535) * (data.band_233!=65535))) + (( 1 - ((data.band_296!=65535) * (data.band_185!=65535) * (data.band_233!=65535) * (data.band_233!=65535))) * 65535)))) * ((data.band_296!=65535) * (data.band_185!=65535) * (data.band_233!=65535) * (data.band_233!=65535))))), \"jpg\",\"nodata=null\");\n"
     ]
    }
   ],
   "source": [
    "#Product #45: BD3000: 3um H2O band depth:\n",
    "#1-R3000/(R2530*(R2530/R2210))=1-(R3000*R2210)/(R2530*R2530)\n",
    "#Bound H2O (accounts for spectral slope)\n",
    "#No caveats\n",
    "print tql(f_encode( f_toEncode( f_minus('1',f_over(f_times(f_Rl(3000),f_Rl(2210)),f_times(f_Rl(2530),f_Rl(2530)))), f_indexNN([3000,2210,2530,2530])), 'unsigned char', '\"jpg\"'))"
   ]
  },
  {
   "cell_type": "code",
   "execution_count": 93,
   "metadata": {
    "collapsed": false
   },
   "outputs": [
    {
     "name": "stdout",
     "output_type": "stream",
     "text": [
      "http://access.planetserver.eu:8080/rasdaman/ows?service=WCS&version=2.0.1&request=ProcessCoverages&query=for data in ( frt0000b385_07_if164l_trr3 ) return  encode((unsigned char) (((((1 - (data.band_314 / ((0.52 * data.band_296) + (0.48 * data.band_334)))) * ((data.band_314!=65535) * (data.band_296!=65535) * (data.band_334!=65535))) + (( 1 - ((data.band_314!=65535) * (data.band_296!=65535) * (data.band_334!=65535))) * 65535)) - min((((1 - (data.band_314 / ((0.52 * data.band_296) + (0.48 * data.band_334)))) * ((data.band_314!=65535) * (data.band_296!=65535) * (data.band_334!=65535))) + (( 1 - ((data.band_314!=65535) * (data.band_296!=65535) * (data.band_334!=65535))) * 65535)))) * ((data.band_314!=65535) * (data.band_296!=65535) * (data.band_334!=65535)) * (255 / max(((((1 - (data.band_314 / ((0.52 * data.band_296) + (0.48 * data.band_334)))) * ((data.band_314!=65535) * (data.band_296!=65535) * (data.band_334!=65535))) + (( 1 - ((data.band_314!=65535) * (data.band_296!=65535) * (data.band_334!=65535))) * 65535)) - min((((1 - (data.band_314 / ((0.52 * data.band_296) + (0.48 * data.band_334)))) * ((data.band_314!=65535) * (data.band_296!=65535) * (data.band_334!=65535))) + (( 1 - ((data.band_314!=65535) * (data.band_296!=65535) * (data.band_334!=65535))) * 65535)))) * ((data.band_314!=65535) * (data.band_296!=65535) * (data.band_334!=65535))))), \"jpg\",\"nodata=null\");\n"
     ]
    }
   ],
   "source": [
    "#Product #46: BD3100: 3.1um H2O ice band depth: BD(3120,3000,3250)\n",
    "#H2O ice\n",
    "#No caveates\n",
    "print tql(f_encode( f_toEncodeBD3L(3120,3000,3250) , 'unsigned char', '\"jpg\"'))"
   ]
  },
  {
   "cell_type": "code",
   "execution_count": 94,
   "metadata": {
    "collapsed": false
   },
   "outputs": [
    {
     "name": "stdout",
     "output_type": "stream",
     "text": [
      "http://access.planetserver.eu:8080/rasdaman/ows?service=WCS&version=2.0.1&request=ProcessCoverages&query=for data in ( frt0000b385_07_if164l_trr3 ) return  encode((unsigned char) (((((1 - (((0.5 * data.band_334) + (0.5 * data.band_355)) / data.band_344)) * ((data.band_344!=65535) * (data.band_334!=65535) * (data.band_355!=65535))) + (( 1 - ((data.band_344!=65535) * (data.band_334!=65535) * (data.band_355!=65535))) * 65535)) - min((((1 - (((0.5 * data.band_334) + (0.5 * data.band_355)) / data.band_344)) * ((data.band_344!=65535) * (data.band_334!=65535) * (data.band_355!=65535))) + (( 1 - ((data.band_344!=65535) * (data.band_334!=65535) * (data.band_355!=65535))) * 65535)))) * ((data.band_344!=65535) * (data.band_334!=65535) * (data.band_355!=65535)) * (255 / max(((((1 - (((0.5 * data.band_334) + (0.5 * data.band_355)) / data.band_344)) * ((data.band_344!=65535) * (data.band_334!=65535) * (data.band_355!=65535))) + (( 1 - ((data.band_344!=65535) * (data.band_334!=65535) * (data.band_355!=65535))) * 65535)) - min((((1 - (((0.5 * data.band_334) + (0.5 * data.band_355)) / data.band_344)) * ((data.band_344!=65535) * (data.band_334!=65535) * (data.band_355!=65535))) + (( 1 - ((data.band_344!=65535) * (data.band_334!=65535) * (data.band_355!=65535))) * 65535)))) * ((data.band_344!=65535) * (data.band_334!=65535) * (data.band_355!=65535))))), \"jpg\",\"nodata=null\");\n"
     ]
    }
   ],
   "source": [
    "#Product #47: BD3200: 3.2um CO2 ice band depth: BD(3320,3250,3390)\n",
    "#CO2 ice\n",
    "#No caveates\n",
    "print tql(f_encode( f_toEncodeSH3L(3320,3250,3390) , 'unsigned char', '\"jpg\"'))"
   ]
  },
  {
   "cell_type": "code",
   "execution_count": 95,
   "metadata": {
    "collapsed": false
   },
   "outputs": [
    {
     "name": "stdout",
     "output_type": "stream",
     "text": [
      "http://access.planetserver.eu:8080/rasdaman/ows?service=WCS&version=2.0.1&request=ProcessCoverages&query=for data in ( frt0000b385_07_if164l_trr3 ) return  encode((unsigned char) (((((1 - (data.band_359 / ((0.552631578947 * data.band_334) + (0.447368421053 * data.band_391)))) * ((data.band_359!=65535) * (data.band_334!=65535) * (data.band_391!=65535))) + (( 1 - ((data.band_359!=65535) * (data.band_334!=65535) * (data.band_391!=65535))) * 65535)) - min((((1 - (data.band_359 / ((0.552631578947 * data.band_334) + (0.447368421053 * data.band_391)))) * ((data.band_359!=65535) * (data.band_334!=65535) * (data.band_391!=65535))) + (( 1 - ((data.band_359!=65535) * (data.band_334!=65535) * (data.band_391!=65535))) * 65535)))) * ((data.band_359!=65535) * (data.band_334!=65535) * (data.band_391!=65535)) * (255 / max(((((1 - (data.band_359 / ((0.552631578947 * data.band_334) + (0.447368421053 * data.band_391)))) * ((data.band_359!=65535) * (data.band_334!=65535) * (data.band_391!=65535))) + (( 1 - ((data.band_359!=65535) * (data.band_334!=65535) * (data.band_391!=65535))) * 65535)) - min((((1 - (data.band_359 / ((0.552631578947 * data.band_334) + (0.447368421053 * data.band_391)))) * ((data.band_359!=65535) * (data.band_334!=65535) * (data.band_391!=65535))) + (( 1 - ((data.band_359!=65535) * (data.band_334!=65535) * (data.band_391!=65535))) * 65535)))) * ((data.band_359!=65535) * (data.band_334!=65535) * (data.band_391!=65535))))), \"jpg\",\"nodata=null\");\n"
     ]
    }
   ],
   "source": [
    "#Product #48: BD3400_2: 3.4 um carbonate band depth: BD(3420,3250,3630)\n",
    "#Carbonates\n",
    "#No caveates\n",
    "print tql(f_encode( f_toEncodeBD3L(3420,3250,3630) , 'unsigned char', '\"jpg\"'))"
   ]
  },
  {
   "cell_type": "code",
   "execution_count": 96,
   "metadata": {
    "collapsed": false
   },
   "outputs": [
    {
     "name": "stdout",
     "output_type": "stream",
     "text": [
      "http://access.planetserver.eu:8080/rasdaman/ows?service=WCS&version=2.0.1&request=ProcessCoverages&query=for data in ( frt0000b385_07_if164l_trr3 ) return  encode((unsigned char) (((((1 - (((0.623529411765 * data.band_364) + (0.376470588235 * data.band_428)) / data.band_388)) * ((data.band_388!=65535) * (data.band_364!=65535) * (data.band_428!=65535))) + (( 1 - ((data.band_388!=65535) * (data.band_364!=65535) * (data.band_428!=65535))) * 65535)) - min((((1 - (((0.623529411765 * data.band_364) + (0.376470588235 * data.band_428)) / data.band_388)) * ((data.band_388!=65535) * (data.band_364!=65535) * (data.band_428!=65535))) + (( 1 - ((data.band_388!=65535) * (data.band_364!=65535) * (data.band_428!=65535))) * 65535)))) * ((data.band_388!=65535) * (data.band_364!=65535) * (data.band_428!=65535)) * (255 / max(((((1 - (((0.623529411765 * data.band_364) + (0.376470588235 * data.band_428)) / data.band_388)) * ((data.band_388!=65535) * (data.band_364!=65535) * (data.band_428!=65535))) + (( 1 - ((data.band_388!=65535) * (data.band_364!=65535) * (data.band_428!=65535))) * 65535)) - min((((1 - (((0.623529411765 * data.band_364) + (0.376470588235 * data.band_428)) / data.band_388)) * ((data.band_388!=65535) * (data.band_364!=65535) * (data.band_428!=65535))) + (( 1 - ((data.band_388!=65535) * (data.band_364!=65535) * (data.band_428!=65535))) * 65535)))) * ((data.band_388!=65535) * (data.band_364!=65535) * (data.band_428!=65535))))), \"jpg\",\"nodata=null\");\n",
      "http://access.planetserver.eu:8080/rasdaman/ows?service=WCS&version=2.0.1&request=ProcessCoverages&query=for data in ( frt0000b385_07_if164l_trr3 ) return  encode((unsigned char) (((((1 - (((0.623529411765 * data.band_364) + (0.376470588235 * data.band_428)) / data.band_388)) * ((data.band_388!=65535) * (data.band_364!=65535) * (data.band_428!=65535))) + (( 1 - ((data.band_388!=65535) * (data.band_364!=65535) * (data.band_428!=65535))) * 65535)) - min((((1 - (((0.623529411765 * data.band_364) + (0.376470588235 * data.band_428)) / data.band_388)) * ((data.band_388!=65535) * (data.band_364!=65535) * (data.band_428!=65535))) + (( 1 - ((data.band_388!=65535) * (data.band_364!=65535) * (data.band_428!=65535))) * 65535)))) * ((data.band_388!=65535) * (data.band_364!=65535) * (data.band_428!=65535)) * (255 / max(((((1 - (((0.623529411765 * data.band_364) + (0.376470588235 * data.band_428)) / data.band_388)) * ((data.band_388!=65535) * (data.band_364!=65535) * (data.band_428!=65535))) + (( 1 - ((data.band_388!=65535) * (data.band_364!=65535) * (data.band_428!=65535))) * 65535)) - min((((1 - (((0.623529411765 * data.band_364) + (0.376470588235 * data.band_428)) / data.band_388)) * ((data.band_388!=65535) * (data.band_364!=65535) * (data.band_428!=65535))) + (( 1 - ((data.band_388!=65535) * (data.band_364!=65535) * (data.band_428!=65535))) * 65535)))) * ((data.band_388!=65535) * (data.band_364!=65535) * (data.band_428!=65535))))), \"jpg\",\"nodata=null\");\n"
     ]
    }
   ],
   "source": [
    "#Product #49: CINDEX2: Inverse lever rule to detect convexity at 3.6 um due to 3.4 um and 3.9 um absorptions\n",
    "#SH(3610,3450,3875)\n",
    "#Carbonates will be >'background' values > 0\n",
    "print tql(f_encode( f_toEncodeSH3L(3610,3450,3875) , 'unsigned char', '\"jpg\"'))\n",
    "print tql(f_encode( f_toEncode(f_ShoulderHeightL(3610,3450,3875), f_indexNN([3610,3450,3875])), 'unsigned char', '\"jpg\"'))"
   ]
  },
  {
   "cell_type": "code",
   "execution_count": 97,
   "metadata": {
    "collapsed": true
   },
   "outputs": [],
   "source": [
    "### ATMOSPHERIC PARAMETERS AND BROUWSE PRODUCT COMPONENTS # No caveats\n",
    "#now is a good time to do some noise filtering, kernels are averaged by median, not mean.\n",
    "#so we need to find the minimum value, maximum value, and take the one in-between."
   ]
  },
  {
   "cell_type": "code",
   "execution_count": 98,
   "metadata": {
    "collapsed": false
   },
   "outputs": [
    {
     "name": "stdout",
     "output_type": "stream",
     "text": [
      "http://access.planetserver.eu:8080/rasdaman/ows?service=WCS&version=2.0.1&request=ProcessCoverages&query=for data in ( frt0000b385_07_if164s_trr3 ) return  encode((unsigned char) ((((((data.band_11 * (2=((0.0+(data.band_11<data.band_12)+(data.band_11<data.band_13)+(data.band_11<data.band_14)+(data.band_11<data.band_15)))))+(data.band_12 * (2=((0.0+(data.band_12<data.band_11)+(data.band_12<data.band_13)+(data.band_12<data.band_14)+(data.band_12<data.band_15)))))+(data.band_13 * (2=((0.0+(data.band_13<data.band_11)+(data.band_13<data.band_12)+(data.band_13<data.band_14)+(data.band_13<data.band_15)))))+(data.band_14 * (2=((0.0+(data.band_14<data.band_11)+(data.band_14<data.band_12)+(data.band_14<data.band_13)+(data.band_14<data.band_15)))))+(data.band_15 * (2=((0.0+(data.band_15<data.band_11)+(data.band_15<data.band_12)+(data.band_15<data.band_13)+(data.band_15<data.band_14)))))) * ((data.band_11!=65535) * (data.band_12!=65535) * (data.band_13!=65535) * (data.band_14!=65535) * (data.band_15!=65535))) + (( 1 - ((data.band_11!=65535) * (data.band_12!=65535) * (data.band_13!=65535) * (data.band_14!=65535) * (data.band_15!=65535))) * 65535)) - min(((((data.band_11 * (2=((0.0+(data.band_11<data.band_12)+(data.band_11<data.band_13)+(data.band_11<data.band_14)+(data.band_11<data.band_15)))))+(data.band_12 * (2=((0.0+(data.band_12<data.band_11)+(data.band_12<data.band_13)+(data.band_12<data.band_14)+(data.band_12<data.band_15)))))+(data.band_13 * (2=((0.0+(data.band_13<data.band_11)+(data.band_13<data.band_12)+(data.band_13<data.band_14)+(data.band_13<data.band_15)))))+(data.band_14 * (2=((0.0+(data.band_14<data.band_11)+(data.band_14<data.band_12)+(data.band_14<data.band_13)+(data.band_14<data.band_15)))))+(data.band_15 * (2=((0.0+(data.band_15<data.band_11)+(data.band_15<data.band_12)+(data.band_15<data.band_13)+(data.band_15<data.band_14)))))) * ((data.band_11!=65535) * (data.band_12!=65535) * (data.band_13!=65535) * (data.band_14!=65535) * (data.band_15!=65535))) + (( 1 - ((data.band_11!=65535) * (data.band_12!=65535) * (data.band_13!=65535) * (data.band_14!=65535) * (data.band_15!=65535))) * 65535)))) * ((data.band_11!=65535) * (data.band_12!=65535) * (data.band_13!=65535) * (data.band_14!=65535) * (data.band_15!=65535)) * (255 / max((((((data.band_11 * (2=((0.0+(data.band_11<data.band_12)+(data.band_11<data.band_13)+(data.band_11<data.band_14)+(data.band_11<data.band_15)))))+(data.band_12 * (2=((0.0+(data.band_12<data.band_11)+(data.band_12<data.band_13)+(data.band_12<data.band_14)+(data.band_12<data.band_15)))))+(data.band_13 * (2=((0.0+(data.band_13<data.band_11)+(data.band_13<data.band_12)+(data.band_13<data.band_14)+(data.band_13<data.band_15)))))+(data.band_14 * (2=((0.0+(data.band_14<data.band_11)+(data.band_14<data.band_12)+(data.band_14<data.band_13)+(data.band_14<data.band_15)))))+(data.band_15 * (2=((0.0+(data.band_15<data.band_11)+(data.band_15<data.band_12)+(data.band_15<data.band_13)+(data.band_15<data.band_14)))))) * ((data.band_11!=65535) * (data.band_12!=65535) * (data.band_13!=65535) * (data.band_14!=65535) * (data.band_15!=65535))) + (( 1 - ((data.band_11!=65535) * (data.band_12!=65535) * (data.band_13!=65535) * (data.band_14!=65535) * (data.band_15!=65535))) * 65535)) - min(((((data.band_11 * (2=((0.0+(data.band_11<data.band_12)+(data.band_11<data.band_13)+(data.band_11<data.band_14)+(data.band_11<data.band_15)))))+(data.band_12 * (2=((0.0+(data.band_12<data.band_11)+(data.band_12<data.band_13)+(data.band_12<data.band_14)+(data.band_12<data.band_15)))))+(data.band_13 * (2=((0.0+(data.band_13<data.band_11)+(data.band_13<data.band_12)+(data.band_13<data.band_14)+(data.band_13<data.band_15)))))+(data.band_14 * (2=((0.0+(data.band_14<data.band_11)+(data.band_14<data.band_12)+(data.band_14<data.band_13)+(data.band_14<data.band_15)))))+(data.band_15 * (2=((0.0+(data.band_15<data.band_11)+(data.band_15<data.band_12)+(data.band_15<data.band_13)+(data.band_15<data.band_14)))))) * ((data.band_11!=65535) * (data.band_12!=65535) * (data.band_13!=65535) * (data.band_14!=65535) * (data.band_15!=65535))) + (( 1 - ((data.band_11!=65535) * (data.band_12!=65535) * (data.band_13!=65535) * (data.band_14!=65535) * (data.band_15!=65535))) * 65535)))) * ((data.band_11!=65535) * (data.band_12!=65535) * (data.band_13!=65535) * (data.band_14!=65535) * (data.band_15!=65535))))), \"jpg\",\"nodata=null\");\n",
      "http://access.planetserver.eu:8080/rasdaman/ows?service=WCS&version=2.0.1&request=ProcessCoverages&query=for data in ( frt0000b385_07_if164s_trr3 ) return  encode((float) ((data.band_11 * (2=((0.0+(data.band_11<data.band_12)+(data.band_11<data.band_13)+(data.band_11<data.band_14)+(data.band_11<data.band_15)))))+(data.band_12 * (2=((0.0+(data.band_12<data.band_11)+(data.band_12<data.band_13)+(data.band_12<data.band_14)+(data.band_12<data.band_15)))))+(data.band_13 * (2=((0.0+(data.band_13<data.band_11)+(data.band_13<data.band_12)+(data.band_13<data.band_14)+(data.band_13<data.band_15)))))+(data.band_14 * (2=((0.0+(data.band_14<data.band_11)+(data.band_14<data.band_12)+(data.band_14<data.band_13)+(data.band_14<data.band_15)))))+(data.band_15 * (2=((0.0+(data.band_15<data.band_11)+(data.band_15<data.band_12)+(data.band_15<data.band_13)+(data.band_15<data.band_14)))))), \"tif\",\"nodata=null\");\n"
     ]
    }
   ],
   "source": [
    "#Product #50: R440 (kernel width 5)\n",
    "#Clouds / Hazes\n",
    "print tqs(f_encode( f_toEncode(f_med5s(440), f_med5sNN(440)), 'unsigned char', '\"jpg\"'))\n",
    "print tqs(f_encode( f_med5s(440), 'float', '\"tif\"'))"
   ]
  },
  {
   "cell_type": "code",
   "execution_count": 99,
   "metadata": {
    "collapsed": false
   },
   "outputs": [
    {
     "name": "stdout",
     "output_type": "stream",
     "text": [
      "http://access.planetserver.eu:8080/rasdaman/ows?service=WCS&version=2.0.1&request=ProcessCoverages&query=for data in ( frt0000b385_07_if164s_trr3 ) return  encode((unsigned char) ((((((data.band_25 * (2=((0.0+(data.band_25<data.band_26)+(data.band_25<data.band_27)+(data.band_25<data.band_28)+(data.band_25<data.band_29)))))+(data.band_26 * (2=((0.0+(data.band_26<data.band_25)+(data.band_26<data.band_27)+(data.band_26<data.band_28)+(data.band_26<data.band_29)))))+(data.band_27 * (2=((0.0+(data.band_27<data.band_25)+(data.band_27<data.band_26)+(data.band_27<data.band_28)+(data.band_27<data.band_29)))))+(data.band_28 * (2=((0.0+(data.band_28<data.band_25)+(data.band_28<data.band_26)+(data.band_28<data.band_27)+(data.band_28<data.band_29)))))+(data.band_29 * (2=((0.0+(data.band_29<data.band_25)+(data.band_29<data.band_26)+(data.band_29<data.band_27)+(data.band_29<data.band_28)))))) * ((data.band_25!=65535) * (data.band_26!=65535) * (data.band_27!=65535) * (data.band_28!=65535) * (data.band_29!=65535))) + (( 1 - ((data.band_25!=65535) * (data.band_26!=65535) * (data.band_27!=65535) * (data.band_28!=65535) * (data.band_29!=65535))) * 65535)) - min(((((data.band_25 * (2=((0.0+(data.band_25<data.band_26)+(data.band_25<data.band_27)+(data.band_25<data.band_28)+(data.band_25<data.band_29)))))+(data.band_26 * (2=((0.0+(data.band_26<data.band_25)+(data.band_26<data.band_27)+(data.band_26<data.band_28)+(data.band_26<data.band_29)))))+(data.band_27 * (2=((0.0+(data.band_27<data.band_25)+(data.band_27<data.band_26)+(data.band_27<data.band_28)+(data.band_27<data.band_29)))))+(data.band_28 * (2=((0.0+(data.band_28<data.band_25)+(data.band_28<data.band_26)+(data.band_28<data.band_27)+(data.band_28<data.band_29)))))+(data.band_29 * (2=((0.0+(data.band_29<data.band_25)+(data.band_29<data.band_26)+(data.band_29<data.band_27)+(data.band_29<data.band_28)))))) * ((data.band_25!=65535) * (data.band_26!=65535) * (data.band_27!=65535) * (data.band_28!=65535) * (data.band_29!=65535))) + (( 1 - ((data.band_25!=65535) * (data.band_26!=65535) * (data.band_27!=65535) * (data.band_28!=65535) * (data.band_29!=65535))) * 65535)))) * ((data.band_25!=65535) * (data.band_26!=65535) * (data.band_27!=65535) * (data.band_28!=65535) * (data.band_29!=65535)) * (255 / max((((((data.band_25 * (2=((0.0+(data.band_25<data.band_26)+(data.band_25<data.band_27)+(data.band_25<data.band_28)+(data.band_25<data.band_29)))))+(data.band_26 * (2=((0.0+(data.band_26<data.band_25)+(data.band_26<data.band_27)+(data.band_26<data.band_28)+(data.band_26<data.band_29)))))+(data.band_27 * (2=((0.0+(data.band_27<data.band_25)+(data.band_27<data.band_26)+(data.band_27<data.band_28)+(data.band_27<data.band_29)))))+(data.band_28 * (2=((0.0+(data.band_28<data.band_25)+(data.band_28<data.band_26)+(data.band_28<data.band_27)+(data.band_28<data.band_29)))))+(data.band_29 * (2=((0.0+(data.band_29<data.band_25)+(data.band_29<data.band_26)+(data.band_29<data.band_27)+(data.band_29<data.band_28)))))) * ((data.band_25!=65535) * (data.band_26!=65535) * (data.band_27!=65535) * (data.band_28!=65535) * (data.band_29!=65535))) + (( 1 - ((data.band_25!=65535) * (data.band_26!=65535) * (data.band_27!=65535) * (data.band_28!=65535) * (data.band_29!=65535))) * 65535)) - min(((((data.band_25 * (2=((0.0+(data.band_25<data.band_26)+(data.band_25<data.band_27)+(data.band_25<data.band_28)+(data.band_25<data.band_29)))))+(data.band_26 * (2=((0.0+(data.band_26<data.band_25)+(data.band_26<data.band_27)+(data.band_26<data.band_28)+(data.band_26<data.band_29)))))+(data.band_27 * (2=((0.0+(data.band_27<data.band_25)+(data.band_27<data.band_26)+(data.band_27<data.band_28)+(data.band_27<data.band_29)))))+(data.band_28 * (2=((0.0+(data.band_28<data.band_25)+(data.band_28<data.band_26)+(data.band_28<data.band_27)+(data.band_28<data.band_29)))))+(data.band_29 * (2=((0.0+(data.band_29<data.band_25)+(data.band_29<data.band_26)+(data.band_29<data.band_27)+(data.band_29<data.band_28)))))) * ((data.band_25!=65535) * (data.band_26!=65535) * (data.band_27!=65535) * (data.band_28!=65535) * (data.band_29!=65535))) + (( 1 - ((data.band_25!=65535) * (data.band_26!=65535) * (data.band_27!=65535) * (data.band_28!=65535) * (data.band_29!=65535))) * 65535)))) * ((data.band_25!=65535) * (data.band_26!=65535) * (data.band_27!=65535) * (data.band_28!=65535) * (data.band_29!=65535))))), \"jpg\",\"nodata=null\");\n"
     ]
    }
   ],
   "source": [
    "#Product #51: R530 (kernel width 5)\n",
    "#TRU browse product component\n",
    "print tqs(f_encode( f_toEncode(f_med5s(530), f_med5sNN(530)), 'unsigned char', '\"jpg\"'))"
   ]
  },
  {
   "cell_type": "code",
   "execution_count": 100,
   "metadata": {
    "collapsed": false
   },
   "outputs": [
    {
     "name": "stdout",
     "output_type": "stream",
     "text": [
      "http://access.planetserver.eu:8080/rasdaman/ows?service=WCS&version=2.0.1&request=ProcessCoverages&query=for data in ( frt0000b385_07_if164s_trr3 ) return  encode((unsigned char) ((((((data.band_36 * (2=((0.0+(data.band_36<data.band_37)+(data.band_36<data.band_38)+(data.band_36<data.band_39)+(data.band_36<data.band_40)))))+(data.band_37 * (2=((0.0+(data.band_37<data.band_36)+(data.band_37<data.band_38)+(data.band_37<data.band_39)+(data.band_37<data.band_40)))))+(data.band_38 * (2=((0.0+(data.band_38<data.band_36)+(data.band_38<data.band_37)+(data.band_38<data.band_39)+(data.band_38<data.band_40)))))+(data.band_39 * (2=((0.0+(data.band_39<data.band_36)+(data.band_39<data.band_37)+(data.band_39<data.band_38)+(data.band_39<data.band_40)))))+(data.band_40 * (2=((0.0+(data.band_40<data.band_36)+(data.band_40<data.band_37)+(data.band_40<data.band_38)+(data.band_40<data.band_39)))))) * ((data.band_36!=65535) * (data.band_37!=65535) * (data.band_38!=65535) * (data.band_39!=65535) * (data.band_40!=65535))) + (( 1 - ((data.band_36!=65535) * (data.band_37!=65535) * (data.band_38!=65535) * (data.band_39!=65535) * (data.band_40!=65535))) * 65535)) - min(((((data.band_36 * (2=((0.0+(data.band_36<data.band_37)+(data.band_36<data.band_38)+(data.band_36<data.band_39)+(data.band_36<data.band_40)))))+(data.band_37 * (2=((0.0+(data.band_37<data.band_36)+(data.band_37<data.band_38)+(data.band_37<data.band_39)+(data.band_37<data.band_40)))))+(data.band_38 * (2=((0.0+(data.band_38<data.band_36)+(data.band_38<data.band_37)+(data.band_38<data.band_39)+(data.band_38<data.band_40)))))+(data.band_39 * (2=((0.0+(data.band_39<data.band_36)+(data.band_39<data.band_37)+(data.band_39<data.band_38)+(data.band_39<data.band_40)))))+(data.band_40 * (2=((0.0+(data.band_40<data.band_36)+(data.band_40<data.band_37)+(data.band_40<data.band_38)+(data.band_40<data.band_39)))))) * ((data.band_36!=65535) * (data.band_37!=65535) * (data.band_38!=65535) * (data.band_39!=65535) * (data.band_40!=65535))) + (( 1 - ((data.band_36!=65535) * (data.band_37!=65535) * (data.band_38!=65535) * (data.band_39!=65535) * (data.band_40!=65535))) * 65535)))) * ((data.band_36!=65535) * (data.band_37!=65535) * (data.band_38!=65535) * (data.band_39!=65535) * (data.band_40!=65535)) * (255 / max((((((data.band_36 * (2=((0.0+(data.band_36<data.band_37)+(data.band_36<data.band_38)+(data.band_36<data.band_39)+(data.band_36<data.band_40)))))+(data.band_37 * (2=((0.0+(data.band_37<data.band_36)+(data.band_37<data.band_38)+(data.band_37<data.band_39)+(data.band_37<data.band_40)))))+(data.band_38 * (2=((0.0+(data.band_38<data.band_36)+(data.band_38<data.band_37)+(data.band_38<data.band_39)+(data.band_38<data.band_40)))))+(data.band_39 * (2=((0.0+(data.band_39<data.band_36)+(data.band_39<data.band_37)+(data.band_39<data.band_38)+(data.band_39<data.band_40)))))+(data.band_40 * (2=((0.0+(data.band_40<data.band_36)+(data.band_40<data.band_37)+(data.band_40<data.band_38)+(data.band_40<data.band_39)))))) * ((data.band_36!=65535) * (data.band_37!=65535) * (data.band_38!=65535) * (data.band_39!=65535) * (data.band_40!=65535))) + (( 1 - ((data.band_36!=65535) * (data.band_37!=65535) * (data.band_38!=65535) * (data.band_39!=65535) * (data.band_40!=65535))) * 65535)) - min(((((data.band_36 * (2=((0.0+(data.band_36<data.band_37)+(data.band_36<data.band_38)+(data.band_36<data.band_39)+(data.band_36<data.band_40)))))+(data.band_37 * (2=((0.0+(data.band_37<data.band_36)+(data.band_37<data.band_38)+(data.band_37<data.band_39)+(data.band_37<data.band_40)))))+(data.band_38 * (2=((0.0+(data.band_38<data.band_36)+(data.band_38<data.band_37)+(data.band_38<data.band_39)+(data.band_38<data.band_40)))))+(data.band_39 * (2=((0.0+(data.band_39<data.band_36)+(data.band_39<data.band_37)+(data.band_39<data.band_38)+(data.band_39<data.band_40)))))+(data.band_40 * (2=((0.0+(data.band_40<data.band_36)+(data.band_40<data.band_37)+(data.band_40<data.band_38)+(data.band_40<data.band_39)))))) * ((data.band_36!=65535) * (data.band_37!=65535) * (data.band_38!=65535) * (data.band_39!=65535) * (data.band_40!=65535))) + (( 1 - ((data.band_36!=65535) * (data.band_37!=65535) * (data.band_38!=65535) * (data.band_39!=65535) * (data.band_40!=65535))) * 65535)))) * ((data.band_36!=65535) * (data.band_37!=65535) * (data.band_38!=65535) * (data.band_39!=65535) * (data.band_40!=65535))))), \"jpg\",\"nodata=null\");\n"
     ]
    }
   ],
   "source": [
    "#Product #52: R600 (kernel width 5)\n",
    "#TRU browse product component\n",
    "print tqs(f_encode( f_toEncode(f_med5s(600), f_med5sNN(600)), 'unsigned char', '\"jpg\"'))"
   ]
  },
  {
   "cell_type": "code",
   "execution_count": 101,
   "metadata": {
    "collapsed": false
   },
   "outputs": [
    {
     "name": "stdout",
     "output_type": "stream",
     "text": [
      "http://access.planetserver.eu:8080/rasdaman/ows?service=WCS&version=2.0.1&request=ProcessCoverages&query=for data in ( frt0000b385_07_if164s_trr3 ) return  encode((unsigned char) ((((((data.band_67 * (2=((0.0+(data.band_67<data.band_68)+(data.band_67<data.band_69)+(data.band_67<data.band_70)+(data.band_67<data.band_71)))))+(data.band_68 * (2=((0.0+(data.band_68<data.band_67)+(data.band_68<data.band_69)+(data.band_68<data.band_70)+(data.band_68<data.band_71)))))+(data.band_69 * (2=((0.0+(data.band_69<data.band_67)+(data.band_69<data.band_68)+(data.band_69<data.band_70)+(data.band_69<data.band_71)))))+(data.band_70 * (2=((0.0+(data.band_70<data.band_67)+(data.band_70<data.band_68)+(data.band_70<data.band_69)+(data.band_70<data.band_71)))))+(data.band_71 * (2=((0.0+(data.band_71<data.band_67)+(data.band_71<data.band_68)+(data.band_71<data.band_69)+(data.band_71<data.band_70))))))/((data.band_97 * (2=((0.0+(data.band_97<data.band_98)+(data.band_97<data.band_99)+(data.band_97<data.band_100)+(data.band_97<data.band_101)))))+(data.band_98 * (2=((0.0+(data.band_98<data.band_97)+(data.band_98<data.band_99)+(data.band_98<data.band_100)+(data.band_98<data.band_101)))))+(data.band_99 * (2=((0.0+(data.band_99<data.band_97)+(data.band_99<data.band_98)+(data.band_99<data.band_100)+(data.band_99<data.band_101)))))+(data.band_100 * (2=((0.0+(data.band_100<data.band_97)+(data.band_100<data.band_98)+(data.band_100<data.band_99)+(data.band_100<data.band_101)))))+(data.band_101 * (2=((0.0+(data.band_101<data.band_97)+(data.band_101<data.band_98)+(data.band_101<data.band_99)+(data.band_101<data.band_100)))))) * ((data.band_67!=65535) * (data.band_68!=65535) * (data.band_69!=65535) * (data.band_70!=65535) * (data.band_71!=65535))*((data.band_97!=65535) * (data.band_98!=65535) * (data.band_99!=65535) * (data.band_100!=65535) * (data.band_101!=65535))) + (( 1 - ((data.band_67!=65535) * (data.band_68!=65535) * (data.band_69!=65535) * (data.band_70!=65535) * (data.band_71!=65535))*((data.band_97!=65535) * (data.band_98!=65535) * (data.band_99!=65535) * (data.band_100!=65535) * (data.band_101!=65535))) * 65535)) - min(((((data.band_67 * (2=((0.0+(data.band_67<data.band_68)+(data.band_67<data.band_69)+(data.band_67<data.band_70)+(data.band_67<data.band_71)))))+(data.band_68 * (2=((0.0+(data.band_68<data.band_67)+(data.band_68<data.band_69)+(data.band_68<data.band_70)+(data.band_68<data.band_71)))))+(data.band_69 * (2=((0.0+(data.band_69<data.band_67)+(data.band_69<data.band_68)+(data.band_69<data.band_70)+(data.band_69<data.band_71)))))+(data.band_70 * (2=((0.0+(data.band_70<data.band_67)+(data.band_70<data.band_68)+(data.band_70<data.band_69)+(data.band_70<data.band_71)))))+(data.band_71 * (2=((0.0+(data.band_71<data.band_67)+(data.band_71<data.band_68)+(data.band_71<data.band_69)+(data.band_71<data.band_70))))))/((data.band_97 * (2=((0.0+(data.band_97<data.band_98)+(data.band_97<data.band_99)+(data.band_97<data.band_100)+(data.band_97<data.band_101)))))+(data.band_98 * (2=((0.0+(data.band_98<data.band_97)+(data.band_98<data.band_99)+(data.band_98<data.band_100)+(data.band_98<data.band_101)))))+(data.band_99 * (2=((0.0+(data.band_99<data.band_97)+(data.band_99<data.band_98)+(data.band_99<data.band_100)+(data.band_99<data.band_101)))))+(data.band_100 * (2=((0.0+(data.band_100<data.band_97)+(data.band_100<data.band_98)+(data.band_100<data.band_99)+(data.band_100<data.band_101)))))+(data.band_101 * (2=((0.0+(data.band_101<data.band_97)+(data.band_101<data.band_98)+(data.band_101<data.band_99)+(data.band_101<data.band_100)))))) * ((data.band_67!=65535) * (data.band_68!=65535) * (data.band_69!=65535) * (data.band_70!=65535) * (data.band_71!=65535))*((data.band_97!=65535) * (data.band_98!=65535) * (data.band_99!=65535) * (data.band_100!=65535) * (data.band_101!=65535))) + (( 1 - ((data.band_67!=65535) * (data.band_68!=65535) * (data.band_69!=65535) * (data.band_70!=65535) * (data.band_71!=65535))*((data.band_97!=65535) * (data.band_98!=65535) * (data.band_99!=65535) * (data.band_100!=65535) * (data.band_101!=65535))) * 65535)))) * ((data.band_67!=65535) * (data.band_68!=65535) * (data.band_69!=65535) * (data.band_70!=65535) * (data.band_71!=65535))*((data.band_97!=65535) * (data.band_98!=65535) * (data.band_99!=65535) * (data.band_100!=65535) * (data.band_101!=65535)) * (255 / max((((((data.band_67 * (2=((0.0+(data.band_67<data.band_68)+(data.band_67<data.band_69)+(data.band_67<data.band_70)+(data.band_67<data.band_71)))))+(data.band_68 * (2=((0.0+(data.band_68<data.band_67)+(data.band_68<data.band_69)+(data.band_68<data.band_70)+(data.band_68<data.band_71)))))+(data.band_69 * (2=((0.0+(data.band_69<data.band_67)+(data.band_69<data.band_68)+(data.band_69<data.band_70)+(data.band_69<data.band_71)))))+(data.band_70 * (2=((0.0+(data.band_70<data.band_67)+(data.band_70<data.band_68)+(data.band_70<data.band_69)+(data.band_70<data.band_71)))))+(data.band_71 * (2=((0.0+(data.band_71<data.band_67)+(data.band_71<data.band_68)+(data.band_71<data.band_69)+(data.band_71<data.band_70))))))/((data.band_97 * (2=((0.0+(data.band_97<data.band_98)+(data.band_97<data.band_99)+(data.band_97<data.band_100)+(data.band_97<data.band_101)))))+(data.band_98 * (2=((0.0+(data.band_98<data.band_97)+(data.band_98<data.band_99)+(data.band_98<data.band_100)+(data.band_98<data.band_101)))))+(data.band_99 * (2=((0.0+(data.band_99<data.band_97)+(data.band_99<data.band_98)+(data.band_99<data.band_100)+(data.band_99<data.band_101)))))+(data.band_100 * (2=((0.0+(data.band_100<data.band_97)+(data.band_100<data.band_98)+(data.band_100<data.band_99)+(data.band_100<data.band_101)))))+(data.band_101 * (2=((0.0+(data.band_101<data.band_97)+(data.band_101<data.band_98)+(data.band_101<data.band_99)+(data.band_101<data.band_100)))))) * ((data.band_67!=65535) * (data.band_68!=65535) * (data.band_69!=65535) * (data.band_70!=65535) * (data.band_71!=65535))*((data.band_97!=65535) * (data.band_98!=65535) * (data.band_99!=65535) * (data.band_100!=65535) * (data.band_101!=65535))) + (( 1 - ((data.band_67!=65535) * (data.band_68!=65535) * (data.band_69!=65535) * (data.band_70!=65535) * (data.band_71!=65535))*((data.band_97!=65535) * (data.band_98!=65535) * (data.band_99!=65535) * (data.band_100!=65535) * (data.band_101!=65535))) * 65535)) - min(((((data.band_67 * (2=((0.0+(data.band_67<data.band_68)+(data.band_67<data.band_69)+(data.band_67<data.band_70)+(data.band_67<data.band_71)))))+(data.band_68 * (2=((0.0+(data.band_68<data.band_67)+(data.band_68<data.band_69)+(data.band_68<data.band_70)+(data.band_68<data.band_71)))))+(data.band_69 * (2=((0.0+(data.band_69<data.band_67)+(data.band_69<data.band_68)+(data.band_69<data.band_70)+(data.band_69<data.band_71)))))+(data.band_70 * (2=((0.0+(data.band_70<data.band_67)+(data.band_70<data.band_68)+(data.band_70<data.band_69)+(data.band_70<data.band_71)))))+(data.band_71 * (2=((0.0+(data.band_71<data.band_67)+(data.band_71<data.band_68)+(data.band_71<data.band_69)+(data.band_71<data.band_70))))))/((data.band_97 * (2=((0.0+(data.band_97<data.band_98)+(data.band_97<data.band_99)+(data.band_97<data.band_100)+(data.band_97<data.band_101)))))+(data.band_98 * (2=((0.0+(data.band_98<data.band_97)+(data.band_98<data.band_99)+(data.band_98<data.band_100)+(data.band_98<data.band_101)))))+(data.band_99 * (2=((0.0+(data.band_99<data.band_97)+(data.band_99<data.band_98)+(data.band_99<data.band_100)+(data.band_99<data.band_101)))))+(data.band_100 * (2=((0.0+(data.band_100<data.band_97)+(data.band_100<data.band_98)+(data.band_100<data.band_99)+(data.band_100<data.band_101)))))+(data.band_101 * (2=((0.0+(data.band_101<data.band_97)+(data.band_101<data.band_98)+(data.band_101<data.band_99)+(data.band_101<data.band_100)))))) * ((data.band_67!=65535) * (data.band_68!=65535) * (data.band_69!=65535) * (data.band_70!=65535) * (data.band_71!=65535))*((data.band_97!=65535) * (data.band_98!=65535) * (data.band_99!=65535) * (data.band_100!=65535) * (data.band_101!=65535))) + (( 1 - ((data.band_67!=65535) * (data.band_68!=65535) * (data.band_69!=65535) * (data.band_70!=65535) * (data.band_71!=65535))*((data.band_97!=65535) * (data.band_98!=65535) * (data.band_99!=65535) * (data.band_100!=65535) * (data.band_101!=65535))) * 65535)))) * ((data.band_67!=65535) * (data.band_68!=65535) * (data.band_69!=65535) * (data.band_70!=65535) * (data.band_71!=65535))*((data.band_97!=65535) * (data.band_98!=65535) * (data.band_99!=65535) * (data.band_100!=65535) * (data.band_101!=65535))))), \"jpg\",\"nodata=null\");\n",
      "http://access.planetserver.eu:8080/rasdaman/ows?service=WCS&version=2.0.1&request=ProcessCoverages&query=for data in ( frt0000b385_07_if164s_trr3 ) return  encode((float) (((data.band_67 * (2=((0.0+(data.band_67<data.band_68)+(data.band_67<data.band_69)+(data.band_67<data.band_70)+(data.band_67<data.band_71)))))+(data.band_68 * (2=((0.0+(data.band_68<data.band_67)+(data.band_68<data.band_69)+(data.band_68<data.band_70)+(data.band_68<data.band_71)))))+(data.band_69 * (2=((0.0+(data.band_69<data.band_67)+(data.band_69<data.band_68)+(data.band_69<data.band_70)+(data.band_69<data.band_71)))))+(data.band_70 * (2=((0.0+(data.band_70<data.band_67)+(data.band_70<data.band_68)+(data.band_70<data.band_69)+(data.band_70<data.band_71)))))+(data.band_71 * (2=((0.0+(data.band_71<data.band_67)+(data.band_71<data.band_68)+(data.band_71<data.band_69)+(data.band_71<data.band_70))))))/((data.band_97 * (2=((0.0+(data.band_97<data.band_98)+(data.band_97<data.band_99)+(data.band_97<data.band_100)+(data.band_97<data.band_101)))))+(data.band_98 * (2=((0.0+(data.band_98<data.band_97)+(data.band_98<data.band_99)+(data.band_98<data.band_100)+(data.band_98<data.band_101)))))+(data.band_99 * (2=((0.0+(data.band_99<data.band_97)+(data.band_99<data.band_98)+(data.band_99<data.band_100)+(data.band_99<data.band_101)))))+(data.band_100 * (2=((0.0+(data.band_100<data.band_97)+(data.band_100<data.band_98)+(data.band_100<data.band_99)+(data.band_100<data.band_101)))))+(data.band_101 * (2=((0.0+(data.band_101<data.band_97)+(data.band_101<data.band_98)+(data.band_101<data.band_99)+(data.band_101<data.band_100)))))))*((data.band_67!=65535) * (data.band_68!=65535) * (data.band_69!=65535) * (data.band_70!=65535) * (data.band_71!=65535))*((data.band_97!=65535) * (data.band_98!=65535) * (data.band_99!=65535) * (data.band_100!=65535) * (data.band_101!=65535)), \"tif\",\"nodata=null\");\n"
     ]
    }
   ],
   "source": [
    "#Product #53: IR ratio 1: R800 / R997 (kernel width 5)\n",
    "#Aphelion ice clouds (>1) versus seasonal or dust (<1)\n",
    "print tqs(f_encode( f_toEncode(f_med5s(800)+'/'+f_med5s(997), f_med5sNN(800)+'*'+f_med5sNN(997)), 'unsigned char', '\"jpg\"'))\n",
    "print tqs(f_encode( '('+f_med5s(800)+'/'+f_med5s(997)+')*' + f_med5sNN(800)+'*'+f_med5sNN(997), 'float', '\"tif\"'))\n"
   ]
  },
  {
   "cell_type": "code",
   "execution_count": 102,
   "metadata": {
    "collapsed": false
   },
   "outputs": [
    {
     "name": "stdout",
     "output_type": "stream",
     "text": [
      "http://access.planetserver.eu:8080/rasdaman/ows?service=WCS&version=2.0.1&request=ProcessCoverages&query=for data in ( frt0000b385_07_if164l_trr3 ) return  encode((unsigned char) ((((((data.band_6 * (2=((0.0+(data.band_6<data.band_7)+(data.band_6<data.band_8)+(data.band_6<data.band_9)+(data.band_6<data.band_10)))))+(data.band_7 * (2=((0.0+(data.band_7<data.band_6)+(data.band_7<data.band_8)+(data.band_7<data.band_9)+(data.band_7<data.band_10)))))+(data.band_8 * (2=((0.0+(data.band_8<data.band_6)+(data.band_8<data.band_7)+(data.band_8<data.band_9)+(data.band_8<data.band_10)))))+(data.band_9 * (2=((0.0+(data.band_9<data.band_6)+(data.band_9<data.band_7)+(data.band_9<data.band_8)+(data.band_9<data.band_10)))))+(data.band_10 * (2=((0.0+(data.band_10<data.band_6)+(data.band_10<data.band_7)+(data.band_10<data.band_8)+(data.band_10<data.band_9)))))) * ((data.band_6!=65535) * (data.band_7!=65535) * (data.band_8!=65535) * (data.band_9!=65535) * (data.band_10!=65535))) + (( 1 - ((data.band_6!=65535) * (data.band_7!=65535) * (data.band_8!=65535) * (data.band_9!=65535) * (data.band_10!=65535))) * 65535)) - min(((((data.band_6 * (2=((0.0+(data.band_6<data.band_7)+(data.band_6<data.band_8)+(data.band_6<data.band_9)+(data.band_6<data.band_10)))))+(data.band_7 * (2=((0.0+(data.band_7<data.band_6)+(data.band_7<data.band_8)+(data.band_7<data.band_9)+(data.band_7<data.band_10)))))+(data.band_8 * (2=((0.0+(data.band_8<data.band_6)+(data.band_8<data.band_7)+(data.band_8<data.band_9)+(data.band_8<data.band_10)))))+(data.band_9 * (2=((0.0+(data.band_9<data.band_6)+(data.band_9<data.band_7)+(data.band_9<data.band_8)+(data.band_9<data.band_10)))))+(data.band_10 * (2=((0.0+(data.band_10<data.band_6)+(data.band_10<data.band_7)+(data.band_10<data.band_8)+(data.band_10<data.band_9)))))) * ((data.band_6!=65535) * (data.band_7!=65535) * (data.band_8!=65535) * (data.band_9!=65535) * (data.band_10!=65535))) + (( 1 - ((data.band_6!=65535) * (data.band_7!=65535) * (data.band_8!=65535) * (data.band_9!=65535) * (data.band_10!=65535))) * 65535)))) * ((data.band_6!=65535) * (data.band_7!=65535) * (data.band_8!=65535) * (data.band_9!=65535) * (data.band_10!=65535)) * (255 / max((((((data.band_6 * (2=((0.0+(data.band_6<data.band_7)+(data.band_6<data.band_8)+(data.band_6<data.band_9)+(data.band_6<data.band_10)))))+(data.band_7 * (2=((0.0+(data.band_7<data.band_6)+(data.band_7<data.band_8)+(data.band_7<data.band_9)+(data.band_7<data.band_10)))))+(data.band_8 * (2=((0.0+(data.band_8<data.band_6)+(data.band_8<data.band_7)+(data.band_8<data.band_9)+(data.band_8<data.band_10)))))+(data.band_9 * (2=((0.0+(data.band_9<data.band_6)+(data.band_9<data.band_7)+(data.band_9<data.band_8)+(data.band_9<data.band_10)))))+(data.band_10 * (2=((0.0+(data.band_10<data.band_6)+(data.band_10<data.band_7)+(data.band_10<data.band_8)+(data.band_10<data.band_9)))))) * ((data.band_6!=65535) * (data.band_7!=65535) * (data.band_8!=65535) * (data.band_9!=65535) * (data.band_10!=65535))) + (( 1 - ((data.band_6!=65535) * (data.band_7!=65535) * (data.band_8!=65535) * (data.band_9!=65535) * (data.band_10!=65535))) * 65535)) - min(((((data.band_6 * (2=((0.0+(data.band_6<data.band_7)+(data.band_6<data.band_8)+(data.band_6<data.band_9)+(data.band_6<data.band_10)))))+(data.band_7 * (2=((0.0+(data.band_7<data.band_6)+(data.band_7<data.band_8)+(data.band_7<data.band_9)+(data.band_7<data.band_10)))))+(data.band_8 * (2=((0.0+(data.band_8<data.band_6)+(data.band_8<data.band_7)+(data.band_8<data.band_9)+(data.band_8<data.band_10)))))+(data.band_9 * (2=((0.0+(data.band_9<data.band_6)+(data.band_9<data.band_7)+(data.band_9<data.band_8)+(data.band_9<data.band_10)))))+(data.band_10 * (2=((0.0+(data.band_10<data.band_6)+(data.band_10<data.band_7)+(data.band_10<data.band_8)+(data.band_10<data.band_9)))))) * ((data.band_6!=65535) * (data.band_7!=65535) * (data.band_8!=65535) * (data.band_9!=65535) * (data.band_10!=65535))) + (( 1 - ((data.band_6!=65535) * (data.band_7!=65535) * (data.band_8!=65535) * (data.band_9!=65535) * (data.band_10!=65535))) * 65535)))) * ((data.band_6!=65535) * (data.band_7!=65535) * (data.band_8!=65535) * (data.band_9!=65535) * (data.band_10!=65535))))), \"jpg\",\"nodata=null\");\n"
     ]
    }
   ],
   "source": [
    "#Product #54: R1080 (kernel width 5) \n",
    "#FAL browse product\n",
    "print tql(f_encode( f_toEncode(f_med5l(1050), f_med5lNN(1050)), 'unsigned char', '\"jpg\"'))"
   ]
  },
  {
   "cell_type": "code",
   "execution_count": 103,
   "metadata": {
    "collapsed": false
   },
   "outputs": [
    {
     "name": "stdout",
     "output_type": "stream",
     "text": [
      "http://access.planetserver.eu:8080/rasdaman/ows?service=WCS&version=2.0.1&request=ProcessCoverages&query=for data in ( frt0000b385_07_if164l_trr3 ) return  encode((unsigned char) ((((((data.band_76 * (2=((0.0+(data.band_76<data.band_77)+(data.band_76<data.band_78)+(data.band_76<data.band_79)+(data.band_76<data.band_80)))))+(data.band_77 * (2=((0.0+(data.band_77<data.band_76)+(data.band_77<data.band_78)+(data.band_77<data.band_79)+(data.band_77<data.band_80)))))+(data.band_78 * (2=((0.0+(data.band_78<data.band_76)+(data.band_78<data.band_77)+(data.band_78<data.band_79)+(data.band_78<data.band_80)))))+(data.band_79 * (2=((0.0+(data.band_79<data.band_76)+(data.band_79<data.band_77)+(data.band_79<data.band_78)+(data.band_79<data.band_80)))))+(data.band_80 * (2=((0.0+(data.band_80<data.band_76)+(data.band_80<data.band_77)+(data.band_80<data.band_78)+(data.band_80<data.band_79)))))) * ((data.band_76!=65535) * (data.band_77!=65535) * (data.band_78!=65535) * (data.band_79!=65535) * (data.band_80!=65535))) + (( 1 - ((data.band_76!=65535) * (data.band_77!=65535) * (data.band_78!=65535) * (data.band_79!=65535) * (data.band_80!=65535))) * 65535)) - min(((((data.band_76 * (2=((0.0+(data.band_76<data.band_77)+(data.band_76<data.band_78)+(data.band_76<data.band_79)+(data.band_76<data.band_80)))))+(data.band_77 * (2=((0.0+(data.band_77<data.band_76)+(data.band_77<data.band_78)+(data.band_77<data.band_79)+(data.band_77<data.band_80)))))+(data.band_78 * (2=((0.0+(data.band_78<data.band_76)+(data.band_78<data.band_77)+(data.band_78<data.band_79)+(data.band_78<data.band_80)))))+(data.band_79 * (2=((0.0+(data.band_79<data.band_76)+(data.band_79<data.band_77)+(data.band_79<data.band_78)+(data.band_79<data.band_80)))))+(data.band_80 * (2=((0.0+(data.band_80<data.band_76)+(data.band_80<data.band_77)+(data.band_80<data.band_78)+(data.band_80<data.band_79)))))) * ((data.band_76!=65535) * (data.band_77!=65535) * (data.band_78!=65535) * (data.band_79!=65535) * (data.band_80!=65535))) + (( 1 - ((data.band_76!=65535) * (data.band_77!=65535) * (data.band_78!=65535) * (data.band_79!=65535) * (data.band_80!=65535))) * 65535)))) * ((data.band_76!=65535) * (data.band_77!=65535) * (data.band_78!=65535) * (data.band_79!=65535) * (data.band_80!=65535)) * (255 / max((((((data.band_76 * (2=((0.0+(data.band_76<data.band_77)+(data.band_76<data.band_78)+(data.band_76<data.band_79)+(data.band_76<data.band_80)))))+(data.band_77 * (2=((0.0+(data.band_77<data.band_76)+(data.band_77<data.band_78)+(data.band_77<data.band_79)+(data.band_77<data.band_80)))))+(data.band_78 * (2=((0.0+(data.band_78<data.band_76)+(data.band_78<data.band_77)+(data.band_78<data.band_79)+(data.band_78<data.band_80)))))+(data.band_79 * (2=((0.0+(data.band_79<data.band_76)+(data.band_79<data.band_77)+(data.band_79<data.band_78)+(data.band_79<data.band_80)))))+(data.band_80 * (2=((0.0+(data.band_80<data.band_76)+(data.band_80<data.band_77)+(data.band_80<data.band_78)+(data.band_80<data.band_79)))))) * ((data.band_76!=65535) * (data.band_77!=65535) * (data.band_78!=65535) * (data.band_79!=65535) * (data.band_80!=65535))) + (( 1 - ((data.band_76!=65535) * (data.band_77!=65535) * (data.band_78!=65535) * (data.band_79!=65535) * (data.band_80!=65535))) * 65535)) - min(((((data.band_76 * (2=((0.0+(data.band_76<data.band_77)+(data.band_76<data.band_78)+(data.band_76<data.band_79)+(data.band_76<data.band_80)))))+(data.band_77 * (2=((0.0+(data.band_77<data.band_76)+(data.band_77<data.band_78)+(data.band_77<data.band_79)+(data.band_77<data.band_80)))))+(data.band_78 * (2=((0.0+(data.band_78<data.band_76)+(data.band_78<data.band_77)+(data.band_78<data.band_79)+(data.band_78<data.band_80)))))+(data.band_79 * (2=((0.0+(data.band_79<data.band_76)+(data.band_79<data.band_77)+(data.band_79<data.band_78)+(data.band_79<data.band_80)))))+(data.band_80 * (2=((0.0+(data.band_80<data.band_76)+(data.band_80<data.band_77)+(data.band_80<data.band_78)+(data.band_80<data.band_79)))))) * ((data.band_76!=65535) * (data.band_77!=65535) * (data.band_78!=65535) * (data.band_79!=65535) * (data.band_80!=65535))) + (( 1 - ((data.band_76!=65535) * (data.band_77!=65535) * (data.band_78!=65535) * (data.band_79!=65535) * (data.band_80!=65535))) * 65535)))) * ((data.band_76!=65535) * (data.band_77!=65535) * (data.band_78!=65535) * (data.band_79!=65535) * (data.band_80!=65535))))), \"jpg\",\"nodata=null\");\n"
     ]
    }
   ],
   "source": [
    "#Product #55: R1506 (kernel width 5) \n",
    "#FAL browse product\n",
    "print tql(f_encode( f_toEncode(f_med5l(1506), f_med5lNN(1506)), 'unsigned char', '\"jpg\"'))"
   ]
  },
  {
   "cell_type": "code",
   "execution_count": 104,
   "metadata": {
    "collapsed": false
   },
   "outputs": [
    {
     "name": "stdout",
     "output_type": "stream",
     "text": [
      "http://access.planetserver.eu:8080/rasdaman/ows?service=WCS&version=2.0.1&request=ProcessCoverages&query=for data in ( frt0000b385_07_if164l_trr3 ) return  encode((unsigned char) ((((((data.band_231 * (2=((0.0+(data.band_231<data.band_232)+(data.band_231<data.band_233)+(data.band_231<data.band_234)+(data.band_231<data.band_235)))))+(data.band_232 * (2=((0.0+(data.band_232<data.band_231)+(data.band_232<data.band_233)+(data.band_232<data.band_234)+(data.band_232<data.band_235)))))+(data.band_233 * (2=((0.0+(data.band_233<data.band_231)+(data.band_233<data.band_232)+(data.band_233<data.band_234)+(data.band_233<data.band_235)))))+(data.band_234 * (2=((0.0+(data.band_234<data.band_231)+(data.band_234<data.band_232)+(data.band_234<data.band_233)+(data.band_234<data.band_235)))))+(data.band_235 * (2=((0.0+(data.band_235<data.band_231)+(data.band_235<data.band_232)+(data.band_235<data.band_233)+(data.band_235<data.band_234)))))) * ((data.band_231!=65535) * (data.band_232!=65535) * (data.band_233!=65535) * (data.band_234!=65535) * (data.band_235!=65535))) + (( 1 - ((data.band_231!=65535) * (data.band_232!=65535) * (data.band_233!=65535) * (data.band_234!=65535) * (data.band_235!=65535))) * 65535)) - min(((((data.band_231 * (2=((0.0+(data.band_231<data.band_232)+(data.band_231<data.band_233)+(data.band_231<data.band_234)+(data.band_231<data.band_235)))))+(data.band_232 * (2=((0.0+(data.band_232<data.band_231)+(data.band_232<data.band_233)+(data.band_232<data.band_234)+(data.band_232<data.band_235)))))+(data.band_233 * (2=((0.0+(data.band_233<data.band_231)+(data.band_233<data.band_232)+(data.band_233<data.band_234)+(data.band_233<data.band_235)))))+(data.band_234 * (2=((0.0+(data.band_234<data.band_231)+(data.band_234<data.band_232)+(data.band_234<data.band_233)+(data.band_234<data.band_235)))))+(data.band_235 * (2=((0.0+(data.band_235<data.band_231)+(data.band_235<data.band_232)+(data.band_235<data.band_233)+(data.band_235<data.band_234)))))) * ((data.band_231!=65535) * (data.band_232!=65535) * (data.band_233!=65535) * (data.band_234!=65535) * (data.band_235!=65535))) + (( 1 - ((data.band_231!=65535) * (data.band_232!=65535) * (data.band_233!=65535) * (data.band_234!=65535) * (data.band_235!=65535))) * 65535)))) * ((data.band_231!=65535) * (data.band_232!=65535) * (data.band_233!=65535) * (data.band_234!=65535) * (data.band_235!=65535)) * (255 / max((((((data.band_231 * (2=((0.0+(data.band_231<data.band_232)+(data.band_231<data.band_233)+(data.band_231<data.band_234)+(data.band_231<data.band_235)))))+(data.band_232 * (2=((0.0+(data.band_232<data.band_231)+(data.band_232<data.band_233)+(data.band_232<data.band_234)+(data.band_232<data.band_235)))))+(data.band_233 * (2=((0.0+(data.band_233<data.band_231)+(data.band_233<data.band_232)+(data.band_233<data.band_234)+(data.band_233<data.band_235)))))+(data.band_234 * (2=((0.0+(data.band_234<data.band_231)+(data.band_234<data.band_232)+(data.band_234<data.band_233)+(data.band_234<data.band_235)))))+(data.band_235 * (2=((0.0+(data.band_235<data.band_231)+(data.band_235<data.band_232)+(data.band_235<data.band_233)+(data.band_235<data.band_234)))))) * ((data.band_231!=65535) * (data.band_232!=65535) * (data.band_233!=65535) * (data.band_234!=65535) * (data.band_235!=65535))) + (( 1 - ((data.band_231!=65535) * (data.band_232!=65535) * (data.band_233!=65535) * (data.band_234!=65535) * (data.band_235!=65535))) * 65535)) - min(((((data.band_231 * (2=((0.0+(data.band_231<data.band_232)+(data.band_231<data.band_233)+(data.band_231<data.band_234)+(data.band_231<data.band_235)))))+(data.band_232 * (2=((0.0+(data.band_232<data.band_231)+(data.band_232<data.band_233)+(data.band_232<data.band_234)+(data.band_232<data.band_235)))))+(data.band_233 * (2=((0.0+(data.band_233<data.band_231)+(data.band_233<data.band_232)+(data.band_233<data.band_234)+(data.band_233<data.band_235)))))+(data.band_234 * (2=((0.0+(data.band_234<data.band_231)+(data.band_234<data.band_232)+(data.band_234<data.band_233)+(data.band_234<data.band_235)))))+(data.band_235 * (2=((0.0+(data.band_235<data.band_231)+(data.band_235<data.band_232)+(data.band_235<data.band_233)+(data.band_235<data.band_234)))))) * ((data.band_231!=65535) * (data.band_232!=65535) * (data.band_233!=65535) * (data.band_234!=65535) * (data.band_235!=65535))) + (( 1 - ((data.band_231!=65535) * (data.band_232!=65535) * (data.band_233!=65535) * (data.band_234!=65535) * (data.band_235!=65535))) * 65535)))) * ((data.band_231!=65535) * (data.band_232!=65535) * (data.band_233!=65535) * (data.band_234!=65535) * (data.band_235!=65535))))), \"jpg\",\"nodata=null\");\n"
     ]
    }
   ],
   "source": [
    "#Product #56: R2529 (kernel width 5) \n",
    "#TAN browse product\n",
    "print tql(f_encode( f_toEncode(f_med5l(2529), f_med5lNN(2529)), 'unsigned char', '\"jpg\"'))"
   ]
  },
  {
   "cell_type": "code",
   "execution_count": 105,
   "metadata": {
    "collapsed": false
   },
   "outputs": [
    {
     "name": "stdout",
     "output_type": "stream",
     "text": [
      "http://access.planetserver.eu:8080/rasdaman/ows?service=WCS&version=2.0.1&request=ProcessCoverages&query=for data in ( frt0000b385_07_if164l_trr3 ) return  encode((unsigned char) (((((1 - (data.band_244 / ((0.3 * data.band_233) + (0.7 * data.band_248)))) * ((data.band_244!=65535) * (data.band_233!=65535) * (data.band_248!=65535))) + (( 1 - ((data.band_244!=65535) * (data.band_233!=65535) * (data.band_248!=65535))) * 65535)) - min((((1 - (data.band_244 / ((0.3 * data.band_233) + (0.7 * data.band_248)))) * ((data.band_244!=65535) * (data.band_233!=65535) * (data.band_248!=65535))) + (( 1 - ((data.band_244!=65535) * (data.band_233!=65535) * (data.band_248!=65535))) * 65535)))) * ((data.band_244!=65535) * (data.band_233!=65535) * (data.band_248!=65535)) * (255 / max(((((1 - (data.band_244 / ((0.3 * data.band_233) + (0.7 * data.band_248)))) * ((data.band_244!=65535) * (data.band_233!=65535) * (data.band_248!=65535))) + (( 1 - ((data.band_244!=65535) * (data.band_233!=65535) * (data.band_248!=65535))) * 65535)) - min((((1 - (data.band_244 / ((0.3 * data.band_233) + (0.7 * data.band_248)))) * ((data.band_244!=65535) * (data.band_233!=65535) * (data.band_248!=65535))) + (( 1 - ((data.band_244!=65535) * (data.band_233!=65535) * (data.band_248!=65535))) * 65535)))) * ((data.band_244!=65535) * (data.band_233!=65535) * (data.band_248!=65535))))), \"jpg\",\"nodata=null\");\n",
      "http://access.planetserver.eu:8080/rasdaman/ows?service=WCS&version=2.0.1&request=ProcessCoverages&query=for data in ( frt0000b385_07_if164l_trr3 ) return  encode((float) (((((1 - (data.band_244 / ((0.3 * data.band_233) + (0.7 * data.band_248)))) * ((data.band_244!=65535) * (data.band_233!=65535) * (data.band_248!=65535))) + (( 1 - ((data.band_244!=65535) * (data.band_233!=65535) * (data.band_248!=65535))) * 65535)) - min((((1 - (data.band_244 / ((0.3 * data.band_233) + (0.7 * data.band_248)))) * ((data.band_244!=65535) * (data.band_233!=65535) * (data.band_248!=65535))) + (( 1 - ((data.band_244!=65535) * (data.band_233!=65535) * (data.band_248!=65535))) * 65535)))) * ((data.band_244!=65535) * (data.band_233!=65535) * (data.band_248!=65535)) * (255 / max(((((1 - (data.band_244 / ((0.3 * data.band_233) + (0.7 * data.band_248)))) * ((data.band_244!=65535) * (data.band_233!=65535) * (data.band_248!=65535))) + (( 1 - ((data.band_244!=65535) * (data.band_233!=65535) * (data.band_248!=65535))) * 65535)) - min((((1 - (data.band_244 / ((0.3 * data.band_233) + (0.7 * data.band_248)))) * ((data.band_244!=65535) * (data.band_233!=65535) * (data.band_248!=65535))) + (( 1 - ((data.band_244!=65535) * (data.band_233!=65535) * (data.band_248!=65535))) * 65535)))) * ((data.band_244!=65535) * (data.band_233!=65535) * (data.band_248!=65535))))), \"tif\",\"nodata=null\");\n",
      "http://access.planetserver.eu:8080/rasdaman/ows?service=WCS&version=2.0.1&request=ProcessCoverages&query=for data in ( frt0000b385_07_if164l_trr3 ) return  encode((unsigned char) (((((1 - (((data.band_242 * (2=((0.0+(data.band_242<data.band_243)+(data.band_242<data.band_244)+(data.band_242<data.band_245)+(data.band_242<data.band_246)))))+(data.band_243 * (2=((0.0+(data.band_243<data.band_242)+(data.band_243<data.band_244)+(data.band_243<data.band_245)+(data.band_243<data.band_246)))))+(data.band_244 * (2=((0.0+(data.band_244<data.band_242)+(data.band_244<data.band_243)+(data.band_244<data.band_245)+(data.band_244<data.band_246)))))+(data.band_245 * (2=((0.0+(data.band_245<data.band_242)+(data.band_245<data.band_243)+(data.band_245<data.band_244)+(data.band_245<data.band_246)))))+(data.band_246 * (2=((0.0+(data.band_246<data.band_242)+(data.band_246<data.band_243)+(data.band_246<data.band_244)+(data.band_246<data.band_245)))))) / ((0.3 * ((data.band_231 * (2=((0.0+(data.band_231<data.band_232)+(data.band_231<data.band_233)+(data.band_231<data.band_234)+(data.band_231<data.band_235)))))+(data.band_232 * (2=((0.0+(data.band_232<data.band_231)+(data.band_232<data.band_233)+(data.band_232<data.band_234)+(data.band_232<data.band_235)))))+(data.band_233 * (2=((0.0+(data.band_233<data.band_231)+(data.band_233<data.band_232)+(data.band_233<data.band_234)+(data.band_233<data.band_235)))))+(data.band_234 * (2=((0.0+(data.band_234<data.band_231)+(data.band_234<data.band_232)+(data.band_234<data.band_233)+(data.band_234<data.band_235)))))+(data.band_235 * (2=((0.0+(data.band_235<data.band_231)+(data.band_235<data.band_232)+(data.band_235<data.band_233)+(data.band_235<data.band_234))))))) + (0.7 * ((data.band_246 * (2=((0.0+(data.band_246<data.band_247)+(data.band_246<data.band_248)+(data.band_246<data.band_249)+(data.band_246<data.band_250)))))+(data.band_247 * (2=((0.0+(data.band_247<data.band_246)+(data.band_247<data.band_248)+(data.band_247<data.band_249)+(data.band_247<data.band_250)))))+(data.band_248 * (2=((0.0+(data.band_248<data.band_246)+(data.band_248<data.band_247)+(data.band_248<data.band_249)+(data.band_248<data.band_250)))))+(data.band_249 * (2=((0.0+(data.band_249<data.band_246)+(data.band_249<data.band_247)+(data.band_249<data.band_248)+(data.band_249<data.band_250)))))+(data.band_250 * (2=((0.0+(data.band_250<data.band_246)+(data.band_250<data.band_247)+(data.band_250<data.band_248)+(data.band_250<data.band_249)))))))))) * (((data.band_242!=65535) * (data.band_243!=65535) * (data.band_244!=65535) * (data.band_245!=65535) * (data.band_246!=65535))*((data.band_231!=65535) * (data.band_232!=65535) * (data.band_233!=65535) * (data.band_234!=65535) * (data.band_235!=65535))*((data.band_246!=65535) * (data.band_247!=65535) * (data.band_248!=65535) * (data.band_249!=65535) * (data.band_250!=65535)))) + (( 1 - (((data.band_242!=65535) * (data.band_243!=65535) * (data.band_244!=65535) * (data.band_245!=65535) * (data.band_246!=65535))*((data.band_231!=65535) * (data.band_232!=65535) * (data.band_233!=65535) * (data.band_234!=65535) * (data.band_235!=65535))*((data.band_246!=65535) * (data.band_247!=65535) * (data.band_248!=65535) * (data.band_249!=65535) * (data.band_250!=65535)))) * 65535)) - min((((1 - (((data.band_242 * (2=((0.0+(data.band_242<data.band_243)+(data.band_242<data.band_244)+(data.band_242<data.band_245)+(data.band_242<data.band_246)))))+(data.band_243 * (2=((0.0+(data.band_243<data.band_242)+(data.band_243<data.band_244)+(data.band_243<data.band_245)+(data.band_243<data.band_246)))))+(data.band_244 * (2=((0.0+(data.band_244<data.band_242)+(data.band_244<data.band_243)+(data.band_244<data.band_245)+(data.band_244<data.band_246)))))+(data.band_245 * (2=((0.0+(data.band_245<data.band_242)+(data.band_245<data.band_243)+(data.band_245<data.band_244)+(data.band_245<data.band_246)))))+(data.band_246 * (2=((0.0+(data.band_246<data.band_242)+(data.band_246<data.band_243)+(data.band_246<data.band_244)+(data.band_246<data.band_245)))))) / ((0.3 * ((data.band_231 * (2=((0.0+(data.band_231<data.band_232)+(data.band_231<data.band_233)+(data.band_231<data.band_234)+(data.band_231<data.band_235)))))+(data.band_232 * (2=((0.0+(data.band_232<data.band_231)+(data.band_232<data.band_233)+(data.band_232<data.band_234)+(data.band_232<data.band_235)))))+(data.band_233 * (2=((0.0+(data.band_233<data.band_231)+(data.band_233<data.band_232)+(data.band_233<data.band_234)+(data.band_233<data.band_235)))))+(data.band_234 * (2=((0.0+(data.band_234<data.band_231)+(data.band_234<data.band_232)+(data.band_234<data.band_233)+(data.band_234<data.band_235)))))+(data.band_235 * (2=((0.0+(data.band_235<data.band_231)+(data.band_235<data.band_232)+(data.band_235<data.band_233)+(data.band_235<data.band_234))))))) + (0.7 * ((data.band_246 * (2=((0.0+(data.band_246<data.band_247)+(data.band_246<data.band_248)+(data.band_246<data.band_249)+(data.band_246<data.band_250)))))+(data.band_247 * (2=((0.0+(data.band_247<data.band_246)+(data.band_247<data.band_248)+(data.band_247<data.band_249)+(data.band_247<data.band_250)))))+(data.band_248 * (2=((0.0+(data.band_248<data.band_246)+(data.band_248<data.band_247)+(data.band_248<data.band_249)+(data.band_248<data.band_250)))))+(data.band_249 * (2=((0.0+(data.band_249<data.band_246)+(data.band_249<data.band_247)+(data.band_249<data.band_248)+(data.band_249<data.band_250)))))+(data.band_250 * (2=((0.0+(data.band_250<data.band_246)+(data.band_250<data.band_247)+(data.band_250<data.band_248)+(data.band_250<data.band_249)))))))))) * (((data.band_242!=65535) * (data.band_243!=65535) * (data.band_244!=65535) * (data.band_245!=65535) * (data.band_246!=65535))*((data.band_231!=65535) * (data.band_232!=65535) * (data.band_233!=65535) * (data.band_234!=65535) * (data.band_235!=65535))*((data.band_246!=65535) * (data.band_247!=65535) * (data.band_248!=65535) * (data.band_249!=65535) * (data.band_250!=65535)))) + (( 1 - (((data.band_242!=65535) * (data.band_243!=65535) * (data.band_244!=65535) * (data.band_245!=65535) * (data.band_246!=65535))*((data.band_231!=65535) * (data.band_232!=65535) * (data.band_233!=65535) * (data.band_234!=65535) * (data.band_235!=65535))*((data.band_246!=65535) * (data.band_247!=65535) * (data.band_248!=65535) * (data.band_249!=65535) * (data.band_250!=65535)))) * 65535)))) * (((data.band_242!=65535) * (data.band_243!=65535) * (data.band_244!=65535) * (data.band_245!=65535) * (data.band_246!=65535))*((data.band_231!=65535) * (data.band_232!=65535) * (data.band_233!=65535) * (data.band_234!=65535) * (data.band_235!=65535))*((data.band_246!=65535) * (data.band_247!=65535) * (data.band_248!=65535) * (data.band_249!=65535) * (data.band_250!=65535))) * (255 / max(((((1 - (((data.band_242 * (2=((0.0+(data.band_242<data.band_243)+(data.band_242<data.band_244)+(data.band_242<data.band_245)+(data.band_242<data.band_246)))))+(data.band_243 * (2=((0.0+(data.band_243<data.band_242)+(data.band_243<data.band_244)+(data.band_243<data.band_245)+(data.band_243<data.band_246)))))+(data.band_244 * (2=((0.0+(data.band_244<data.band_242)+(data.band_244<data.band_243)+(data.band_244<data.band_245)+(data.band_244<data.band_246)))))+(data.band_245 * (2=((0.0+(data.band_245<data.band_242)+(data.band_245<data.band_243)+(data.band_245<data.band_244)+(data.band_245<data.band_246)))))+(data.band_246 * (2=((0.0+(data.band_246<data.band_242)+(data.band_246<data.band_243)+(data.band_246<data.band_244)+(data.band_246<data.band_245)))))) / ((0.3 * ((data.band_231 * (2=((0.0+(data.band_231<data.band_232)+(data.band_231<data.band_233)+(data.band_231<data.band_234)+(data.band_231<data.band_235)))))+(data.band_232 * (2=((0.0+(data.band_232<data.band_231)+(data.band_232<data.band_233)+(data.band_232<data.band_234)+(data.band_232<data.band_235)))))+(data.band_233 * (2=((0.0+(data.band_233<data.band_231)+(data.band_233<data.band_232)+(data.band_233<data.band_234)+(data.band_233<data.band_235)))))+(data.band_234 * (2=((0.0+(data.band_234<data.band_231)+(data.band_234<data.band_232)+(data.band_234<data.band_233)+(data.band_234<data.band_235)))))+(data.band_235 * (2=((0.0+(data.band_235<data.band_231)+(data.band_235<data.band_232)+(data.band_235<data.band_233)+(data.band_235<data.band_234))))))) + (0.7 * ((data.band_246 * (2=((0.0+(data.band_246<data.band_247)+(data.band_246<data.band_248)+(data.band_246<data.band_249)+(data.band_246<data.band_250)))))+(data.band_247 * (2=((0.0+(data.band_247<data.band_246)+(data.band_247<data.band_248)+(data.band_247<data.band_249)+(data.band_247<data.band_250)))))+(data.band_248 * (2=((0.0+(data.band_248<data.band_246)+(data.band_248<data.band_247)+(data.band_248<data.band_249)+(data.band_248<data.band_250)))))+(data.band_249 * (2=((0.0+(data.band_249<data.band_246)+(data.band_249<data.band_247)+(data.band_249<data.band_248)+(data.band_249<data.band_250)))))+(data.band_250 * (2=((0.0+(data.band_250<data.band_246)+(data.band_250<data.band_247)+(data.band_250<data.band_248)+(data.band_250<data.band_249)))))))))) * (((data.band_242!=65535) * (data.band_243!=65535) * (data.band_244!=65535) * (data.band_245!=65535) * (data.band_246!=65535))*((data.band_231!=65535) * (data.band_232!=65535) * (data.band_233!=65535) * (data.band_234!=65535) * (data.band_235!=65535))*((data.band_246!=65535) * (data.band_247!=65535) * (data.band_248!=65535) * (data.band_249!=65535) * (data.band_250!=65535)))) + (( 1 - (((data.band_242!=65535) * (data.band_243!=65535) * (data.band_244!=65535) * (data.band_245!=65535) * (data.band_246!=65535))*((data.band_231!=65535) * (data.band_232!=65535) * (data.band_233!=65535) * (data.band_234!=65535) * (data.band_235!=65535))*((data.band_246!=65535) * (data.band_247!=65535) * (data.band_248!=65535) * (data.band_249!=65535) * (data.band_250!=65535)))) * 65535)) - min((((1 - (((data.band_242 * (2=((0.0+(data.band_242<data.band_243)+(data.band_242<data.band_244)+(data.band_242<data.band_245)+(data.band_242<data.band_246)))))+(data.band_243 * (2=((0.0+(data.band_243<data.band_242)+(data.band_243<data.band_244)+(data.band_243<data.band_245)+(data.band_243<data.band_246)))))+(data.band_244 * (2=((0.0+(data.band_244<data.band_242)+(data.band_244<data.band_243)+(data.band_244<data.band_245)+(data.band_244<data.band_246)))))+(data.band_245 * (2=((0.0+(data.band_245<data.band_242)+(data.band_245<data.band_243)+(data.band_245<data.band_244)+(data.band_245<data.band_246)))))+(data.band_246 * (2=((0.0+(data.band_246<data.band_242)+(data.band_246<data.band_243)+(data.band_246<data.band_244)+(data.band_246<data.band_245)))))) / ((0.3 * ((data.band_231 * (2=((0.0+(data.band_231<data.band_232)+(data.band_231<data.band_233)+(data.band_231<data.band_234)+(data.band_231<data.band_235)))))+(data.band_232 * (2=((0.0+(data.band_232<data.band_231)+(data.band_232<data.band_233)+(data.band_232<data.band_234)+(data.band_232<data.band_235)))))+(data.band_233 * (2=((0.0+(data.band_233<data.band_231)+(data.band_233<data.band_232)+(data.band_233<data.band_234)+(data.band_233<data.band_235)))))+(data.band_234 * (2=((0.0+(data.band_234<data.band_231)+(data.band_234<data.band_232)+(data.band_234<data.band_233)+(data.band_234<data.band_235)))))+(data.band_235 * (2=((0.0+(data.band_235<data.band_231)+(data.band_235<data.band_232)+(data.band_235<data.band_233)+(data.band_235<data.band_234))))))) + (0.7 * ((data.band_246 * (2=((0.0+(data.band_246<data.band_247)+(data.band_246<data.band_248)+(data.band_246<data.band_249)+(data.band_246<data.band_250)))))+(data.band_247 * (2=((0.0+(data.band_247<data.band_246)+(data.band_247<data.band_248)+(data.band_247<data.band_249)+(data.band_247<data.band_250)))))+(data.band_248 * (2=((0.0+(data.band_248<data.band_246)+(data.band_248<data.band_247)+(data.band_248<data.band_249)+(data.band_248<data.band_250)))))+(data.band_249 * (2=((0.0+(data.band_249<data.band_246)+(data.band_249<data.band_247)+(data.band_249<data.band_248)+(data.band_249<data.band_250)))))+(data.band_250 * (2=((0.0+(data.band_250<data.band_246)+(data.band_250<data.band_247)+(data.band_250<data.band_248)+(data.band_250<data.band_249)))))))))) * (((data.band_242!=65535) * (data.band_243!=65535) * (data.band_244!=65535) * (data.band_245!=65535) * (data.band_246!=65535))*((data.band_231!=65535) * (data.band_232!=65535) * (data.band_233!=65535) * (data.band_234!=65535) * (data.band_235!=65535))*((data.band_246!=65535) * (data.band_247!=65535) * (data.band_248!=65535) * (data.band_249!=65535) * (data.band_250!=65535)))) + (( 1 - (((data.band_242!=65535) * (data.band_243!=65535) * (data.band_244!=65535) * (data.band_245!=65535) * (data.band_246!=65535))*((data.band_231!=65535) * (data.band_232!=65535) * (data.band_233!=65535) * (data.band_234!=65535) * (data.band_235!=65535))*((data.band_246!=65535) * (data.band_247!=65535) * (data.band_248!=65535) * (data.band_249!=65535) * (data.band_250!=65535)))) * 65535)))) * (((data.band_242!=65535) * (data.band_243!=65535) * (data.band_244!=65535) * (data.band_245!=65535) * (data.band_246!=65535))*((data.band_231!=65535) * (data.band_232!=65535) * (data.band_233!=65535) * (data.band_234!=65535) * (data.band_235!=65535))*((data.band_246!=65535) * (data.band_247!=65535) * (data.band_248!=65535) * (data.band_249!=65535) * (data.band_250!=65535)))))), \"jpg\",\"nodata=null\");\n",
      "http://access.planetserver.eu:8080/rasdaman/ows?service=WCS&version=2.0.1&request=ProcessCoverages&query=for data in ( frt0000b385_07_if164l_trr3 ) return  encode((float) (((((1 - (((data.band_242 * (2=((0.0+(data.band_242<data.band_243)+(data.band_242<data.band_244)+(data.band_242<data.band_245)+(data.band_242<data.band_246)))))+(data.band_243 * (2=((0.0+(data.band_243<data.band_242)+(data.band_243<data.band_244)+(data.band_243<data.band_245)+(data.band_243<data.band_246)))))+(data.band_244 * (2=((0.0+(data.band_244<data.band_242)+(data.band_244<data.band_243)+(data.band_244<data.band_245)+(data.band_244<data.band_246)))))+(data.band_245 * (2=((0.0+(data.band_245<data.band_242)+(data.band_245<data.band_243)+(data.band_245<data.band_244)+(data.band_245<data.band_246)))))+(data.band_246 * (2=((0.0+(data.band_246<data.band_242)+(data.band_246<data.band_243)+(data.band_246<data.band_244)+(data.band_246<data.band_245)))))) / ((0.3 * ((data.band_231 * (2=((0.0+(data.band_231<data.band_232)+(data.band_231<data.band_233)+(data.band_231<data.band_234)+(data.band_231<data.band_235)))))+(data.band_232 * (2=((0.0+(data.band_232<data.band_231)+(data.band_232<data.band_233)+(data.band_232<data.band_234)+(data.band_232<data.band_235)))))+(data.band_233 * (2=((0.0+(data.band_233<data.band_231)+(data.band_233<data.band_232)+(data.band_233<data.band_234)+(data.band_233<data.band_235)))))+(data.band_234 * (2=((0.0+(data.band_234<data.band_231)+(data.band_234<data.band_232)+(data.band_234<data.band_233)+(data.band_234<data.band_235)))))+(data.band_235 * (2=((0.0+(data.band_235<data.band_231)+(data.band_235<data.band_232)+(data.band_235<data.band_233)+(data.band_235<data.band_234))))))) + (0.7 * ((data.band_246 * (2=((0.0+(data.band_246<data.band_247)+(data.band_246<data.band_248)+(data.band_246<data.band_249)+(data.band_246<data.band_250)))))+(data.band_247 * (2=((0.0+(data.band_247<data.band_246)+(data.band_247<data.band_248)+(data.band_247<data.band_249)+(data.band_247<data.band_250)))))+(data.band_248 * (2=((0.0+(data.band_248<data.band_246)+(data.band_248<data.band_247)+(data.band_248<data.band_249)+(data.band_248<data.band_250)))))+(data.band_249 * (2=((0.0+(data.band_249<data.band_246)+(data.band_249<data.band_247)+(data.band_249<data.band_248)+(data.band_249<data.band_250)))))+(data.band_250 * (2=((0.0+(data.band_250<data.band_246)+(data.band_250<data.band_247)+(data.band_250<data.band_248)+(data.band_250<data.band_249)))))))))) * (((data.band_242!=65535) * (data.band_243!=65535) * (data.band_244!=65535) * (data.band_245!=65535) * (data.band_246!=65535))*((data.band_231!=65535) * (data.band_232!=65535) * (data.band_233!=65535) * (data.band_234!=65535) * (data.band_235!=65535))*((data.band_246!=65535) * (data.band_247!=65535) * (data.band_248!=65535) * (data.band_249!=65535) * (data.band_250!=65535)))) + (( 1 - (((data.band_242!=65535) * (data.band_243!=65535) * (data.band_244!=65535) * (data.band_245!=65535) * (data.band_246!=65535))*((data.band_231!=65535) * (data.band_232!=65535) * (data.band_233!=65535) * (data.band_234!=65535) * (data.band_235!=65535))*((data.band_246!=65535) * (data.band_247!=65535) * (data.band_248!=65535) * (data.band_249!=65535) * (data.band_250!=65535)))) * 65535)) - min((((1 - (((data.band_242 * (2=((0.0+(data.band_242<data.band_243)+(data.band_242<data.band_244)+(data.band_242<data.band_245)+(data.band_242<data.band_246)))))+(data.band_243 * (2=((0.0+(data.band_243<data.band_242)+(data.band_243<data.band_244)+(data.band_243<data.band_245)+(data.band_243<data.band_246)))))+(data.band_244 * (2=((0.0+(data.band_244<data.band_242)+(data.band_244<data.band_243)+(data.band_244<data.band_245)+(data.band_244<data.band_246)))))+(data.band_245 * (2=((0.0+(data.band_245<data.band_242)+(data.band_245<data.band_243)+(data.band_245<data.band_244)+(data.band_245<data.band_246)))))+(data.band_246 * (2=((0.0+(data.band_246<data.band_242)+(data.band_246<data.band_243)+(data.band_246<data.band_244)+(data.band_246<data.band_245)))))) / ((0.3 * ((data.band_231 * (2=((0.0+(data.band_231<data.band_232)+(data.band_231<data.band_233)+(data.band_231<data.band_234)+(data.band_231<data.band_235)))))+(data.band_232 * (2=((0.0+(data.band_232<data.band_231)+(data.band_232<data.band_233)+(data.band_232<data.band_234)+(data.band_232<data.band_235)))))+(data.band_233 * (2=((0.0+(data.band_233<data.band_231)+(data.band_233<data.band_232)+(data.band_233<data.band_234)+(data.band_233<data.band_235)))))+(data.band_234 * (2=((0.0+(data.band_234<data.band_231)+(data.band_234<data.band_232)+(data.band_234<data.band_233)+(data.band_234<data.band_235)))))+(data.band_235 * (2=((0.0+(data.band_235<data.band_231)+(data.band_235<data.band_232)+(data.band_235<data.band_233)+(data.band_235<data.band_234))))))) + (0.7 * ((data.band_246 * (2=((0.0+(data.band_246<data.band_247)+(data.band_246<data.band_248)+(data.band_246<data.band_249)+(data.band_246<data.band_250)))))+(data.band_247 * (2=((0.0+(data.band_247<data.band_246)+(data.band_247<data.band_248)+(data.band_247<data.band_249)+(data.band_247<data.band_250)))))+(data.band_248 * (2=((0.0+(data.band_248<data.band_246)+(data.band_248<data.band_247)+(data.band_248<data.band_249)+(data.band_248<data.band_250)))))+(data.band_249 * (2=((0.0+(data.band_249<data.band_246)+(data.band_249<data.band_247)+(data.band_249<data.band_248)+(data.band_249<data.band_250)))))+(data.band_250 * (2=((0.0+(data.band_250<data.band_246)+(data.band_250<data.band_247)+(data.band_250<data.band_248)+(data.band_250<data.band_249)))))))))) * (((data.band_242!=65535) * (data.band_243!=65535) * (data.band_244!=65535) * (data.band_245!=65535) * (data.band_246!=65535))*((data.band_231!=65535) * (data.band_232!=65535) * (data.band_233!=65535) * (data.band_234!=65535) * (data.band_235!=65535))*((data.band_246!=65535) * (data.band_247!=65535) * (data.band_248!=65535) * (data.band_249!=65535) * (data.band_250!=65535)))) + (( 1 - (((data.band_242!=65535) * (data.band_243!=65535) * (data.band_244!=65535) * (data.band_245!=65535) * (data.band_246!=65535))*((data.band_231!=65535) * (data.band_232!=65535) * (data.band_233!=65535) * (data.band_234!=65535) * (data.band_235!=65535))*((data.band_246!=65535) * (data.band_247!=65535) * (data.band_248!=65535) * (data.band_249!=65535) * (data.band_250!=65535)))) * 65535)))) * (((data.band_242!=65535) * (data.band_243!=65535) * (data.band_244!=65535) * (data.band_245!=65535) * (data.band_246!=65535))*((data.band_231!=65535) * (data.band_232!=65535) * (data.band_233!=65535) * (data.band_234!=65535) * (data.band_235!=65535))*((data.band_246!=65535) * (data.band_247!=65535) * (data.band_248!=65535) * (data.band_249!=65535) * (data.band_250!=65535))) * (255 / max(((((1 - (((data.band_242 * (2=((0.0+(data.band_242<data.band_243)+(data.band_242<data.band_244)+(data.band_242<data.band_245)+(data.band_242<data.band_246)))))+(data.band_243 * (2=((0.0+(data.band_243<data.band_242)+(data.band_243<data.band_244)+(data.band_243<data.band_245)+(data.band_243<data.band_246)))))+(data.band_244 * (2=((0.0+(data.band_244<data.band_242)+(data.band_244<data.band_243)+(data.band_244<data.band_245)+(data.band_244<data.band_246)))))+(data.band_245 * (2=((0.0+(data.band_245<data.band_242)+(data.band_245<data.band_243)+(data.band_245<data.band_244)+(data.band_245<data.band_246)))))+(data.band_246 * (2=((0.0+(data.band_246<data.band_242)+(data.band_246<data.band_243)+(data.band_246<data.band_244)+(data.band_246<data.band_245)))))) / ((0.3 * ((data.band_231 * (2=((0.0+(data.band_231<data.band_232)+(data.band_231<data.band_233)+(data.band_231<data.band_234)+(data.band_231<data.band_235)))))+(data.band_232 * (2=((0.0+(data.band_232<data.band_231)+(data.band_232<data.band_233)+(data.band_232<data.band_234)+(data.band_232<data.band_235)))))+(data.band_233 * (2=((0.0+(data.band_233<data.band_231)+(data.band_233<data.band_232)+(data.band_233<data.band_234)+(data.band_233<data.band_235)))))+(data.band_234 * (2=((0.0+(data.band_234<data.band_231)+(data.band_234<data.band_232)+(data.band_234<data.band_233)+(data.band_234<data.band_235)))))+(data.band_235 * (2=((0.0+(data.band_235<data.band_231)+(data.band_235<data.band_232)+(data.band_235<data.band_233)+(data.band_235<data.band_234))))))) + (0.7 * ((data.band_246 * (2=((0.0+(data.band_246<data.band_247)+(data.band_246<data.band_248)+(data.band_246<data.band_249)+(data.band_246<data.band_250)))))+(data.band_247 * (2=((0.0+(data.band_247<data.band_246)+(data.band_247<data.band_248)+(data.band_247<data.band_249)+(data.band_247<data.band_250)))))+(data.band_248 * (2=((0.0+(data.band_248<data.band_246)+(data.band_248<data.band_247)+(data.band_248<data.band_249)+(data.band_248<data.band_250)))))+(data.band_249 * (2=((0.0+(data.band_249<data.band_246)+(data.band_249<data.band_247)+(data.band_249<data.band_248)+(data.band_249<data.band_250)))))+(data.band_250 * (2=((0.0+(data.band_250<data.band_246)+(data.band_250<data.band_247)+(data.band_250<data.band_248)+(data.band_250<data.band_249)))))))))) * (((data.band_242!=65535) * (data.band_243!=65535) * (data.band_244!=65535) * (data.band_245!=65535) * (data.band_246!=65535))*((data.band_231!=65535) * (data.band_232!=65535) * (data.band_233!=65535) * (data.band_234!=65535) * (data.band_235!=65535))*((data.band_246!=65535) * (data.band_247!=65535) * (data.band_248!=65535) * (data.band_249!=65535) * (data.band_250!=65535)))) + (( 1 - (((data.band_242!=65535) * (data.band_243!=65535) * (data.band_244!=65535) * (data.band_245!=65535) * (data.band_246!=65535))*((data.band_231!=65535) * (data.band_232!=65535) * (data.band_233!=65535) * (data.band_234!=65535) * (data.band_235!=65535))*((data.band_246!=65535) * (data.band_247!=65535) * (data.band_248!=65535) * (data.band_249!=65535) * (data.band_250!=65535)))) * 65535)) - min((((1 - (((data.band_242 * (2=((0.0+(data.band_242<data.band_243)+(data.band_242<data.band_244)+(data.band_242<data.band_245)+(data.band_242<data.band_246)))))+(data.band_243 * (2=((0.0+(data.band_243<data.band_242)+(data.band_243<data.band_244)+(data.band_243<data.band_245)+(data.band_243<data.band_246)))))+(data.band_244 * (2=((0.0+(data.band_244<data.band_242)+(data.band_244<data.band_243)+(data.band_244<data.band_245)+(data.band_244<data.band_246)))))+(data.band_245 * (2=((0.0+(data.band_245<data.band_242)+(data.band_245<data.band_243)+(data.band_245<data.band_244)+(data.band_245<data.band_246)))))+(data.band_246 * (2=((0.0+(data.band_246<data.band_242)+(data.band_246<data.band_243)+(data.band_246<data.band_244)+(data.band_246<data.band_245)))))) / ((0.3 * ((data.band_231 * (2=((0.0+(data.band_231<data.band_232)+(data.band_231<data.band_233)+(data.band_231<data.band_234)+(data.band_231<data.band_235)))))+(data.band_232 * (2=((0.0+(data.band_232<data.band_231)+(data.band_232<data.band_233)+(data.band_232<data.band_234)+(data.band_232<data.band_235)))))+(data.band_233 * (2=((0.0+(data.band_233<data.band_231)+(data.band_233<data.band_232)+(data.band_233<data.band_234)+(data.band_233<data.band_235)))))+(data.band_234 * (2=((0.0+(data.band_234<data.band_231)+(data.band_234<data.band_232)+(data.band_234<data.band_233)+(data.band_234<data.band_235)))))+(data.band_235 * (2=((0.0+(data.band_235<data.band_231)+(data.band_235<data.band_232)+(data.band_235<data.band_233)+(data.band_235<data.band_234))))))) + (0.7 * ((data.band_246 * (2=((0.0+(data.band_246<data.band_247)+(data.band_246<data.band_248)+(data.band_246<data.band_249)+(data.band_246<data.band_250)))))+(data.band_247 * (2=((0.0+(data.band_247<data.band_246)+(data.band_247<data.band_248)+(data.band_247<data.band_249)+(data.band_247<data.band_250)))))+(data.band_248 * (2=((0.0+(data.band_248<data.band_246)+(data.band_248<data.band_247)+(data.band_248<data.band_249)+(data.band_248<data.band_250)))))+(data.band_249 * (2=((0.0+(data.band_249<data.band_246)+(data.band_249<data.band_247)+(data.band_249<data.band_248)+(data.band_249<data.band_250)))))+(data.band_250 * (2=((0.0+(data.band_250<data.band_246)+(data.band_250<data.band_247)+(data.band_250<data.band_248)+(data.band_250<data.band_249)))))))))) * (((data.band_242!=65535) * (data.band_243!=65535) * (data.band_244!=65535) * (data.band_245!=65535) * (data.band_246!=65535))*((data.band_231!=65535) * (data.band_232!=65535) * (data.band_233!=65535) * (data.band_234!=65535) * (data.band_235!=65535))*((data.band_246!=65535) * (data.band_247!=65535) * (data.band_248!=65535) * (data.band_249!=65535) * (data.band_250!=65535)))) + (( 1 - (((data.band_242!=65535) * (data.band_243!=65535) * (data.band_244!=65535) * (data.band_245!=65535) * (data.band_246!=65535))*((data.band_231!=65535) * (data.band_232!=65535) * (data.band_233!=65535) * (data.band_234!=65535) * (data.band_235!=65535))*((data.band_246!=65535) * (data.band_247!=65535) * (data.band_248!=65535) * (data.band_249!=65535) * (data.band_250!=65535)))) * 65535)))) * (((data.band_242!=65535) * (data.band_243!=65535) * (data.band_244!=65535) * (data.band_245!=65535) * (data.band_246!=65535))*((data.band_231!=65535) * (data.band_232!=65535) * (data.band_233!=65535) * (data.band_234!=65535) * (data.band_235!=65535))*((data.band_246!=65535) * (data.band_247!=65535) * (data.band_248!=65535) * (data.band_249!=65535) * (data.band_250!=65535)))))), \"tif\",\"nodata=null\");\n",
      "http://access.planetserver.eu:8080/rasdaman/ows?service=WCS&version=2.0.1&request=ProcessCoverages&query=for data in ( frt0000b385_07_if164l_trr3 ) return  encode((float) (1 - (((data.band_242 * (2=((0.0+(data.band_242<data.band_243)+(data.band_242<data.band_244)+(data.band_242<data.band_245)+(data.band_242<data.band_246)))))+(data.band_243 * (2=((0.0+(data.band_243<data.band_242)+(data.band_243<data.band_244)+(data.band_243<data.band_245)+(data.band_243<data.band_246)))))+(data.band_244 * (2=((0.0+(data.band_244<data.band_242)+(data.band_244<data.band_243)+(data.band_244<data.band_245)+(data.band_244<data.band_246)))))+(data.band_245 * (2=((0.0+(data.band_245<data.band_242)+(data.band_245<data.band_243)+(data.band_245<data.band_244)+(data.band_245<data.band_246)))))+(data.band_246 * (2=((0.0+(data.band_246<data.band_242)+(data.band_246<data.band_243)+(data.band_246<data.band_244)+(data.band_246<data.band_245)))))) / ((0.3 * ((data.band_231 * (2=((0.0+(data.band_231<data.band_232)+(data.band_231<data.band_233)+(data.band_231<data.band_234)+(data.band_231<data.band_235)))))+(data.band_232 * (2=((0.0+(data.band_232<data.band_231)+(data.band_232<data.band_233)+(data.band_232<data.band_234)+(data.band_232<data.band_235)))))+(data.band_233 * (2=((0.0+(data.band_233<data.band_231)+(data.band_233<data.band_232)+(data.band_233<data.band_234)+(data.band_233<data.band_235)))))+(data.band_234 * (2=((0.0+(data.band_234<data.band_231)+(data.band_234<data.band_232)+(data.band_234<data.band_233)+(data.band_234<data.band_235)))))+(data.band_235 * (2=((0.0+(data.band_235<data.band_231)+(data.band_235<data.band_232)+(data.band_235<data.band_233)+(data.band_235<data.band_234))))))) + (0.7 * ((data.band_246 * (2=((0.0+(data.band_246<data.band_247)+(data.band_246<data.band_248)+(data.band_246<data.band_249)+(data.band_246<data.band_250)))))+(data.band_247 * (2=((0.0+(data.band_247<data.band_246)+(data.band_247<data.band_248)+(data.band_247<data.band_249)+(data.band_247<data.band_250)))))+(data.band_248 * (2=((0.0+(data.band_248<data.band_246)+(data.band_248<data.band_247)+(data.band_248<data.band_249)+(data.band_248<data.band_250)))))+(data.band_249 * (2=((0.0+(data.band_249<data.band_246)+(data.band_249<data.band_247)+(data.band_249<data.band_248)+(data.band_249<data.band_250)))))+(data.band_250 * (2=((0.0+(data.band_250<data.band_246)+(data.band_250<data.band_247)+(data.band_250<data.band_248)+(data.band_250<data.band_249))))))))))*(((data.band_242!=65535) * (data.band_243!=65535) * (data.band_244!=65535) * (data.band_245!=65535) * (data.band_246!=65535))*((data.band_231!=65535) * (data.band_232!=65535) * (data.band_233!=65535) * (data.band_234!=65535) * (data.band_235!=65535))*((data.band_246!=65535) * (data.band_247!=65535) * (data.band_248!=65535) * (data.band_249!=65535) * (data.band_250!=65535))), \"tif\",\"nodata=null\");\n",
      "http://access.planetserver.eu:8080/rasdaman/ows?service=WCS&version=2.0.1&request=ProcessCoverages&query=for data in ( frt0000b385_07_if164l_trr3 ) return  encode((float) (1 - (data.band_244 / ((0.3 * data.band_233) + (0.7 * data.band_248))))*((data.band_244!=65535) * (data.band_233!=65535) * (data.band_248!=65535)), \"tif\",\"nodata=null\");\n",
      "http://access.planetserver.eu:8080/rasdaman/ows?service=WCS&version=2.0.1&request=ProcessCoverages&query=for data in ( frt0000b385_07_if164l_trr3 ) return  encode((float) (1 - (((data.band_357 * (2=((0.0+(data.band_357<data.band_358)+(data.band_357<data.band_359)+(data.band_357<data.band_360)+(data.band_357<data.band_361)))))+(data.band_358 * (2=((0.0+(data.band_358<data.band_357)+(data.band_358<data.band_359)+(data.band_358<data.band_360)+(data.band_358<data.band_361)))))+(data.band_359 * (2=((0.0+(data.band_359<data.band_357)+(data.band_359<data.band_358)+(data.band_359<data.band_360)+(data.band_359<data.band_361)))))+(data.band_360 * (2=((0.0+(data.band_360<data.band_357)+(data.band_360<data.band_358)+(data.band_360<data.band_359)+(data.band_360<data.band_361)))))+(data.band_361 * (2=((0.0+(data.band_361<data.band_357)+(data.band_361<data.band_358)+(data.band_361<data.band_359)+(data.band_361<data.band_360)))))) / ((0.552631578947 * ((data.band_332 * (2=((0.0+(data.band_332<data.band_333)+(data.band_332<data.band_334)+(data.band_332<data.band_335)+(data.band_332<data.band_336)))))+(data.band_333 * (2=((0.0+(data.band_333<data.band_332)+(data.band_333<data.band_334)+(data.band_333<data.band_335)+(data.band_333<data.band_336)))))+(data.band_334 * (2=((0.0+(data.band_334<data.band_332)+(data.band_334<data.band_333)+(data.band_334<data.band_335)+(data.band_334<data.band_336)))))+(data.band_335 * (2=((0.0+(data.band_335<data.band_332)+(data.band_335<data.band_333)+(data.band_335<data.band_334)+(data.band_335<data.band_336)))))+(data.band_336 * (2=((0.0+(data.band_336<data.band_332)+(data.band_336<data.band_333)+(data.band_336<data.band_334)+(data.band_336<data.band_335))))))) + (0.447368421053 * ((data.band_389 * (2=((0.0+(data.band_389<data.band_390)+(data.band_389<data.band_391)+(data.band_389<data.band_392)+(data.band_389<data.band_393)))))+(data.band_390 * (2=((0.0+(data.band_390<data.band_389)+(data.band_390<data.band_391)+(data.band_390<data.band_392)+(data.band_390<data.band_393)))))+(data.band_391 * (2=((0.0+(data.band_391<data.band_389)+(data.band_391<data.band_390)+(data.band_391<data.band_392)+(data.band_391<data.band_393)))))+(data.band_392 * (2=((0.0+(data.band_392<data.band_389)+(data.band_392<data.band_390)+(data.band_392<data.band_391)+(data.band_392<data.band_393)))))+(data.band_393 * (2=((0.0+(data.band_393<data.band_389)+(data.band_393<data.band_390)+(data.band_393<data.band_391)+(data.band_393<data.band_392)))))))))), \"tif\",\"nodata=null\");\n",
      "http://access.planetserver.eu:8080/rasdaman/ows?service=WCS&version=2.0.1&request=ProcessCoverages&query=for data in ( frt0000b385_07_if164l_trr3 ) return  encode((float) ((0.552631578947 * ((data.band_332 * (2=((0.0+(data.band_332<data.band_333)+(data.band_332<data.band_334)+(data.band_332<data.band_335)+(data.band_332<data.band_336)))))+(data.band_333 * (2=((0.0+(data.band_333<data.band_332)+(data.band_333<data.band_334)+(data.band_333<data.band_335)+(data.band_333<data.band_336)))))+(data.band_334 * (2=((0.0+(data.band_334<data.band_332)+(data.band_334<data.band_333)+(data.band_334<data.band_335)+(data.band_334<data.band_336)))))+(data.band_335 * (2=((0.0+(data.band_335<data.band_332)+(data.band_335<data.band_333)+(data.band_335<data.band_334)+(data.band_335<data.band_336)))))+(data.band_336 * (2=((0.0+(data.band_336<data.band_332)+(data.band_336<data.band_333)+(data.band_336<data.band_334)+(data.band_336<data.band_335))))))) + (0.447368421053 * ((data.band_389 * (2=((0.0+(data.band_389<data.band_390)+(data.band_389<data.band_391)+(data.band_389<data.band_392)+(data.band_389<data.band_393)))))+(data.band_390 * (2=((0.0+(data.band_390<data.band_389)+(data.band_390<data.band_391)+(data.band_390<data.band_392)+(data.band_390<data.band_393)))))+(data.band_391 * (2=((0.0+(data.band_391<data.band_389)+(data.band_391<data.band_390)+(data.band_391<data.band_392)+(data.band_391<data.band_393)))))+(data.band_392 * (2=((0.0+(data.band_392<data.band_389)+(data.band_392<data.band_390)+(data.band_392<data.band_391)+(data.band_392<data.band_393)))))+(data.band_393 * (2=((0.0+(data.band_393<data.band_389)+(data.band_393<data.band_390)+(data.band_393<data.band_391)+(data.band_393<data.band_392)))))))), \"tif\",\"nodata=null\");\n",
      "http://access.planetserver.eu:8080/rasdaman/ows?service=WCS&version=2.0.1&request=ProcessCoverages&query=for data in ( frt0000b385_07_if164l_trr3 ) return  encode((float) (((data.band_357 * (2=((0.0+(data.band_357<data.band_358)+(data.band_357<data.band_359)+(data.band_357<data.band_360)+(data.band_357<data.band_361)))))+(data.band_358 * (2=((0.0+(data.band_358<data.band_357)+(data.band_358<data.band_359)+(data.band_358<data.band_360)+(data.band_358<data.band_361)))))+(data.band_359 * (2=((0.0+(data.band_359<data.band_357)+(data.band_359<data.band_358)+(data.band_359<data.band_360)+(data.band_359<data.band_361)))))+(data.band_360 * (2=((0.0+(data.band_360<data.band_357)+(data.band_360<data.band_358)+(data.band_360<data.band_359)+(data.band_360<data.band_361)))))+(data.band_361 * (2=((0.0+(data.band_361<data.band_357)+(data.band_361<data.band_358)+(data.band_361<data.band_359)+(data.band_361<data.band_360)))))) / ((0.552631578947 * ((data.band_332 * (2=((0.0+(data.band_332<data.band_333)+(data.band_332<data.band_334)+(data.band_332<data.band_335)+(data.band_332<data.band_336)))))+(data.band_333 * (2=((0.0+(data.band_333<data.band_332)+(data.band_333<data.band_334)+(data.band_333<data.band_335)+(data.band_333<data.band_336)))))+(data.band_334 * (2=((0.0+(data.band_334<data.band_332)+(data.band_334<data.band_333)+(data.band_334<data.band_335)+(data.band_334<data.band_336)))))+(data.band_335 * (2=((0.0+(data.band_335<data.band_332)+(data.band_335<data.band_333)+(data.band_335<data.band_334)+(data.band_335<data.band_336)))))+(data.band_336 * (2=((0.0+(data.band_336<data.band_332)+(data.band_336<data.band_333)+(data.band_336<data.band_334)+(data.band_336<data.band_335))))))) + (0.447368421053 * ((data.band_389 * (2=((0.0+(data.band_389<data.band_390)+(data.band_389<data.band_391)+(data.band_389<data.band_392)+(data.band_389<data.band_393)))))+(data.band_390 * (2=((0.0+(data.band_390<data.band_389)+(data.band_390<data.band_391)+(data.band_390<data.band_392)+(data.band_390<data.band_393)))))+(data.band_391 * (2=((0.0+(data.band_391<data.band_389)+(data.band_391<data.band_390)+(data.band_391<data.band_392)+(data.band_391<data.band_393)))))+(data.band_392 * (2=((0.0+(data.band_392<data.band_389)+(data.band_392<data.band_390)+(data.band_392<data.band_391)+(data.band_392<data.band_393)))))+(data.band_393 * (2=((0.0+(data.band_393<data.band_389)+(data.band_393<data.band_390)+(data.band_393<data.band_391)+(data.band_393<data.band_392))))))))), \"tif\",\"nodata=null\");\n"
     ]
    }
   ],
   "source": [
    "#Product #57: BD2600 (kernel width 5): 2600,2530,2630\n",
    "#H2O vapour (accounts for spectral slope\n",
    "\n",
    "print tql(f_encode( f_toEncodeBD3L(2600,2530,2630) , 'unsigned char', '\"jpg\"'))\n",
    "print tql(f_encode( f_toEncodeBD3L(2600,2530,2630) , 'float', '\"tif\"'))\n",
    "\n",
    "print tql(f_encode( f_toEncode(f_BandDepthLMed(2600,2530,2630), f_BandDepthLMedNN(2600,2530,2630) ), 'unsigned char', '\"jpg\"'))\n",
    "print tql(f_encode( f_toEncode(f_BandDepthLMed(2600,2530,2630), f_BandDepthLMedNN(2600,2530,2630) ), 'float', '\"tif\"'))\n",
    "print tql(f_encode( f_BandDepthLMed(2600,2530,2630)+'*'+f_BandDepthLMedNN(2600,2530,2630), 'float', '\"tif\"'))\n",
    "print tql(f_encode( f_BandDepthL(2600,2530,2630)+'*'+f_indexNN([2600,2530,2630]), 'float', '\"tif\"'))\n",
    "\n",
    "print tql(f_encode(f_BandDepthLMed(3420,3250,3630) , 'float', '\"tif\"'))\n",
    "\n",
    "\n",
    "\n",
    "print tql(f_encode( f_BandDepthRcLMed(3420,3250,3630) , 'float', '\"tif\"'))\n",
    "\n",
    "print tql(f_encode( f_BandDepthInvLMed(3420,3250,3630) , 'float', '\"tif\"'))"
   ]
  },
  {
   "cell_type": "code",
   "execution_count": 106,
   "metadata": {
    "collapsed": false
   },
   "outputs": [
    {
     "name": "stdout",
     "output_type": "stream",
     "text": [
      "http://access.planetserver.eu:8080/rasdaman/ows?service=WCS&version=2.0.1&request=ProcessCoverages&query=for data in ( frt0000b385_07_if164l_trr3 ) return  encode((float) (((data.band_231 * (2=((0.0+(data.band_231<data.band_232)+(data.band_231<data.band_233)+(data.band_231<data.band_234)+(data.band_231<data.band_235)))))+(data.band_232 * (2=((0.0+(data.band_232<data.band_231)+(data.band_232<data.band_233)+(data.band_232<data.band_234)+(data.band_232<data.band_235)))))+(data.band_233 * (2=((0.0+(data.band_233<data.band_231)+(data.band_233<data.band_232)+(data.band_233<data.band_234)+(data.band_233<data.band_235)))))+(data.band_234 * (2=((0.0+(data.band_234<data.band_231)+(data.band_234<data.band_232)+(data.band_234<data.band_233)+(data.band_234<data.band_235)))))+(data.band_235 * (2=((0.0+(data.band_235<data.band_231)+(data.band_235<data.band_232)+(data.band_235<data.band_233)+(data.band_235<data.band_234))))))/((data.band_183 * (2=((0.0+(data.band_183<data.band_184)+(data.band_183<data.band_185)+(data.band_183<data.band_186)+(data.band_183<data.band_187)))))+(data.band_184 * (2=((0.0+(data.band_184<data.band_183)+(data.band_184<data.band_185)+(data.band_184<data.band_186)+(data.band_184<data.band_187)))))+(data.band_185 * (2=((0.0+(data.band_185<data.band_183)+(data.band_185<data.band_184)+(data.band_185<data.band_186)+(data.band_185<data.band_187)))))+(data.band_186 * (2=((0.0+(data.band_186<data.band_183)+(data.band_186<data.band_184)+(data.band_186<data.band_185)+(data.band_186<data.band_187)))))+(data.band_187 * (2=((0.0+(data.band_187<data.band_183)+(data.band_187<data.band_184)+(data.band_187<data.band_185)+(data.band_187<data.band_186)))))))*((data.band_231!=65535) * (data.band_232!=65535) * (data.band_233!=65535) * (data.band_234!=65535) * (data.band_235!=65535))*((data.band_183!=65535) * (data.band_184!=65535) * (data.band_185!=65535) * (data.band_186!=65535) * (data.band_187!=65535)), \"tif\",\"nodata=null\");\n"
     ]
    }
   ],
   "source": [
    "#Product #58: IR ratio 2: R2530 / R2210 (kernel width 5)\n",
    "#Aphelion ice clouds versus seasonal or dust\n",
    "print tql(f_encode( '('+f_med5l(2530)+'/'+f_med5l(2210)+')*' + f_med5lNN(2530)+'*'+f_med5lNN(2210), 'float', '\"tif\"'))"
   ]
  },
  {
   "cell_type": "code",
   "execution_count": 107,
   "metadata": {
    "collapsed": false
   },
   "outputs": [
    {
     "name": "stdout",
     "output_type": "stream",
     "text": [
      "http://access.planetserver.eu:8080/rasdaman/ows?service=WCS&version=2.0.1&request=ProcessCoverages&query=for data in ( frt0000b385_07_if164l_trr3 ) return  encode((float) (((data.band_369 * (2=((0.0+(data.band_369<data.band_370)+(data.band_369<data.band_371)+(data.band_369<data.band_372)+(data.band_369<data.band_373)))))+(data.band_370 * (2=((0.0+(data.band_370<data.band_369)+(data.band_370<data.band_371)+(data.band_370<data.band_372)+(data.band_370<data.band_373)))))+(data.band_371 * (2=((0.0+(data.band_371<data.band_369)+(data.band_371<data.band_370)+(data.band_371<data.band_372)+(data.band_371<data.band_373)))))+(data.band_372 * (2=((0.0+(data.band_372<data.band_369)+(data.band_372<data.band_370)+(data.band_372<data.band_371)+(data.band_372<data.band_373)))))+(data.band_373 * (2=((0.0+(data.band_373<data.band_369)+(data.band_373<data.band_370)+(data.band_373<data.band_371)+(data.band_373<data.band_372))))))/((data.band_353 * (2=((0.0+(data.band_353<data.band_354)+(data.band_353<data.band_355)+(data.band_353<data.band_356)+(data.band_353<data.band_357)))))+(data.band_354 * (2=((0.0+(data.band_354<data.band_353)+(data.band_354<data.band_355)+(data.band_354<data.band_356)+(data.band_354<data.band_357)))))+(data.band_355 * (2=((0.0+(data.band_355<data.band_353)+(data.band_355<data.band_354)+(data.band_355<data.band_356)+(data.band_355<data.band_357)))))+(data.band_356 * (2=((0.0+(data.band_356<data.band_353)+(data.band_356<data.band_354)+(data.band_356<data.band_355)+(data.band_356<data.band_357)))))+(data.band_357 * (2=((0.0+(data.band_357<data.band_353)+(data.band_357<data.band_354)+(data.band_357<data.band_355)+(data.band_357<data.band_356)))))))*((data.band_369!=65535) * (data.band_370!=65535) * (data.band_371!=65535) * (data.band_372!=65535) * (data.band_373!=65535))*((data.band_353!=65535) * (data.band_354!=65535) * (data.band_355!=65535) * (data.band_356!=65535) * (data.band_357!=65535)), \"tif\",\"nodata=null\");\n",
      "http://access.planetserver.eu:8080/rasdaman/ows?service=WCS&version=2.0.1&request=ProcessCoverages&query=for data in ( frt0000b385_07_if164l_trr3 ) return  encode((unsigned char) ((((((data.band_369 * (2=((0.0+(data.band_369<data.band_370)+(data.band_369<data.band_371)+(data.band_369<data.band_372)+(data.band_369<data.band_373)))))+(data.band_370 * (2=((0.0+(data.band_370<data.band_369)+(data.band_370<data.band_371)+(data.band_370<data.band_372)+(data.band_370<data.band_373)))))+(data.band_371 * (2=((0.0+(data.band_371<data.band_369)+(data.band_371<data.band_370)+(data.band_371<data.band_372)+(data.band_371<data.band_373)))))+(data.band_372 * (2=((0.0+(data.band_372<data.band_369)+(data.band_372<data.band_370)+(data.band_372<data.band_371)+(data.band_372<data.band_373)))))+(data.band_373 * (2=((0.0+(data.band_373<data.band_369)+(data.band_373<data.band_370)+(data.band_373<data.band_371)+(data.band_373<data.band_372))))))/((data.band_353 * (2=((0.0+(data.band_353<data.band_354)+(data.band_353<data.band_355)+(data.band_353<data.band_356)+(data.band_353<data.band_357)))))+(data.band_354 * (2=((0.0+(data.band_354<data.band_353)+(data.band_354<data.band_355)+(data.band_354<data.band_356)+(data.band_354<data.band_357)))))+(data.band_355 * (2=((0.0+(data.band_355<data.band_353)+(data.band_355<data.band_354)+(data.band_355<data.band_356)+(data.band_355<data.band_357)))))+(data.band_356 * (2=((0.0+(data.band_356<data.band_353)+(data.band_356<data.band_354)+(data.band_356<data.band_355)+(data.band_356<data.band_357)))))+(data.band_357 * (2=((0.0+(data.band_357<data.band_353)+(data.band_357<data.band_354)+(data.band_357<data.band_355)+(data.band_357<data.band_356)))))) * ((data.band_369!=65535) * (data.band_370!=65535) * (data.band_371!=65535) * (data.band_372!=65535) * (data.band_373!=65535))*((data.band_353!=65535) * (data.band_354!=65535) * (data.band_355!=65535) * (data.band_356!=65535) * (data.band_357!=65535))) + (( 1 - ((data.band_369!=65535) * (data.band_370!=65535) * (data.band_371!=65535) * (data.band_372!=65535) * (data.band_373!=65535))*((data.band_353!=65535) * (data.band_354!=65535) * (data.band_355!=65535) * (data.band_356!=65535) * (data.band_357!=65535))) * 65535)) - min(((((data.band_369 * (2=((0.0+(data.band_369<data.band_370)+(data.band_369<data.band_371)+(data.band_369<data.band_372)+(data.band_369<data.band_373)))))+(data.band_370 * (2=((0.0+(data.band_370<data.band_369)+(data.band_370<data.band_371)+(data.band_370<data.band_372)+(data.band_370<data.band_373)))))+(data.band_371 * (2=((0.0+(data.band_371<data.band_369)+(data.band_371<data.band_370)+(data.band_371<data.band_372)+(data.band_371<data.band_373)))))+(data.band_372 * (2=((0.0+(data.band_372<data.band_369)+(data.band_372<data.band_370)+(data.band_372<data.band_371)+(data.band_372<data.band_373)))))+(data.band_373 * (2=((0.0+(data.band_373<data.band_369)+(data.band_373<data.band_370)+(data.band_373<data.band_371)+(data.band_373<data.band_372))))))/((data.band_353 * (2=((0.0+(data.band_353<data.band_354)+(data.band_353<data.band_355)+(data.band_353<data.band_356)+(data.band_353<data.band_357)))))+(data.band_354 * (2=((0.0+(data.band_354<data.band_353)+(data.band_354<data.band_355)+(data.band_354<data.band_356)+(data.band_354<data.band_357)))))+(data.band_355 * (2=((0.0+(data.band_355<data.band_353)+(data.band_355<data.band_354)+(data.band_355<data.band_356)+(data.band_355<data.band_357)))))+(data.band_356 * (2=((0.0+(data.band_356<data.band_353)+(data.band_356<data.band_354)+(data.band_356<data.band_355)+(data.band_356<data.band_357)))))+(data.band_357 * (2=((0.0+(data.band_357<data.band_353)+(data.band_357<data.band_354)+(data.band_357<data.band_355)+(data.band_357<data.band_356)))))) * ((data.band_369!=65535) * (data.band_370!=65535) * (data.band_371!=65535) * (data.band_372!=65535) * (data.band_373!=65535))*((data.band_353!=65535) * (data.band_354!=65535) * (data.band_355!=65535) * (data.band_356!=65535) * (data.band_357!=65535))) + (( 1 - ((data.band_369!=65535) * (data.band_370!=65535) * (data.band_371!=65535) * (data.band_372!=65535) * (data.band_373!=65535))*((data.band_353!=65535) * (data.band_354!=65535) * (data.band_355!=65535) * (data.band_356!=65535) * (data.band_357!=65535))) * 65535)))) * ((data.band_369!=65535) * (data.band_370!=65535) * (data.band_371!=65535) * (data.band_372!=65535) * (data.band_373!=65535))*((data.band_353!=65535) * (data.band_354!=65535) * (data.band_355!=65535) * (data.band_356!=65535) * (data.band_357!=65535)) * (255 / max((((((data.band_369 * (2=((0.0+(data.band_369<data.band_370)+(data.band_369<data.band_371)+(data.band_369<data.band_372)+(data.band_369<data.band_373)))))+(data.band_370 * (2=((0.0+(data.band_370<data.band_369)+(data.band_370<data.band_371)+(data.band_370<data.band_372)+(data.band_370<data.band_373)))))+(data.band_371 * (2=((0.0+(data.band_371<data.band_369)+(data.band_371<data.band_370)+(data.band_371<data.band_372)+(data.band_371<data.band_373)))))+(data.band_372 * (2=((0.0+(data.band_372<data.band_369)+(data.band_372<data.band_370)+(data.band_372<data.band_371)+(data.band_372<data.band_373)))))+(data.band_373 * (2=((0.0+(data.band_373<data.band_369)+(data.band_373<data.band_370)+(data.band_373<data.band_371)+(data.band_373<data.band_372))))))/((data.band_353 * (2=((0.0+(data.band_353<data.band_354)+(data.band_353<data.band_355)+(data.band_353<data.band_356)+(data.band_353<data.band_357)))))+(data.band_354 * (2=((0.0+(data.band_354<data.band_353)+(data.band_354<data.band_355)+(data.band_354<data.band_356)+(data.band_354<data.band_357)))))+(data.band_355 * (2=((0.0+(data.band_355<data.band_353)+(data.band_355<data.band_354)+(data.band_355<data.band_356)+(data.band_355<data.band_357)))))+(data.band_356 * (2=((0.0+(data.band_356<data.band_353)+(data.band_356<data.band_354)+(data.band_356<data.band_355)+(data.band_356<data.band_357)))))+(data.band_357 * (2=((0.0+(data.band_357<data.band_353)+(data.band_357<data.band_354)+(data.band_357<data.band_355)+(data.band_357<data.band_356)))))) * ((data.band_369!=65535) * (data.band_370!=65535) * (data.band_371!=65535) * (data.band_372!=65535) * (data.band_373!=65535))*((data.band_353!=65535) * (data.band_354!=65535) * (data.band_355!=65535) * (data.band_356!=65535) * (data.band_357!=65535))) + (( 1 - ((data.band_369!=65535) * (data.band_370!=65535) * (data.band_371!=65535) * (data.band_372!=65535) * (data.band_373!=65535))*((data.band_353!=65535) * (data.band_354!=65535) * (data.band_355!=65535) * (data.band_356!=65535) * (data.band_357!=65535))) * 65535)) - min(((((data.band_369 * (2=((0.0+(data.band_369<data.band_370)+(data.band_369<data.band_371)+(data.band_369<data.band_372)+(data.band_369<data.band_373)))))+(data.band_370 * (2=((0.0+(data.band_370<data.band_369)+(data.band_370<data.band_371)+(data.band_370<data.band_372)+(data.band_370<data.band_373)))))+(data.band_371 * (2=((0.0+(data.band_371<data.band_369)+(data.band_371<data.band_370)+(data.band_371<data.band_372)+(data.band_371<data.band_373)))))+(data.band_372 * (2=((0.0+(data.band_372<data.band_369)+(data.band_372<data.band_370)+(data.band_372<data.band_371)+(data.band_372<data.band_373)))))+(data.band_373 * (2=((0.0+(data.band_373<data.band_369)+(data.band_373<data.band_370)+(data.band_373<data.band_371)+(data.band_373<data.band_372))))))/((data.band_353 * (2=((0.0+(data.band_353<data.band_354)+(data.band_353<data.band_355)+(data.band_353<data.band_356)+(data.band_353<data.band_357)))))+(data.band_354 * (2=((0.0+(data.band_354<data.band_353)+(data.band_354<data.band_355)+(data.band_354<data.band_356)+(data.band_354<data.band_357)))))+(data.band_355 * (2=((0.0+(data.band_355<data.band_353)+(data.band_355<data.band_354)+(data.band_355<data.band_356)+(data.band_355<data.band_357)))))+(data.band_356 * (2=((0.0+(data.band_356<data.band_353)+(data.band_356<data.band_354)+(data.band_356<data.band_355)+(data.band_356<data.band_357)))))+(data.band_357 * (2=((0.0+(data.band_357<data.band_353)+(data.band_357<data.band_354)+(data.band_357<data.band_355)+(data.band_357<data.band_356)))))) * ((data.band_369!=65535) * (data.band_370!=65535) * (data.band_371!=65535) * (data.band_372!=65535) * (data.band_373!=65535))*((data.band_353!=65535) * (data.band_354!=65535) * (data.band_355!=65535) * (data.band_356!=65535) * (data.band_357!=65535))) + (( 1 - ((data.band_369!=65535) * (data.band_370!=65535) * (data.band_371!=65535) * (data.band_372!=65535) * (data.band_373!=65535))*((data.band_353!=65535) * (data.band_354!=65535) * (data.band_355!=65535) * (data.band_356!=65535) * (data.band_357!=65535))) * 65535)))) * ((data.band_369!=65535) * (data.band_370!=65535) * (data.band_371!=65535) * (data.band_372!=65535) * (data.band_373!=65535))*((data.band_353!=65535) * (data.band_354!=65535) * (data.band_355!=65535) * (data.band_356!=65535) * (data.band_357!=65535))))), \"jpg\",\"nodata=null\");\n"
     ]
    }
   ],
   "source": [
    "#Product #59: IR ratio 3: R3500 / R3390 (kernel width 5)\n",
    "#Aphelion ice clouds (higher values) versus seasonal or dust\n",
    "print tql(f_encode( '('+f_med5l(3500)+'/'+f_med5l(3390)+')*' + f_med5lNN(3500)+'*'+f_med5lNN(3390), 'float', '\"tif\"'))\n",
    "print tql(f_encode( f_toEncode(f_med5l(3500)+'/'+f_med5l(3390), f_med5lNN(3500)+'*'+f_med5lNN(3390)), 'unsigned char', '\"jpg\"'))\n"
   ]
  },
  {
   "cell_type": "code",
   "execution_count": 108,
   "metadata": {
    "collapsed": false
   },
   "outputs": [
    {
     "name": "stdout",
     "output_type": "stream",
     "text": [
      "http://access.planetserver.eu:8080/rasdaman/ows?service=WCS&version=2.0.1&request=ProcessCoverages&query=for data in ( frt0000b385_07_if164l_trr3 ) return  encode((float) ((data.band_433 * (2=((0.0+(data.band_433<data.band_433)+(data.band_433<data.band_434)+(data.band_433<data.band_436)+(data.band_433<data.band_436)))))+(data.band_433 * (2=((0.0+(data.band_433<data.band_433)+(data.band_433<data.band_434)+(data.band_433<data.band_436)+(data.band_433<data.band_436)))))+(data.band_434 * (2=((0.0+(data.band_434<data.band_433)+(data.band_434<data.band_433)+(data.band_434<data.band_436)+(data.band_434<data.band_436)))))+(data.band_436 * (2=((0.0+(data.band_436<data.band_433)+(data.band_436<data.band_433)+(data.band_436<data.band_434)+(data.band_436<data.band_436)))))+(data.band_436 * (2=((0.0+(data.band_436<data.band_433)+(data.band_436<data.band_433)+(data.band_436<data.band_434)+(data.band_436<data.band_436))))))*((data.band_433!=65535) * (data.band_433!=65535) * (data.band_434!=65535) * (data.band_436!=65535) * (data.band_436!=65535)), \"tif\",\"nodata=null\");\n",
      "http://access.planetserver.eu:8080/rasdaman/ows?service=WCS&version=2.0.1&request=ProcessCoverages&query=for data in ( frt0000b385_07_if164l_trr3 ) return  encode((float) ((data.band_433 * (2=((0.0+(data.band_433<data.band_433)+(data.band_433<data.band_434)+(data.band_433<data.band_436)+(data.band_433<data.band_436)))))+(data.band_433 * (2=((0.0+(data.band_433<data.band_433)+(data.band_433<data.band_434)+(data.band_433<data.band_436)+(data.band_433<data.band_436)))))+(data.band_434 * (2=((0.0+(data.band_434<data.band_433)+(data.band_434<data.band_433)+(data.band_434<data.band_436)+(data.band_434<data.band_436)))))+(data.band_436 * (2=((0.0+(data.band_436<data.band_433)+(data.band_436<data.band_433)+(data.band_436<data.band_434)+(data.band_436<data.band_436)))))+(data.band_436 * (2=((0.0+(data.band_436<data.band_433)+(data.band_436<data.band_433)+(data.band_436<data.band_434)+(data.band_436<data.band_436))))))*((data.band_433!=65535) * (data.band_433!=65535) * (data.band_434!=65535) * (data.band_436!=65535) * (data.band_436!=65535)), \"tif\",\"nodata=null\");\n",
      "http://access.planetserver.eu:8080/rasdaman/ows?service=WCS&version=2.0.1&request=ProcessCoverages&query=for data in ( frt0000b385_07_if164l_trr3 ) return  encode((unsigned char) ((data.band_434 - min(data.band_434)) * (data.band_434!=65535) * (255 / max((data.band_434 - min(data.band_434)) * (data.band_434!=65535)))), \"jpg\",\"nodata=null\");\n",
      "http://access.planetserver.eu:8080/rasdaman/ows?service=WCS&version=2.0.1&request=ProcessCoverages&query=for data in ( frt0000b385_07_if164l_trr3 ) return  encode((unsigned char) ((((((data.band_231 * (2=((0.0+(data.band_231<data.band_232)+(data.band_231<data.band_233)+(data.band_231<data.band_234)+(data.band_231<data.band_235)))))+(data.band_232 * (2=((0.0+(data.band_232<data.band_231)+(data.band_232<data.band_233)+(data.band_232<data.band_234)+(data.band_232<data.band_235)))))+(data.band_233 * (2=((0.0+(data.band_233<data.band_231)+(data.band_233<data.band_232)+(data.band_233<data.band_234)+(data.band_233<data.band_235)))))+(data.band_234 * (2=((0.0+(data.band_234<data.band_231)+(data.band_234<data.band_232)+(data.band_234<data.band_233)+(data.band_234<data.band_235)))))+(data.band_235 * (2=((0.0+(data.band_235<data.band_231)+(data.band_235<data.band_232)+(data.band_235<data.band_233)+(data.band_235<data.band_234)))))) * ((data.band_231!=65535) * (data.band_232!=65535) * (data.band_233!=65535) * (data.band_234!=65535) * (data.band_235!=65535))) + (( 1 - ((data.band_231!=65535) * (data.band_232!=65535) * (data.band_233!=65535) * (data.band_234!=65535) * (data.band_235!=65535))) * 65535)) - min(((((data.band_231 * (2=((0.0+(data.band_231<data.band_232)+(data.band_231<data.band_233)+(data.band_231<data.band_234)+(data.band_231<data.band_235)))))+(data.band_232 * (2=((0.0+(data.band_232<data.band_231)+(data.band_232<data.band_233)+(data.band_232<data.band_234)+(data.band_232<data.band_235)))))+(data.band_233 * (2=((0.0+(data.band_233<data.band_231)+(data.band_233<data.band_232)+(data.band_233<data.band_234)+(data.band_233<data.band_235)))))+(data.band_234 * (2=((0.0+(data.band_234<data.band_231)+(data.band_234<data.band_232)+(data.band_234<data.band_233)+(data.band_234<data.band_235)))))+(data.band_235 * (2=((0.0+(data.band_235<data.band_231)+(data.band_235<data.band_232)+(data.band_235<data.band_233)+(data.band_235<data.band_234)))))) * ((data.band_231!=65535) * (data.band_232!=65535) * (data.band_233!=65535) * (data.band_234!=65535) * (data.band_235!=65535))) + (( 1 - ((data.band_231!=65535) * (data.band_232!=65535) * (data.band_233!=65535) * (data.band_234!=65535) * (data.band_235!=65535))) * 65535)))) * ((data.band_231!=65535) * (data.band_232!=65535) * (data.band_233!=65535) * (data.band_234!=65535) * (data.band_235!=65535)) * (255 / max((((((data.band_231 * (2=((0.0+(data.band_231<data.band_232)+(data.band_231<data.band_233)+(data.band_231<data.band_234)+(data.band_231<data.band_235)))))+(data.band_232 * (2=((0.0+(data.band_232<data.band_231)+(data.band_232<data.band_233)+(data.band_232<data.band_234)+(data.band_232<data.band_235)))))+(data.band_233 * (2=((0.0+(data.band_233<data.band_231)+(data.band_233<data.band_232)+(data.band_233<data.band_234)+(data.band_233<data.band_235)))))+(data.band_234 * (2=((0.0+(data.band_234<data.band_231)+(data.band_234<data.band_232)+(data.band_234<data.band_233)+(data.band_234<data.band_235)))))+(data.band_235 * (2=((0.0+(data.band_235<data.band_231)+(data.band_235<data.band_232)+(data.band_235<data.band_233)+(data.band_235<data.band_234)))))) * ((data.band_231!=65535) * (data.band_232!=65535) * (data.band_233!=65535) * (data.band_234!=65535) * (data.band_235!=65535))) + (( 1 - ((data.band_231!=65535) * (data.band_232!=65535) * (data.band_233!=65535) * (data.band_234!=65535) * (data.band_235!=65535))) * 65535)) - min(((((data.band_231 * (2=((0.0+(data.band_231<data.band_232)+(data.band_231<data.band_233)+(data.band_231<data.band_234)+(data.band_231<data.band_235)))))+(data.band_232 * (2=((0.0+(data.band_232<data.band_231)+(data.band_232<data.band_233)+(data.band_232<data.band_234)+(data.band_232<data.band_235)))))+(data.band_233 * (2=((0.0+(data.band_233<data.band_231)+(data.band_233<data.band_232)+(data.band_233<data.band_234)+(data.band_233<data.band_235)))))+(data.band_234 * (2=((0.0+(data.band_234<data.band_231)+(data.band_234<data.band_232)+(data.band_234<data.band_233)+(data.band_234<data.band_235)))))+(data.band_235 * (2=((0.0+(data.band_235<data.band_231)+(data.band_235<data.band_232)+(data.band_235<data.band_233)+(data.band_235<data.band_234)))))) * ((data.band_231!=65535) * (data.band_232!=65535) * (data.band_233!=65535) * (data.band_234!=65535) * (data.band_235!=65535))) + (( 1 - ((data.band_231!=65535) * (data.band_232!=65535) * (data.band_233!=65535) * (data.band_234!=65535) * (data.band_235!=65535))) * 65535)))) * ((data.band_231!=65535) * (data.band_232!=65535) * (data.band_233!=65535) * (data.band_234!=65535) * (data.band_235!=65535))))), \"jpg\",\"nodata=null\");\n"
     ]
    }
   ],
   "source": [
    "#Product #60: R3920 (kernel width 5) \n",
    "#IC2 browse product component\n",
    "print tql(f_encode( f_med5l(3920)+'*'+ f_med5lNN(3920), 'float', '\"tif\"'))\n",
    "\n",
    "\n",
    "print tql(f_encode( f_med5l(3920)+'*'+ f_med5lNN(3920), 'float', '\"tif\"'))\n",
    "\n",
    "print tql(f_encode( f_toEncode1L(3920) , 'unsigned char', '\"jpg\"'))\n",
    "\n",
    "\n",
    "\n",
    "\n",
    "\n",
    "print tql(f_encode( f_toEncode(f_med5l(2529), f_med5lNN(2529)), 'unsigned char', '\"jpg\"'))"
   ]
  },
  {
   "cell_type": "code",
   "execution_count": 115,
   "metadata": {
    "collapsed": false
   },
   "outputs": [
    {
     "name": "stdout",
     "output_type": "stream",
     "text": [
      "http://access.planetserver.eu:8080/rasdaman/ows?service=WCS&version=2.0.1&request=ProcessCoverages&query=for data in ( frt0000b385_07_if164s_trr3 ) return  encode({red:(unsigned char)((((((1 - (data.band_27 / ((0.326086956522 * data.band_56) + (0.673913043478 * data.band_13)))) * ((data.band_27!=65535) * (data.band_56!=65535) * (data.band_13!=65535))) + (( 1 - ((data.band_27!=65535) * (data.band_56!=65535) * (data.band_13!=65535))) * 65535)) - min((((1 - (data.band_27 / ((0.326086956522 * data.band_56) + (0.673913043478 * data.band_13)))) * ((data.band_27!=65535) * (data.band_56!=65535) * (data.band_13!=65535))) + (( 1 - ((data.band_27!=65535) * (data.band_56!=65535) * (data.band_13!=65535))) * 65535)))) * ((data.band_27!=65535) * (data.band_56!=65535) * (data.band_13!=65535)) * (255 / max(((((1 - (data.band_27 / ((0.326086956522 * data.band_56) + (0.673913043478 * data.band_13)))) * ((data.band_27!=65535) * (data.band_56!=65535) * (data.band_13!=65535))) + (( 1 - ((data.band_27!=65535) * (data.band_56!=65535) * (data.band_13!=65535))) * 65535)) - min((((1 - (data.band_27 / ((0.326086956522 * data.band_56) + (0.673913043478 * data.band_13)))) * ((data.band_27!=65535) * (data.band_56!=65535) * (data.band_13!=65535))) + (( 1 - ((data.band_27!=65535) * (data.band_56!=65535) * (data.band_13!=65535))) * 65535)))) * ((data.band_27!=65535) * (data.band_56!=65535) * (data.band_13!=65535))))));green:(unsigned char)((((((1 - (((0.633879781421 * data.band_27) + (0.366120218579 * data.band_56)) / data.band_38)) * ((data.band_38!=65535) * (data.band_27!=65535) * (data.band_56!=65535))) + (( 1 - ((data.band_38!=65535) * (data.band_27!=65535) * (data.band_56!=65535))) * 65535)) - min((((1 - (((0.633879781421 * data.band_27) + (0.366120218579 * data.band_56)) / data.band_38)) * ((data.band_38!=65535) * (data.band_27!=65535) * (data.band_56!=65535))) + (( 1 - ((data.band_38!=65535) * (data.band_27!=65535) * (data.band_56!=65535))) * 65535)))) * ((data.band_38!=65535) * (data.band_27!=65535) * (data.band_56!=65535)) * (255 / max(((((1 - (((0.633879781421 * data.band_27) + (0.366120218579 * data.band_56)) / data.band_38)) * ((data.band_38!=65535) * (data.band_27!=65535) * (data.band_56!=65535))) + (( 1 - ((data.band_38!=65535) * (data.band_27!=65535) * (data.band_56!=65535))) * 65535)) - min((((1 - (((0.633879781421 * data.band_27) + (0.366120218579 * data.band_56)) / data.band_38)) * ((data.band_38!=65535) * (data.band_27!=65535) * (data.band_56!=65535))) + (( 1 - ((data.band_38!=65535) * (data.band_27!=65535) * (data.band_56!=65535))) * 65535)))) * ((data.band_38!=65535) * (data.band_27!=65535) * (data.band_56!=65535))))));blue:(unsigned char)(((((data.band_64 * (data.band_64!=65535)) + (( 1 - (data.band_64!=65535)) * 65535)) - min(((data.band_64 * (data.band_64!=65535)) + (( 1 - (data.band_64!=65535)) * 65535)))) * (data.band_64!=65535) * (255 / max((((data.band_64 * (data.band_64!=65535)) + (( 1 - (data.band_64!=65535)) * 65535)) - min(((data.band_64 * (data.band_64!=65535)) + (( 1 - (data.band_64!=65535)) * 65535)))) * (data.band_64!=65535)))))},\"jpg\",\"nodata=null\");\n"
     ]
    }
   ],
   "source": [
    "##TEST RUN RGB:\n",
    "print tqs(f_encodeRGB(f_toEncodeBD3S(530,716,440),f_toEncodeSH3S(600,533,716),f_toEncode1S(770), 'unsigned char', '\"jpg\"')) "
   ]
  },
  {
   "cell_type": "code",
   "execution_count": null,
   "metadata": {
    "collapsed": true
   },
   "outputs": [],
   "source": []
  }
 ],
 "metadata": {
  "kernelspec": {
   "display_name": "Python 2",
   "language": "python",
   "name": "python2"
  },
  "language_info": {
   "codemirror_mode": {
    "name": "ipython",
    "version": 2
   },
   "file_extension": ".py",
   "mimetype": "text/x-python",
   "name": "python",
   "nbconvert_exporter": "python",
   "pygments_lexer": "ipython2",
   "version": "2.7.6"
  }
 },
 "nbformat": 4,
 "nbformat_minor": 0
}
